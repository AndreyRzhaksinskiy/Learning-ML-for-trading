{
 "cells": [
  {
   "cell_type": "markdown",
   "id": "consolidated-vault",
   "metadata": {
    "id": "consolidated-vault"
   },
   "source": [
    "# Hierarchical Risk Parity\n",
    "\n",
    "HRP is a modern portfolio optimization method inspired by machine learning.\n",
    "\n",
    "The idea is that by examining the hierarchical structure of the market, we can better diversify. \n",
    "\n",
    "In this cookbook recipe, we will cover:\n",
    "\n",
    "- Downloading data for HRP\n",
    "- Using HRP to find the minimum variance portfolio\n",
    "- Plotting dendrograms\n",
    "\n",
    "[![Open In Colab](https://colab.research.google.com/assets/colab-badge.svg)](https://colab.research.google.com/github/robertmartin8/PyPortfolioOpt/blob/master/cookbook/5-Hierarchical-Risk-Parity.ipynb)\n",
    "    \n",
    "[![Kaggle](https://kaggle.com/static/images/open-in-kaggle.svg)](https://kaggle.com/kernels/welcome?src=https://github.com/robertmartin8/PyPortfolioOpt/blob/master/cookbook/5-Hierarchical-Risk-Parity.ipynb)\n",
    "    \n",
    "[![Gradient](https://assets.paperspace.io/img/gradient-badge.svg)](https://console.paperspace.com/github/robertmartin8/PyPortfolioOpt/blob/master/cookbook/5-Hierarchical-Risk-Parity.ipynb)\n",
    "    \n",
    "[![Open In SageMaker Studio Lab](https://studiolab.sagemaker.aws/studiolab.svg)](https://studiolab.sagemaker.aws/import/github/robertmartin8/PyPortfolioOpt/blob/master/cookbook/5-Hierarchical-Risk-Parity.ipynb)\n"
   ]
  },
  {
   "cell_type": "markdown",
   "id": "fa6394c7",
   "metadata": {},
   "source": [
    "### Группировка бумаг по внутренней структуре рынка\n"
   ]
  },
  {
   "cell_type": "markdown",
   "id": "saving-safety",
   "metadata": {
    "id": "saving-safety"
   },
   "source": [
    "## Downloading data\n",
    "\n",
    "HRP only requires historical returns"
   ]
  },
  {
   "cell_type": "code",
   "execution_count": 1,
   "id": "kvgN-hAEBYHZ",
   "metadata": {
    "colab": {
     "base_uri": "https://localhost:8080/"
    },
    "id": "kvgN-hAEBYHZ",
    "outputId": "2cd60bf1-d484-405c-8d92-a8101f6e6750"
   },
   "outputs": [],
   "source": [
    "# !pip install pandas numpy matplotlib yfinance PyPortfolioOpt\n",
    "import os\n",
    "if not os.path.isdir('data'):\n",
    "    os.system('git clone https://github.com/robertmartin8/PyPortfolioOpt.git')\n",
    "    os.chdir('PyPortfolioOpt/cookbook')"
   ]
  },
  {
   "cell_type": "code",
   "execution_count": 2,
   "id": "committed-riverside",
   "metadata": {
    "colab": {
     "base_uri": "https://localhost:8080/",
     "height": 35
    },
    "id": "committed-riverside",
    "outputId": "a3c8fb63-b1ef-4696-c0df-5b16f37700d8"
   },
   "outputs": [
    {
     "data": {
      "text/plain": [
       "'1.5.3'"
      ]
     },
     "execution_count": 2,
     "metadata": {},
     "output_type": "execute_result"
    }
   ],
   "source": [
    "import numpy as np\n",
    "import pandas as pd\n",
    "import matplotlib.pyplot as plt\n",
    "import yfinance as yf\n",
    "import pypfopt\n",
    "\n",
    "pypfopt.__version__"
   ]
  },
  {
   "cell_type": "code",
   "execution_count": 3,
   "id": "accredited-enterprise",
   "metadata": {
    "colab": {
     "base_uri": "https://localhost:8080/",
     "height": 385
    },
    "id": "accredited-enterprise",
    "outputId": "8ffbfbd3-9b0f-4c86-ec5a-0508c068314d"
   },
   "outputs": [
    {
     "name": "stdout",
     "output_type": "stream",
     "text": [
      "[*********************100%***********************]  31 of 31 completed\n"
     ]
    },
    {
     "data": {
      "text/html": [
       "<div>\n",
       "<style scoped>\n",
       "    .dataframe tbody tr th:only-of-type {\n",
       "        vertical-align: middle;\n",
       "    }\n",
       "\n",
       "    .dataframe tbody tr th {\n",
       "        vertical-align: top;\n",
       "    }\n",
       "\n",
       "    .dataframe thead th {\n",
       "        text-align: right;\n",
       "    }\n",
       "</style>\n",
       "<table border=\"1\" class=\"dataframe\">\n",
       "  <thead>\n",
       "    <tr style=\"text-align: right;\">\n",
       "      <th></th>\n",
       "      <th>AAPL</th>\n",
       "      <th>AMD</th>\n",
       "      <th>BAC</th>\n",
       "      <th>BLK</th>\n",
       "      <th>CVS</th>\n",
       "      <th>DIS</th>\n",
       "      <th>INTU</th>\n",
       "      <th>JD</th>\n",
       "      <th>JNJ</th>\n",
       "      <th>JPM</th>\n",
       "      <th>...</th>\n",
       "      <th>LOW</th>\n",
       "      <th>LPLA</th>\n",
       "      <th>MA</th>\n",
       "      <th>MAT</th>\n",
       "      <th>NVDA</th>\n",
       "      <th>PBI</th>\n",
       "      <th>TGT</th>\n",
       "      <th>TM</th>\n",
       "      <th>UL</th>\n",
       "      <th>WMT</th>\n",
       "    </tr>\n",
       "    <tr>\n",
       "      <th>Date</th>\n",
       "      <th></th>\n",
       "      <th></th>\n",
       "      <th></th>\n",
       "      <th></th>\n",
       "      <th></th>\n",
       "      <th></th>\n",
       "      <th></th>\n",
       "      <th></th>\n",
       "      <th></th>\n",
       "      <th></th>\n",
       "      <th></th>\n",
       "      <th></th>\n",
       "      <th></th>\n",
       "      <th></th>\n",
       "      <th></th>\n",
       "      <th></th>\n",
       "      <th></th>\n",
       "      <th></th>\n",
       "      <th></th>\n",
       "      <th></th>\n",
       "      <th></th>\n",
       "    </tr>\n",
       "  </thead>\n",
       "  <tbody>\n",
       "    <tr>\n",
       "      <th>2022-08-15</th>\n",
       "      <td>173.190002</td>\n",
       "      <td>101.010002</td>\n",
       "      <td>36.250000</td>\n",
       "      <td>755.820007</td>\n",
       "      <td>106.269997</td>\n",
       "      <td>124.260002</td>\n",
       "      <td>489.230011</td>\n",
       "      <td>57.980000</td>\n",
       "      <td>166.089996</td>\n",
       "      <td>122.459999</td>\n",
       "      <td>...</td>\n",
       "      <td>208.039993</td>\n",
       "      <td>225.779999</td>\n",
       "      <td>359.950012</td>\n",
       "      <td>23.209999</td>\n",
       "      <td>190.320007</td>\n",
       "      <td>3.420570</td>\n",
       "      <td>172.309998</td>\n",
       "      <td>160.460007</td>\n",
       "      <td>47.810001</td>\n",
       "      <td>132.600006</td>\n",
       "    </tr>\n",
       "    <tr>\n",
       "      <th>2022-08-16</th>\n",
       "      <td>173.029999</td>\n",
       "      <td>100.199997</td>\n",
       "      <td>36.639999</td>\n",
       "      <td>757.070007</td>\n",
       "      <td>106.430000</td>\n",
       "      <td>124.959999</td>\n",
       "      <td>488.179993</td>\n",
       "      <td>57.290001</td>\n",
       "      <td>167.570007</td>\n",
       "      <td>123.629997</td>\n",
       "      <td>...</td>\n",
       "      <td>214.119995</td>\n",
       "      <td>229.130005</td>\n",
       "      <td>359.250000</td>\n",
       "      <td>23.799999</td>\n",
       "      <td>188.789993</td>\n",
       "      <td>3.440285</td>\n",
       "      <td>180.190002</td>\n",
       "      <td>159.419998</td>\n",
       "      <td>47.650002</td>\n",
       "      <td>139.369995</td>\n",
       "    </tr>\n",
       "    <tr>\n",
       "      <th>2022-08-17</th>\n",
       "      <td>174.550003</td>\n",
       "      <td>98.269997</td>\n",
       "      <td>36.410000</td>\n",
       "      <td>743.219971</td>\n",
       "      <td>104.919998</td>\n",
       "      <td>122.809998</td>\n",
       "      <td>478.299988</td>\n",
       "      <td>56.150002</td>\n",
       "      <td>167.580002</td>\n",
       "      <td>122.589996</td>\n",
       "      <td>...</td>\n",
       "      <td>215.369995</td>\n",
       "      <td>231.820007</td>\n",
       "      <td>355.329987</td>\n",
       "      <td>23.469999</td>\n",
       "      <td>183.350006</td>\n",
       "      <td>3.479715</td>\n",
       "      <td>175.339996</td>\n",
       "      <td>160.770004</td>\n",
       "      <td>47.650002</td>\n",
       "      <td>139.520004</td>\n",
       "    </tr>\n",
       "    <tr>\n",
       "      <th>2022-08-18</th>\n",
       "      <td>174.149994</td>\n",
       "      <td>100.440002</td>\n",
       "      <td>36.279999</td>\n",
       "      <td>745.219971</td>\n",
       "      <td>103.639999</td>\n",
       "      <td>122.669998</td>\n",
       "      <td>477.760010</td>\n",
       "      <td>55.189999</td>\n",
       "      <td>166.770004</td>\n",
       "      <td>121.639999</td>\n",
       "      <td>...</td>\n",
       "      <td>216.470001</td>\n",
       "      <td>231.949997</td>\n",
       "      <td>357.359985</td>\n",
       "      <td>24.100000</td>\n",
       "      <td>187.729996</td>\n",
       "      <td>3.460000</td>\n",
       "      <td>173.050003</td>\n",
       "      <td>159.130005</td>\n",
       "      <td>47.349998</td>\n",
       "      <td>139.070007</td>\n",
       "    </tr>\n",
       "    <tr>\n",
       "      <th>2022-08-19</th>\n",
       "      <td>171.520004</td>\n",
       "      <td>95.949997</td>\n",
       "      <td>35.480000</td>\n",
       "      <td>713.849976</td>\n",
       "      <td>104.050003</td>\n",
       "      <td>120.139999</td>\n",
       "      <td>463.950012</td>\n",
       "      <td>54.700001</td>\n",
       "      <td>169.309998</td>\n",
       "      <td>118.629997</td>\n",
       "      <td>...</td>\n",
       "      <td>211.360001</td>\n",
       "      <td>224.389999</td>\n",
       "      <td>354.279999</td>\n",
       "      <td>24.209999</td>\n",
       "      <td>178.490005</td>\n",
       "      <td>3.330000</td>\n",
       "      <td>167.039993</td>\n",
       "      <td>156.460007</td>\n",
       "      <td>47.410000</td>\n",
       "      <td>137.020004</td>\n",
       "    </tr>\n",
       "  </tbody>\n",
       "</table>\n",
       "<p>5 rows × 31 columns</p>\n",
       "</div>"
      ],
      "text/plain": [
       "                  AAPL         AMD        BAC         BLK         CVS  \\\n",
       "Date                                                                    \n",
       "2022-08-15  173.190002  101.010002  36.250000  755.820007  106.269997   \n",
       "2022-08-16  173.029999  100.199997  36.639999  757.070007  106.430000   \n",
       "2022-08-17  174.550003   98.269997  36.410000  743.219971  104.919998   \n",
       "2022-08-18  174.149994  100.440002  36.279999  745.219971  103.639999   \n",
       "2022-08-19  171.520004   95.949997  35.480000  713.849976  104.050003   \n",
       "\n",
       "                   DIS        INTU         JD         JNJ         JPM  ...  \\\n",
       "Date                                                                   ...   \n",
       "2022-08-15  124.260002  489.230011  57.980000  166.089996  122.459999  ...   \n",
       "2022-08-16  124.959999  488.179993  57.290001  167.570007  123.629997  ...   \n",
       "2022-08-17  122.809998  478.299988  56.150002  167.580002  122.589996  ...   \n",
       "2022-08-18  122.669998  477.760010  55.189999  166.770004  121.639999  ...   \n",
       "2022-08-19  120.139999  463.950012  54.700001  169.309998  118.629997  ...   \n",
       "\n",
       "                   LOW        LPLA          MA        MAT        NVDA  \\\n",
       "Date                                                                    \n",
       "2022-08-15  208.039993  225.779999  359.950012  23.209999  190.320007   \n",
       "2022-08-16  214.119995  229.130005  359.250000  23.799999  188.789993   \n",
       "2022-08-17  215.369995  231.820007  355.329987  23.469999  183.350006   \n",
       "2022-08-18  216.470001  231.949997  357.359985  24.100000  187.729996   \n",
       "2022-08-19  211.360001  224.389999  354.279999  24.209999  178.490005   \n",
       "\n",
       "                 PBI         TGT          TM         UL         WMT  \n",
       "Date                                                                 \n",
       "2022-08-15  3.420570  172.309998  160.460007  47.810001  132.600006  \n",
       "2022-08-16  3.440285  180.190002  159.419998  47.650002  139.369995  \n",
       "2022-08-17  3.479715  175.339996  160.770004  47.650002  139.520004  \n",
       "2022-08-18  3.460000  173.050003  159.130005  47.349998  139.070007  \n",
       "2022-08-19  3.330000  167.039993  156.460007  47.410000  137.020004  \n",
       "\n",
       "[5 rows x 31 columns]"
      ]
     },
     "execution_count": 3,
     "metadata": {},
     "output_type": "execute_result"
    }
   ],
   "source": [
    "tickers = [\"BLK\", \"BAC\", \"AAPL\", \"TM\", \"WMT\",\n",
    "           \"JD\", \"INTU\", \"MA\", \"UL\", \"CVS\",\n",
    "           \"DIS\", \"AMD\", \"NVDA\", \"PBI\", \"TGT\"]\n",
    "\n",
    "\n",
    "tickers = [\"BLK\", \"BAC\", \"AAPL\", \"TM\", \"WMT\",\n",
    "           \"JD\", \"INTU\", \"MA\", \"UL\", \"CVS\",\n",
    "           \"DIS\", \"AMD\", \"NVDA\", \"PBI\", \"TGT\",\n",
    "           'JNJ', 'JPM', 'KDP', 'KEY', 'KHC',\n",
    "           'KIDS', 'KMB', 'KO', 'KR', 'LEN',\n",
    "           'LKQ', 'LMT', 'LNT', 'LOW', 'LPLA', 'MAT', ]\n",
    "\n",
    "\n",
    "\n",
    "\n",
    "ohlc = yf.download(tickers, period=\"max\")\n",
    "prices = ohlc[\"Adj Close\"]\n",
    "prices.tail()"
   ]
  },
  {
   "cell_type": "code",
   "execution_count": 4,
   "id": "confident-plant",
   "metadata": {
    "colab": {
     "base_uri": "https://localhost:8080/",
     "height": 281
    },
    "id": "confident-plant",
    "outputId": "3ca52fc5-22ff-4a25-d58d-9f3700b04bb3"
   },
   "outputs": [
    {
     "data": {
      "text/html": [
       "<div>\n",
       "<style scoped>\n",
       "    .dataframe tbody tr th:only-of-type {\n",
       "        vertical-align: middle;\n",
       "    }\n",
       "\n",
       "    .dataframe tbody tr th {\n",
       "        vertical-align: top;\n",
       "    }\n",
       "\n",
       "    .dataframe thead th {\n",
       "        text-align: right;\n",
       "    }\n",
       "</style>\n",
       "<table border=\"1\" class=\"dataframe\">\n",
       "  <thead>\n",
       "    <tr style=\"text-align: right;\">\n",
       "      <th></th>\n",
       "      <th>AAPL</th>\n",
       "      <th>AMD</th>\n",
       "      <th>BAC</th>\n",
       "      <th>BLK</th>\n",
       "      <th>CVS</th>\n",
       "      <th>DIS</th>\n",
       "      <th>INTU</th>\n",
       "      <th>JD</th>\n",
       "      <th>JNJ</th>\n",
       "      <th>JPM</th>\n",
       "      <th>...</th>\n",
       "      <th>LOW</th>\n",
       "      <th>LPLA</th>\n",
       "      <th>MA</th>\n",
       "      <th>MAT</th>\n",
       "      <th>NVDA</th>\n",
       "      <th>PBI</th>\n",
       "      <th>TGT</th>\n",
       "      <th>TM</th>\n",
       "      <th>UL</th>\n",
       "      <th>WMT</th>\n",
       "    </tr>\n",
       "    <tr>\n",
       "      <th>Date</th>\n",
       "      <th></th>\n",
       "      <th></th>\n",
       "      <th></th>\n",
       "      <th></th>\n",
       "      <th></th>\n",
       "      <th></th>\n",
       "      <th></th>\n",
       "      <th></th>\n",
       "      <th></th>\n",
       "      <th></th>\n",
       "      <th></th>\n",
       "      <th></th>\n",
       "      <th></th>\n",
       "      <th></th>\n",
       "      <th></th>\n",
       "      <th></th>\n",
       "      <th></th>\n",
       "      <th></th>\n",
       "      <th></th>\n",
       "      <th></th>\n",
       "      <th></th>\n",
       "    </tr>\n",
       "  </thead>\n",
       "  <tbody>\n",
       "    <tr>\n",
       "      <th>2022-08-15</th>\n",
       "      <td>0.006334</td>\n",
       "      <td>0.001785</td>\n",
       "      <td>-0.001377</td>\n",
       "      <td>0.005307</td>\n",
       "      <td>-0.001128</td>\n",
       "      <td>0.022127</td>\n",
       "      <td>0.005281</td>\n",
       "      <td>0.016301</td>\n",
       "      <td>0.004779</td>\n",
       "      <td>0.002702</td>\n",
       "      <td>...</td>\n",
       "      <td>0.007604</td>\n",
       "      <td>-0.006811</td>\n",
       "      <td>0.016033</td>\n",
       "      <td>-0.014019</td>\n",
       "      <td>0.017264</td>\n",
       "      <td>0.005797</td>\n",
       "      <td>0.005276</td>\n",
       "      <td>-0.005269</td>\n",
       "      <td>0.000628</td>\n",
       "      <td>0.002874</td>\n",
       "    </tr>\n",
       "    <tr>\n",
       "      <th>2022-08-16</th>\n",
       "      <td>-0.000924</td>\n",
       "      <td>-0.008019</td>\n",
       "      <td>0.010759</td>\n",
       "      <td>0.001654</td>\n",
       "      <td>0.001506</td>\n",
       "      <td>0.005633</td>\n",
       "      <td>-0.002146</td>\n",
       "      <td>-0.011901</td>\n",
       "      <td>0.008911</td>\n",
       "      <td>0.009554</td>\n",
       "      <td>...</td>\n",
       "      <td>0.029225</td>\n",
       "      <td>0.014837</td>\n",
       "      <td>-0.001945</td>\n",
       "      <td>0.025420</td>\n",
       "      <td>-0.008039</td>\n",
       "      <td>0.005764</td>\n",
       "      <td>0.045732</td>\n",
       "      <td>-0.006481</td>\n",
       "      <td>-0.003347</td>\n",
       "      <td>0.051056</td>\n",
       "    </tr>\n",
       "    <tr>\n",
       "      <th>2022-08-17</th>\n",
       "      <td>0.008785</td>\n",
       "      <td>-0.019261</td>\n",
       "      <td>-0.006277</td>\n",
       "      <td>-0.018294</td>\n",
       "      <td>-0.014188</td>\n",
       "      <td>-0.017206</td>\n",
       "      <td>-0.020238</td>\n",
       "      <td>-0.019899</td>\n",
       "      <td>0.000060</td>\n",
       "      <td>-0.008412</td>\n",
       "      <td>...</td>\n",
       "      <td>0.005838</td>\n",
       "      <td>0.011740</td>\n",
       "      <td>-0.010912</td>\n",
       "      <td>-0.013866</td>\n",
       "      <td>-0.028815</td>\n",
       "      <td>0.011461</td>\n",
       "      <td>-0.026916</td>\n",
       "      <td>0.008468</td>\n",
       "      <td>0.000000</td>\n",
       "      <td>0.001076</td>\n",
       "    </tr>\n",
       "    <tr>\n",
       "      <th>2022-08-18</th>\n",
       "      <td>-0.002292</td>\n",
       "      <td>0.022082</td>\n",
       "      <td>-0.003570</td>\n",
       "      <td>0.002691</td>\n",
       "      <td>-0.012200</td>\n",
       "      <td>-0.001140</td>\n",
       "      <td>-0.001129</td>\n",
       "      <td>-0.017097</td>\n",
       "      <td>-0.004833</td>\n",
       "      <td>-0.007749</td>\n",
       "      <td>...</td>\n",
       "      <td>0.005108</td>\n",
       "      <td>0.000561</td>\n",
       "      <td>0.005713</td>\n",
       "      <td>0.026843</td>\n",
       "      <td>0.023889</td>\n",
       "      <td>-0.005666</td>\n",
       "      <td>-0.013060</td>\n",
       "      <td>-0.010201</td>\n",
       "      <td>-0.006296</td>\n",
       "      <td>-0.003225</td>\n",
       "    </tr>\n",
       "    <tr>\n",
       "      <th>2022-08-19</th>\n",
       "      <td>-0.015102</td>\n",
       "      <td>-0.044703</td>\n",
       "      <td>-0.022051</td>\n",
       "      <td>-0.042095</td>\n",
       "      <td>0.003956</td>\n",
       "      <td>-0.020624</td>\n",
       "      <td>-0.028906</td>\n",
       "      <td>-0.008878</td>\n",
       "      <td>0.015231</td>\n",
       "      <td>-0.024745</td>\n",
       "      <td>...</td>\n",
       "      <td>-0.023606</td>\n",
       "      <td>-0.032593</td>\n",
       "      <td>-0.008619</td>\n",
       "      <td>0.004564</td>\n",
       "      <td>-0.049220</td>\n",
       "      <td>-0.037572</td>\n",
       "      <td>-0.034730</td>\n",
       "      <td>-0.016779</td>\n",
       "      <td>0.001267</td>\n",
       "      <td>-0.014741</td>\n",
       "    </tr>\n",
       "  </tbody>\n",
       "</table>\n",
       "<p>5 rows × 31 columns</p>\n",
       "</div>"
      ],
      "text/plain": [
       "                AAPL       AMD       BAC       BLK       CVS       DIS  \\\n",
       "Date                                                                     \n",
       "2022-08-15  0.006334  0.001785 -0.001377  0.005307 -0.001128  0.022127   \n",
       "2022-08-16 -0.000924 -0.008019  0.010759  0.001654  0.001506  0.005633   \n",
       "2022-08-17  0.008785 -0.019261 -0.006277 -0.018294 -0.014188 -0.017206   \n",
       "2022-08-18 -0.002292  0.022082 -0.003570  0.002691 -0.012200 -0.001140   \n",
       "2022-08-19 -0.015102 -0.044703 -0.022051 -0.042095  0.003956 -0.020624   \n",
       "\n",
       "                INTU        JD       JNJ       JPM  ...       LOW      LPLA  \\\n",
       "Date                                                ...                       \n",
       "2022-08-15  0.005281  0.016301  0.004779  0.002702  ...  0.007604 -0.006811   \n",
       "2022-08-16 -0.002146 -0.011901  0.008911  0.009554  ...  0.029225  0.014837   \n",
       "2022-08-17 -0.020238 -0.019899  0.000060 -0.008412  ...  0.005838  0.011740   \n",
       "2022-08-18 -0.001129 -0.017097 -0.004833 -0.007749  ...  0.005108  0.000561   \n",
       "2022-08-19 -0.028906 -0.008878  0.015231 -0.024745  ... -0.023606 -0.032593   \n",
       "\n",
       "                  MA       MAT      NVDA       PBI       TGT        TM  \\\n",
       "Date                                                                     \n",
       "2022-08-15  0.016033 -0.014019  0.017264  0.005797  0.005276 -0.005269   \n",
       "2022-08-16 -0.001945  0.025420 -0.008039  0.005764  0.045732 -0.006481   \n",
       "2022-08-17 -0.010912 -0.013866 -0.028815  0.011461 -0.026916  0.008468   \n",
       "2022-08-18  0.005713  0.026843  0.023889 -0.005666 -0.013060 -0.010201   \n",
       "2022-08-19 -0.008619  0.004564 -0.049220 -0.037572 -0.034730 -0.016779   \n",
       "\n",
       "                  UL       WMT  \n",
       "Date                            \n",
       "2022-08-15  0.000628  0.002874  \n",
       "2022-08-16 -0.003347  0.051056  \n",
       "2022-08-17  0.000000  0.001076  \n",
       "2022-08-18 -0.006296 -0.003225  \n",
       "2022-08-19  0.001267 -0.014741  \n",
       "\n",
       "[5 rows x 31 columns]"
      ]
     },
     "execution_count": 4,
     "metadata": {},
     "output_type": "execute_result"
    }
   ],
   "source": [
    "from pypfopt import expected_returns\n",
    "\n",
    "rets = expected_returns.returns_from_prices(prices)\n",
    "rets.tail()"
   ]
  },
  {
   "cell_type": "markdown",
   "id": "answering-tamil",
   "metadata": {
    "id": "answering-tamil"
   },
   "source": [
    "## HRP optimization\n",
    "\n",
    "HRP uses a completely different backend, so it is currently not possible to pass constraints or specify an objective function."
   ]
  },
  {
   "cell_type": "code",
   "execution_count": 5,
   "id": "crazy-minority",
   "metadata": {
    "id": "crazy-minority"
   },
   "outputs": [],
   "source": [
    "from pypfopt import HRPOpt"
   ]
  },
  {
   "cell_type": "code",
   "execution_count": 6,
   "id": "determined-license",
   "metadata": {
    "colab": {
     "base_uri": "https://localhost:8080/"
    },
    "id": "determined-license",
    "outputId": "ba776958-535f-475b-b6bf-7c6994d311f8"
   },
   "outputs": [
    {
     "data": {
      "text/plain": [
       "OrderedDict([('AAPL', 0.0152),\n",
       "             ('AMD', 0.00717),\n",
       "             ('BAC', 0.01164),\n",
       "             ('BLK', 0.02013),\n",
       "             ('CVS', 0.04488),\n",
       "             ('DIS', 0.02991),\n",
       "             ('INTU', 0.01361),\n",
       "             ('JD', 0.01902),\n",
       "             ('JNJ', 0.07975),\n",
       "             ('JPM', 0.01584),\n",
       "             ('KDP', 0.05146),\n",
       "             ('KEY', 0.01059),\n",
       "             ('KHC', 0.03436),\n",
       "             ('KIDS', 0.01509),\n",
       "             ('KMB', 0.05607),\n",
       "             ('KO', 0.05674),\n",
       "             ('KR', 0.0664),\n",
       "             ('LEN', 0.01619),\n",
       "             ('LKQ', 0.02302),\n",
       "             ('LMT', 0.04634),\n",
       "             ('LNT', 0.08131),\n",
       "             ('LOW', 0.0216),\n",
       "             ('LPLA', 0.01518),\n",
       "             ('MA', 0.02031),\n",
       "             ('MAT', 0.02398),\n",
       "             ('NVDA', 0.00691),\n",
       "             ('PBI', 0.02721),\n",
       "             ('TGT', 0.02699),\n",
       "             ('TM', 0.03891),\n",
       "             ('UL', 0.06959),\n",
       "             ('WMT', 0.03461)])"
      ]
     },
     "execution_count": 6,
     "metadata": {},
     "output_type": "execute_result"
    }
   ],
   "source": [
    "hrp = HRPOpt(rets)\n",
    "hrp.optimize()\n",
    "weights = hrp.clean_weights()\n",
    "weights"
   ]
  },
  {
   "cell_type": "code",
   "execution_count": 7,
   "id": "existing-memphis",
   "metadata": {
    "colab": {
     "base_uri": "https://localhost:8080/",
     "height": 575
    },
    "id": "existing-memphis",
    "outputId": "721f641a-3871-4bae-84f8-94cc0b75be87"
   },
   "outputs": [
    {
     "data": {
      "image/png": "[encoded data removed]",
      "text/plain": [
       "<Figure size 720x720 with 1 Axes>"
      ]
     },
     "metadata": {},
     "output_type": "display_data"
    }
   ],
   "source": [
    "pd.Series(weights).plot.pie(figsize=(10, 10));"
   ]
  },
  {
   "cell_type": "code",
   "execution_count": 8,
   "id": "dramatic-spyware",
   "metadata": {
    "colab": {
     "base_uri": "https://localhost:8080/"
    },
    "id": "dramatic-spyware",
    "outputId": "03958175-ebf7-4eb0-cc3a-57d969056f36"
   },
   "outputs": [
    {
     "name": "stdout",
     "output_type": "stream",
     "text": [
      "Expected annual return: 17.5%\n",
      "Annual volatility: 16.2%\n",
      "Sharpe Ratio: 0.96\n"
     ]
    }
   ],
   "source": [
    "hrp.portfolio_performance(verbose=True);"
   ]
  },
  {
   "cell_type": "markdown",
   "id": "occupational-costume",
   "metadata": {
    "id": "occupational-costume"
   },
   "source": [
    "## Plotting\n",
    "\n",
    "It is very simple to plot a dendrogram (tree diagram) based on the hierarchical structure of asset returns"
   ]
  },
  {
   "cell_type": "code",
   "execution_count": 9,
   "id": "9ceda6fe",
   "metadata": {},
   "outputs": [],
   "source": [
    "# from matplotlib.pyplot import figure, rc\n",
    "# figure(figsize=(20, 12), dpi=80)\n",
    "# font = {'family' : 'normal',\n",
    "#         'weight' : 'bold',\n",
    "#         'size'   : 22}\n",
    "\n",
    "# rc('font', **font)"
   ]
  },
  {
   "cell_type": "code",
   "execution_count": 10,
   "id": "upset-meaning",
   "metadata": {
    "colab": {
     "base_uri": "https://localhost:8080/",
     "height": 297
    },
    "id": "upset-meaning",
    "outputId": "65f2985a-e74f-405c-a01a-d7877a0e5326"
   },
   "outputs": [
    {
     "data": {
      "image/png": "[encoded data removed]",
      "text/plain": [
       "<Figure size 432x288 with 1 Axes>"
      ]
     },
     "metadata": {
      "needs_background": "light"
     },
     "output_type": "display_data"
    }
   ],
   "source": [
    "from pypfopt import plotting\n",
    "\n",
    "# figure(figsize=(20, 12))\n",
    "plotting.plot_dendrogram(hrp); "
   ]
  },
  {
   "cell_type": "markdown",
   "id": "brave-shock",
   "metadata": {
    "id": "brave-shock"
   },
   "source": [
    "If you look at this dendogram closely, you can see that most of the clusters make a lot of sense. For example, AMD and NVDA (both semiconductor manufacturers) are grouped."
   ]
  },
  {
   "cell_type": "code",
   "execution_count": null,
   "id": "b16f6826",
   "metadata": {},
   "outputs": [],
   "source": []
  }
 ],
 "metadata": {
  "colab": {
   "collapsed_sections": [],
   "name": "5-Hierarchical-Risk-Parity.ipynb",
   "provenance": []
  },
  "kernelspec": {
   "display_name": "Python 3",
   "language": "python",
   "name": "python3"
  },
  "language_info": {
   "codemirror_mode": {
    "name": "ipython",
    "version": 3
   },
   "file_extension": ".py",
   "mimetype": "text/x-python",
   "name": "python",
   "nbconvert_exporter": "python",
   "pygments_lexer": "ipython3",
   "version": "3.8.8"
  }
 },
 "nbformat": 4,
 "nbformat_minor": 5
}
