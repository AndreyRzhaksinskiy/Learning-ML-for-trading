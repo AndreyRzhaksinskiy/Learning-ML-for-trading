{
 "cells": [
  {
   "cell_type": "markdown",
   "id": "consolidated-vault",
   "metadata": {
    "id": "consolidated-vault"
   },
   "source": [
    "# Hierarchical Risk Parity\n",
    "\n",
    "HRP is a modern portfolio optimization method inspired by machine learning.\n",
    "\n",
    "The idea is that by examining the hierarchical structure of the market, we can better diversify. \n",
    "\n",
    "In this cookbook recipe, we will cover:\n",
    "\n",
    "- Downloading data for HRP\n",
    "- Using HRP to find the minimum variance portfolio\n",
    "- Plotting dendrograms\n",
    "\n",
    "[![Open In Colab](https://colab.research.google.com/assets/colab-badge.svg)](https://colab.research.google.com/github/robertmartin8/PyPortfolioOpt/blob/master/cookbook/5-Hierarchical-Risk-Parity.ipynb)\n",
    "    \n",
    "[![Kaggle](https://kaggle.com/static/images/open-in-kaggle.svg)](https://kaggle.com/kernels/welcome?src=https://github.com/robertmartin8/PyPortfolioOpt/blob/master/cookbook/5-Hierarchical-Risk-Parity.ipynb)\n",
    "    \n",
    "[![Gradient](https://assets.paperspace.io/img/gradient-badge.svg)](https://console.paperspace.com/github/robertmartin8/PyPortfolioOpt/blob/master/cookbook/5-Hierarchical-Risk-Parity.ipynb)\n",
    "    \n",
    "[![Open In SageMaker Studio Lab](https://studiolab.sagemaker.aws/studiolab.svg)](https://studiolab.sagemaker.aws/import/github/robertmartin8/PyPortfolioOpt/blob/master/cookbook/5-Hierarchical-Risk-Parity.ipynb)\n"
   ]
  },
  {
   "cell_type": "markdown",
   "id": "fa6394c7",
   "metadata": {},
   "source": [
    "### Группировка бумаг по внутренней структуре рынка\n"
   ]
  },
  {
   "cell_type": "markdown",
   "id": "saving-safety",
   "metadata": {
    "id": "saving-safety"
   },
   "source": [
    "## Downloading data\n",
    "\n",
    "HRP only requires historical returns"
   ]
  },
  {
   "cell_type": "code",
   "execution_count": 1,
   "id": "kvgN-hAEBYHZ",
   "metadata": {
    "colab": {
     "base_uri": "https://localhost:8080/"
    },
    "id": "kvgN-hAEBYHZ",
    "outputId": "2cd60bf1-d484-405c-8d92-a8101f6e6750"
   },
   "outputs": [],
   "source": [
    "# !pip install pandas numpy matplotlib yfinance PyPortfolioOpt\n",
    "import os\n",
    "if not os.path.isdir('data'):\n",
    "    os.system('git clone https://github.com/robertmartin8/PyPortfolioOpt.git')\n",
    "    os.chdir('PyPortfolioOpt/cookbook')"
   ]
  },
  {
   "cell_type": "code",
   "execution_count": 2,
   "id": "committed-riverside",
   "metadata": {
    "colab": {
     "base_uri": "https://localhost:8080/",
     "height": 35
    },
    "id": "committed-riverside",
    "outputId": "a3c8fb63-b1ef-4696-c0df-5b16f37700d8"
   },
   "outputs": [
    {
     "data": {
      "text/plain": [
       "'1.5.3'"
      ]
     },
     "execution_count": 2,
     "metadata": {},
     "output_type": "execute_result"
    }
   ],
   "source": [
    "import numpy as np\n",
    "import pandas as pd\n",
    "import matplotlib.pyplot as plt\n",
    "import yfinance as yf\n",
    "import pypfopt\n",
    "\n",
    "pypfopt.__version__"
   ]
  },
  {
   "cell_type": "code",
   "execution_count": 3,
   "id": "accredited-enterprise",
   "metadata": {
    "colab": {
     "base_uri": "https://localhost:8080/",
     "height": 385
    },
    "id": "accredited-enterprise",
    "outputId": "8ffbfbd3-9b0f-4c86-ec5a-0508c068314d"
   },
   "outputs": [
    {
     "name": "stdout",
     "output_type": "stream",
     "text": [
      "[*********************100%***********************]  31 of 31 completed\n"
     ]
    },
    {
     "data": {
      "text/html": [
       "<div>\n",
       "<style scoped>\n",
       "    .dataframe tbody tr th:only-of-type {\n",
       "        vertical-align: middle;\n",
       "    }\n",
       "\n",
       "    .dataframe tbody tr th {\n",
       "        vertical-align: top;\n",
       "    }\n",
       "\n",
       "    .dataframe thead th {\n",
       "        text-align: right;\n",
       "    }\n",
       "</style>\n",
       "<table border=\"1\" class=\"dataframe\">\n",
       "  <thead>\n",
       "    <tr style=\"text-align: right;\">\n",
       "      <th></th>\n",
       "      <th>AAPL</th>\n",
       "      <th>AMD</th>\n",
       "      <th>BAC</th>\n",
       "      <th>BLK</th>\n",
       "      <th>CVS</th>\n",
       "      <th>DIS</th>\n",
       "      <th>INTU</th>\n",
       "      <th>JD</th>\n",
       "      <th>JNJ</th>\n",
       "      <th>JPM</th>\n",
       "      <th>...</th>\n",
       "      <th>LOW</th>\n",
       "      <th>LPLA</th>\n",
       "      <th>MA</th>\n",
       "      <th>MAT</th>\n",
       "      <th>NVDA</th>\n",
       "      <th>PBI</th>\n",
       "      <th>TGT</th>\n",
       "      <th>TM</th>\n",
       "      <th>UL</th>\n",
       "      <th>WMT</th>\n",
       "    </tr>\n",
       "    <tr>\n",
       "      <th>Date</th>\n",
       "      <th></th>\n",
       "      <th></th>\n",
       "      <th></th>\n",
       "      <th></th>\n",
       "      <th></th>\n",
       "      <th></th>\n",
       "      <th></th>\n",
       "      <th></th>\n",
       "      <th></th>\n",
       "      <th></th>\n",
       "      <th></th>\n",
       "      <th></th>\n",
       "      <th></th>\n",
       "      <th></th>\n",
       "      <th></th>\n",
       "      <th></th>\n",
       "      <th></th>\n",
       "      <th></th>\n",
       "      <th></th>\n",
       "      <th></th>\n",
       "      <th></th>\n",
       "    </tr>\n",
       "  </thead>\n",
       "  <tbody>\n",
       "    <tr>\n",
       "      <th>2022-08-17</th>\n",
       "      <td>174.550003</td>\n",
       "      <td>98.269997</td>\n",
       "      <td>36.410000</td>\n",
       "      <td>743.219971</td>\n",
       "      <td>104.919998</td>\n",
       "      <td>122.809998</td>\n",
       "      <td>478.299988</td>\n",
       "      <td>56.150002</td>\n",
       "      <td>166.461548</td>\n",
       "      <td>122.589996</td>\n",
       "      <td>...</td>\n",
       "      <td>215.369995</td>\n",
       "      <td>231.820007</td>\n",
       "      <td>355.329987</td>\n",
       "      <td>23.469999</td>\n",
       "      <td>183.350006</td>\n",
       "      <td>3.479715</td>\n",
       "      <td>175.339996</td>\n",
       "      <td>160.770004</td>\n",
       "      <td>47.650002</td>\n",
       "      <td>139.520004</td>\n",
       "    </tr>\n",
       "    <tr>\n",
       "      <th>2022-08-18</th>\n",
       "      <td>174.149994</td>\n",
       "      <td>100.440002</td>\n",
       "      <td>36.279999</td>\n",
       "      <td>745.219971</td>\n",
       "      <td>103.639999</td>\n",
       "      <td>122.669998</td>\n",
       "      <td>477.760010</td>\n",
       "      <td>55.189999</td>\n",
       "      <td>165.656952</td>\n",
       "      <td>121.639999</td>\n",
       "      <td>...</td>\n",
       "      <td>216.470001</td>\n",
       "      <td>231.949997</td>\n",
       "      <td>357.359985</td>\n",
       "      <td>24.100000</td>\n",
       "      <td>187.729996</td>\n",
       "      <td>3.460000</td>\n",
       "      <td>173.050003</td>\n",
       "      <td>159.130005</td>\n",
       "      <td>47.349998</td>\n",
       "      <td>139.070007</td>\n",
       "    </tr>\n",
       "    <tr>\n",
       "      <th>2022-08-19</th>\n",
       "      <td>171.520004</td>\n",
       "      <td>95.949997</td>\n",
       "      <td>35.480000</td>\n",
       "      <td>713.849976</td>\n",
       "      <td>104.050003</td>\n",
       "      <td>120.139999</td>\n",
       "      <td>463.950012</td>\n",
       "      <td>54.700001</td>\n",
       "      <td>168.179993</td>\n",
       "      <td>118.629997</td>\n",
       "      <td>...</td>\n",
       "      <td>211.360001</td>\n",
       "      <td>224.389999</td>\n",
       "      <td>354.279999</td>\n",
       "      <td>24.209999</td>\n",
       "      <td>178.490005</td>\n",
       "      <td>3.330000</td>\n",
       "      <td>167.039993</td>\n",
       "      <td>156.460007</td>\n",
       "      <td>47.410000</td>\n",
       "      <td>137.020004</td>\n",
       "    </tr>\n",
       "    <tr>\n",
       "      <th>2022-08-22</th>\n",
       "      <td>167.570007</td>\n",
       "      <td>92.839996</td>\n",
       "      <td>34.720001</td>\n",
       "      <td>695.049988</td>\n",
       "      <td>102.339996</td>\n",
       "      <td>115.940002</td>\n",
       "      <td>446.119995</td>\n",
       "      <td>55.320000</td>\n",
       "      <td>167.589996</td>\n",
       "      <td>116.669998</td>\n",
       "      <td>...</td>\n",
       "      <td>209.990005</td>\n",
       "      <td>221.000000</td>\n",
       "      <td>345.510010</td>\n",
       "      <td>23.559999</td>\n",
       "      <td>170.339996</td>\n",
       "      <td>3.170000</td>\n",
       "      <td>161.960007</td>\n",
       "      <td>154.320007</td>\n",
       "      <td>47.020000</td>\n",
       "      <td>134.570007</td>\n",
       "    </tr>\n",
       "    <tr>\n",
       "      <th>2022-08-23</th>\n",
       "      <td>167.229996</td>\n",
       "      <td>92.489998</td>\n",
       "      <td>34.410000</td>\n",
       "      <td>696.969971</td>\n",
       "      <td>101.129997</td>\n",
       "      <td>114.860001</td>\n",
       "      <td>449.559998</td>\n",
       "      <td>57.200001</td>\n",
       "      <td>166.130005</td>\n",
       "      <td>115.519997</td>\n",
       "      <td>...</td>\n",
       "      <td>207.470001</td>\n",
       "      <td>222.789993</td>\n",
       "      <td>340.890015</td>\n",
       "      <td>23.520000</td>\n",
       "      <td>171.809998</td>\n",
       "      <td>3.140000</td>\n",
       "      <td>161.970001</td>\n",
       "      <td>153.479996</td>\n",
       "      <td>46.590000</td>\n",
       "      <td>134.000000</td>\n",
       "    </tr>\n",
       "  </tbody>\n",
       "</table>\n",
       "<p>5 rows × 31 columns</p>\n",
       "</div>"
      ],
      "text/plain": [
       "                  AAPL         AMD        BAC         BLK         CVS  \\\n",
       "Date                                                                    \n",
       "2022-08-17  174.550003   98.269997  36.410000  743.219971  104.919998   \n",
       "2022-08-18  174.149994  100.440002  36.279999  745.219971  103.639999   \n",
       "2022-08-19  171.520004   95.949997  35.480000  713.849976  104.050003   \n",
       "2022-08-22  167.570007   92.839996  34.720001  695.049988  102.339996   \n",
       "2022-08-23  167.229996   92.489998  34.410000  696.969971  101.129997   \n",
       "\n",
       "                   DIS        INTU         JD         JNJ         JPM  ...  \\\n",
       "Date                                                                   ...   \n",
       "2022-08-17  122.809998  478.299988  56.150002  166.461548  122.589996  ...   \n",
       "2022-08-18  122.669998  477.760010  55.189999  165.656952  121.639999  ...   \n",
       "2022-08-19  120.139999  463.950012  54.700001  168.179993  118.629997  ...   \n",
       "2022-08-22  115.940002  446.119995  55.320000  167.589996  116.669998  ...   \n",
       "2022-08-23  114.860001  449.559998  57.200001  166.130005  115.519997  ...   \n",
       "\n",
       "                   LOW        LPLA          MA        MAT        NVDA  \\\n",
       "Date                                                                    \n",
       "2022-08-17  215.369995  231.820007  355.329987  23.469999  183.350006   \n",
       "2022-08-18  216.470001  231.949997  357.359985  24.100000  187.729996   \n",
       "2022-08-19  211.360001  224.389999  354.279999  24.209999  178.490005   \n",
       "2022-08-22  209.990005  221.000000  345.510010  23.559999  170.339996   \n",
       "2022-08-23  207.470001  222.789993  340.890015  23.520000  171.809998   \n",
       "\n",
       "                 PBI         TGT          TM         UL         WMT  \n",
       "Date                                                                 \n",
       "2022-08-17  3.479715  175.339996  160.770004  47.650002  139.520004  \n",
       "2022-08-18  3.460000  173.050003  159.130005  47.349998  139.070007  \n",
       "2022-08-19  3.330000  167.039993  156.460007  47.410000  137.020004  \n",
       "2022-08-22  3.170000  161.960007  154.320007  47.020000  134.570007  \n",
       "2022-08-23  3.140000  161.970001  153.479996  46.590000  134.000000  \n",
       "\n",
       "[5 rows x 31 columns]"
      ]
     },
     "execution_count": 3,
     "metadata": {},
     "output_type": "execute_result"
    }
   ],
   "source": [
    "tickers = [\"BLK\", \"BAC\", \"AAPL\", \"TM\", \"WMT\",\n",
    "           \"JD\", \"INTU\", \"MA\", \"UL\", \"CVS\",\n",
    "           \"DIS\", \"AMD\", \"NVDA\", \"PBI\", \"TGT\"]\n",
    "\n",
    "\n",
    "tickers = [\"BLK\", \"BAC\", \"AAPL\", \"TM\", \"WMT\",\n",
    "           \"JD\", \"INTU\", \"MA\", \"UL\", \"CVS\",\n",
    "           \"DIS\", \"AMD\", \"NVDA\", \"PBI\", \"TGT\",\n",
    "           'JNJ', 'JPM', 'KDP', 'KEY', 'KHC',\n",
    "           'KIDS', 'KMB', 'KO', 'KR', 'LEN',\n",
    "           'LKQ', 'LMT', 'LNT', 'LOW', 'LPLA', 'MAT', ]\n",
    "\n",
    "\n",
    "\n",
    "\n",
    "ohlc = yf.download(tickers, period=\"max\")\n",
    "prices = ohlc[\"Adj Close\"]\n",
    "prices.tail()"
   ]
  },
  {
   "cell_type": "code",
   "execution_count": 4,
   "id": "confident-plant",
   "metadata": {
    "colab": {
     "base_uri": "https://localhost:8080/",
     "height": 281
    },
    "id": "confident-plant",
    "outputId": "3ca52fc5-22ff-4a25-d58d-9f3700b04bb3"
   },
   "outputs": [
    {
     "data": {
      "text/html": [
       "<div>\n",
       "<style scoped>\n",
       "    .dataframe tbody tr th:only-of-type {\n",
       "        vertical-align: middle;\n",
       "    }\n",
       "\n",
       "    .dataframe tbody tr th {\n",
       "        vertical-align: top;\n",
       "    }\n",
       "\n",
       "    .dataframe thead th {\n",
       "        text-align: right;\n",
       "    }\n",
       "</style>\n",
       "<table border=\"1\" class=\"dataframe\">\n",
       "  <thead>\n",
       "    <tr style=\"text-align: right;\">\n",
       "      <th></th>\n",
       "      <th>AAPL</th>\n",
       "      <th>AMD</th>\n",
       "      <th>BAC</th>\n",
       "      <th>BLK</th>\n",
       "      <th>CVS</th>\n",
       "      <th>DIS</th>\n",
       "      <th>INTU</th>\n",
       "      <th>JD</th>\n",
       "      <th>JNJ</th>\n",
       "      <th>JPM</th>\n",
       "      <th>...</th>\n",
       "      <th>LOW</th>\n",
       "      <th>LPLA</th>\n",
       "      <th>MA</th>\n",
       "      <th>MAT</th>\n",
       "      <th>NVDA</th>\n",
       "      <th>PBI</th>\n",
       "      <th>TGT</th>\n",
       "      <th>TM</th>\n",
       "      <th>UL</th>\n",
       "      <th>WMT</th>\n",
       "    </tr>\n",
       "    <tr>\n",
       "      <th>Date</th>\n",
       "      <th></th>\n",
       "      <th></th>\n",
       "      <th></th>\n",
       "      <th></th>\n",
       "      <th></th>\n",
       "      <th></th>\n",
       "      <th></th>\n",
       "      <th></th>\n",
       "      <th></th>\n",
       "      <th></th>\n",
       "      <th></th>\n",
       "      <th></th>\n",
       "      <th></th>\n",
       "      <th></th>\n",
       "      <th></th>\n",
       "      <th></th>\n",
       "      <th></th>\n",
       "      <th></th>\n",
       "      <th></th>\n",
       "      <th></th>\n",
       "      <th></th>\n",
       "    </tr>\n",
       "  </thead>\n",
       "  <tbody>\n",
       "    <tr>\n",
       "      <th>2022-08-17</th>\n",
       "      <td>0.008785</td>\n",
       "      <td>-0.019261</td>\n",
       "      <td>-0.006277</td>\n",
       "      <td>-0.018294</td>\n",
       "      <td>-0.014188</td>\n",
       "      <td>-0.017206</td>\n",
       "      <td>-0.020238</td>\n",
       "      <td>-0.019899</td>\n",
       "      <td>0.000060</td>\n",
       "      <td>-0.008412</td>\n",
       "      <td>...</td>\n",
       "      <td>0.005838</td>\n",
       "      <td>0.011740</td>\n",
       "      <td>-0.010912</td>\n",
       "      <td>-0.013866</td>\n",
       "      <td>-0.028815</td>\n",
       "      <td>0.011461</td>\n",
       "      <td>-0.026916</td>\n",
       "      <td>0.008468</td>\n",
       "      <td>0.000000</td>\n",
       "      <td>0.001076</td>\n",
       "    </tr>\n",
       "    <tr>\n",
       "      <th>2022-08-18</th>\n",
       "      <td>-0.002292</td>\n",
       "      <td>0.022082</td>\n",
       "      <td>-0.003570</td>\n",
       "      <td>0.002691</td>\n",
       "      <td>-0.012200</td>\n",
       "      <td>-0.001140</td>\n",
       "      <td>-0.001129</td>\n",
       "      <td>-0.017097</td>\n",
       "      <td>-0.004834</td>\n",
       "      <td>-0.007749</td>\n",
       "      <td>...</td>\n",
       "      <td>0.005108</td>\n",
       "      <td>0.000561</td>\n",
       "      <td>0.005713</td>\n",
       "      <td>0.026843</td>\n",
       "      <td>0.023889</td>\n",
       "      <td>-0.005666</td>\n",
       "      <td>-0.013060</td>\n",
       "      <td>-0.010201</td>\n",
       "      <td>-0.006296</td>\n",
       "      <td>-0.003225</td>\n",
       "    </tr>\n",
       "    <tr>\n",
       "      <th>2022-08-19</th>\n",
       "      <td>-0.015102</td>\n",
       "      <td>-0.044703</td>\n",
       "      <td>-0.022051</td>\n",
       "      <td>-0.042095</td>\n",
       "      <td>0.003956</td>\n",
       "      <td>-0.020624</td>\n",
       "      <td>-0.028906</td>\n",
       "      <td>-0.008878</td>\n",
       "      <td>0.015231</td>\n",
       "      <td>-0.024745</td>\n",
       "      <td>...</td>\n",
       "      <td>-0.023606</td>\n",
       "      <td>-0.032593</td>\n",
       "      <td>-0.008619</td>\n",
       "      <td>0.004564</td>\n",
       "      <td>-0.049220</td>\n",
       "      <td>-0.037572</td>\n",
       "      <td>-0.034730</td>\n",
       "      <td>-0.016779</td>\n",
       "      <td>0.001267</td>\n",
       "      <td>-0.014741</td>\n",
       "    </tr>\n",
       "    <tr>\n",
       "      <th>2022-08-22</th>\n",
       "      <td>-0.023029</td>\n",
       "      <td>-0.032413</td>\n",
       "      <td>-0.021420</td>\n",
       "      <td>-0.026336</td>\n",
       "      <td>-0.016434</td>\n",
       "      <td>-0.034959</td>\n",
       "      <td>-0.038431</td>\n",
       "      <td>0.011335</td>\n",
       "      <td>-0.003508</td>\n",
       "      <td>-0.016522</td>\n",
       "      <td>...</td>\n",
       "      <td>-0.006482</td>\n",
       "      <td>-0.015108</td>\n",
       "      <td>-0.024754</td>\n",
       "      <td>-0.026848</td>\n",
       "      <td>-0.045661</td>\n",
       "      <td>-0.048048</td>\n",
       "      <td>-0.030412</td>\n",
       "      <td>-0.013678</td>\n",
       "      <td>-0.008226</td>\n",
       "      <td>-0.017881</td>\n",
       "    </tr>\n",
       "    <tr>\n",
       "      <th>2022-08-23</th>\n",
       "      <td>-0.002029</td>\n",
       "      <td>-0.003770</td>\n",
       "      <td>-0.008929</td>\n",
       "      <td>0.002762</td>\n",
       "      <td>-0.011823</td>\n",
       "      <td>-0.009315</td>\n",
       "      <td>0.007711</td>\n",
       "      <td>0.033984</td>\n",
       "      <td>-0.008712</td>\n",
       "      <td>-0.009857</td>\n",
       "      <td>...</td>\n",
       "      <td>-0.012001</td>\n",
       "      <td>0.008100</td>\n",
       "      <td>-0.013372</td>\n",
       "      <td>-0.001698</td>\n",
       "      <td>0.008630</td>\n",
       "      <td>-0.009464</td>\n",
       "      <td>0.000062</td>\n",
       "      <td>-0.005443</td>\n",
       "      <td>-0.009145</td>\n",
       "      <td>-0.004236</td>\n",
       "    </tr>\n",
       "  </tbody>\n",
       "</table>\n",
       "<p>5 rows × 31 columns</p>\n",
       "</div>"
      ],
      "text/plain": [
       "                AAPL       AMD       BAC       BLK       CVS       DIS  \\\n",
       "Date                                                                     \n",
       "2022-08-17  0.008785 -0.019261 -0.006277 -0.018294 -0.014188 -0.017206   \n",
       "2022-08-18 -0.002292  0.022082 -0.003570  0.002691 -0.012200 -0.001140   \n",
       "2022-08-19 -0.015102 -0.044703 -0.022051 -0.042095  0.003956 -0.020624   \n",
       "2022-08-22 -0.023029 -0.032413 -0.021420 -0.026336 -0.016434 -0.034959   \n",
       "2022-08-23 -0.002029 -0.003770 -0.008929  0.002762 -0.011823 -0.009315   \n",
       "\n",
       "                INTU        JD       JNJ       JPM  ...       LOW      LPLA  \\\n",
       "Date                                                ...                       \n",
       "2022-08-17 -0.020238 -0.019899  0.000060 -0.008412  ...  0.005838  0.011740   \n",
       "2022-08-18 -0.001129 -0.017097 -0.004834 -0.007749  ...  0.005108  0.000561   \n",
       "2022-08-19 -0.028906 -0.008878  0.015231 -0.024745  ... -0.023606 -0.032593   \n",
       "2022-08-22 -0.038431  0.011335 -0.003508 -0.016522  ... -0.006482 -0.015108   \n",
       "2022-08-23  0.007711  0.033984 -0.008712 -0.009857  ... -0.012001  0.008100   \n",
       "\n",
       "                  MA       MAT      NVDA       PBI       TGT        TM  \\\n",
       "Date                                                                     \n",
       "2022-08-17 -0.010912 -0.013866 -0.028815  0.011461 -0.026916  0.008468   \n",
       "2022-08-18  0.005713  0.026843  0.023889 -0.005666 -0.013060 -0.010201   \n",
       "2022-08-19 -0.008619  0.004564 -0.049220 -0.037572 -0.034730 -0.016779   \n",
       "2022-08-22 -0.024754 -0.026848 -0.045661 -0.048048 -0.030412 -0.013678   \n",
       "2022-08-23 -0.013372 -0.001698  0.008630 -0.009464  0.000062 -0.005443   \n",
       "\n",
       "                  UL       WMT  \n",
       "Date                            \n",
       "2022-08-17  0.000000  0.001076  \n",
       "2022-08-18 -0.006296 -0.003225  \n",
       "2022-08-19  0.001267 -0.014741  \n",
       "2022-08-22 -0.008226 -0.017881  \n",
       "2022-08-23 -0.009145 -0.004236  \n",
       "\n",
       "[5 rows x 31 columns]"
      ]
     },
     "execution_count": 4,
     "metadata": {},
     "output_type": "execute_result"
    }
   ],
   "source": [
    "from pypfopt import expected_returns\n",
    "\n",
    "rets = expected_returns.returns_from_prices(prices)\n",
    "rets.tail()"
   ]
  },
  {
   "cell_type": "markdown",
   "id": "answering-tamil",
   "metadata": {
    "id": "answering-tamil"
   },
   "source": [
    "## HRP optimization\n",
    "\n",
    "HRP uses a completely different backend, so it is currently not possible to pass constraints or specify an objective function."
   ]
  },
  {
   "cell_type": "code",
   "execution_count": 5,
   "id": "crazy-minority",
   "metadata": {
    "id": "crazy-minority"
   },
   "outputs": [],
   "source": [
    "from pypfopt import HRPOpt"
   ]
  },
  {
   "cell_type": "code",
   "execution_count": 6,
   "id": "determined-license",
   "metadata": {
    "colab": {
     "base_uri": "https://localhost:8080/"
    },
    "id": "determined-license",
    "outputId": "ba776958-535f-475b-b6bf-7c6994d311f8"
   },
   "outputs": [
    {
     "data": {
      "text/plain": [
       "OrderedDict([('AAPL', 0.01519),\n",
       "             ('AMD', 0.00717),\n",
       "             ('BAC', 0.01163),\n",
       "             ('BLK', 0.02012),\n",
       "             ('CVS', 0.04487),\n",
       "             ('DIS', 0.02989),\n",
       "             ('INTU', 0.01361),\n",
       "             ('JD', 0.01903),\n",
       "             ('JNJ', 0.07978),\n",
       "             ('JPM', 0.01584),\n",
       "             ('KDP', 0.05148),\n",
       "             ('KEY', 0.01059),\n",
       "             ('KHC', 0.0344),\n",
       "             ('KIDS', 0.01508),\n",
       "             ('KMB', 0.05609),\n",
       "             ('KO', 0.05674),\n",
       "             ('KR', 0.0664),\n",
       "             ('LEN', 0.01619),\n",
       "             ('LKQ', 0.02301),\n",
       "             ('LMT', 0.04633),\n",
       "             ('LNT', 0.08132),\n",
       "             ('LOW', 0.0216),\n",
       "             ('LPLA', 0.01519),\n",
       "             ('MA', 0.0203),\n",
       "             ('MAT', 0.02397),\n",
       "             ('NVDA', 0.00691),\n",
       "             ('PBI', 0.02718),\n",
       "             ('TGT', 0.02698),\n",
       "             ('TM', 0.0389),\n",
       "             ('UL', 0.06958),\n",
       "             ('WMT', 0.03461)])"
      ]
     },
     "execution_count": 6,
     "metadata": {},
     "output_type": "execute_result"
    }
   ],
   "source": [
    "hrp = HRPOpt(rets)\n",
    "hrp.optimize()\n",
    "weights = hrp.clean_weights()\n",
    "weights"
   ]
  },
  {
   "cell_type": "code",
   "execution_count": 7,
   "id": "existing-memphis",
   "metadata": {
    "colab": {
     "base_uri": "https://localhost:8080/",
     "height": 575
    },
    "id": "existing-memphis",
    "outputId": "721f641a-3871-4bae-84f8-94cc0b75be87"
   },
   "outputs": [
    {
     "name": "stderr",
     "output_type": "stream",
     "text": [
      "C:\\ProgramData\\Anaconda3\\lib\\site-packages\\pandas\\plotting\\_matplotlib\\core.py:1583: MatplotlibDeprecationWarning: normalize=None does not normalize if the sum is less than 1 but this behavior is deprecated since 3.3 until two minor releases later. After the deprecation period the default value will be normalize=True. To prevent normalization pass normalize=False \n",
      "  results = ax.pie(y, labels=blabels, **kwds)\n"
     ]
    },
    {
     "data": {
      "image/png": "[encoded data removed]",
      "text/plain": [
       "<Figure size 720x720 with 1 Axes>"
      ]
     },
     "metadata": {},
     "output_type": "display_data"
    }
   ],
   "source": [
    "pd.Series(weights).plot.pie(figsize=(10, 10));"
   ]
  },
  {
   "cell_type": "code",
   "execution_count": 8,
   "id": "dramatic-spyware",
   "metadata": {
    "colab": {
     "base_uri": "https://localhost:8080/"
    },
    "id": "dramatic-spyware",
    "outputId": "03958175-ebf7-4eb0-cc3a-57d969056f36"
   },
   "outputs": [
    {
     "name": "stdout",
     "output_type": "stream",
     "text": [
      "Expected annual return: 17.4%\n",
      "Annual volatility: 16.2%\n",
      "Sharpe Ratio: 0.95\n"
     ]
    }
   ],
   "source": [
    "hrp.portfolio_performance(verbose=True);"
   ]
  },
  {
   "cell_type": "markdown",
   "id": "occupational-costume",
   "metadata": {
    "id": "occupational-costume"
   },
   "source": [
    "## Plotting\n",
    "\n",
    "It is very simple to plot a dendrogram (tree diagram) based on the hierarchical structure of asset returns"
   ]
  },
  {
   "cell_type": "code",
   "execution_count": 12,
   "id": "9ceda6fe",
   "metadata": {},
   "outputs": [],
   "source": [
    "from matplotlib.pyplot import figure, rc\n",
    "# figure(figsize=(20, 12), dpi=80)\n",
    "# font = {'family' : 'normal',\n",
    "#         'weight' : 'bold',\n",
    "#         'size'   : 22}\n",
    "\n",
    "# rc('font', **font)"
   ]
  },
  {
   "cell_type": "code",
   "execution_count": 14,
   "id": "upset-meaning",
   "metadata": {
    "colab": {
     "base_uri": "https://localhost:8080/",
     "height": 297
    },
    "id": "upset-meaning",
    "outputId": "65f2985a-e74f-405c-a01a-d7877a0e5326"
   },
   "outputs": [
    {
     "data": {
      "image/png": "[encoded data removed]",
      "text/plain": [
       "<Figure size 864x432 with 1 Axes>"
      ]
     },
     "metadata": {
      "needs_background": "light"
     },
     "output_type": "display_data"
    }
   ],
   "source": [
    "from pypfopt import plotting\n",
    "\n",
    "figure(figsize=(12, 6))\n",
    "plotting.plot_dendrogram(hrp); "
   ]
  },
  {
   "cell_type": "markdown",
   "id": "brave-shock",
   "metadata": {
    "id": "brave-shock"
   },
   "source": [
    "If you look at this dendogram closely, you can see that most of the clusters make a lot of sense. For example, AMD and NVDA (both semiconductor manufacturers) are grouped."
   ]
  },
  {
   "cell_type": "code",
   "execution_count": null,
   "id": "833b9e09",
   "metadata": {},
   "outputs": [],
   "source": []
  },
  {
   "cell_type": "code",
   "execution_count": null,
   "id": "a69a1a93",
   "metadata": {},
   "outputs": [],
   "source": []
  }
 ],
 "metadata": {
  "colab": {
   "collapsed_sections": [],
   "name": "5-Hierarchical-Risk-Parity.ipynb",
   "provenance": []
  },
  "kernelspec": {
   "display_name": "Python 3",
   "language": "python",
   "name": "python3"
  },
  "language_info": {
   "codemirror_mode": {
    "name": "ipython",
    "version": 3
   },
   "file_extension": ".py",
   "mimetype": "text/x-python",
   "name": "python",
   "nbconvert_exporter": "python",
   "pygments_lexer": "ipython3",
   "version": "3.8.8"
  }
 },
 "nbformat": 4,
 "nbformat_minor": 5
}
