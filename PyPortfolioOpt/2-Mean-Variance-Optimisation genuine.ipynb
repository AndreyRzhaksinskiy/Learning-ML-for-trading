{
 "cells": [
  {
   "cell_type": "markdown",
   "metadata": {
    "id": "UL9EB0Mn9ny5"
   },
   "source": [
    "# Mean-variance optimization\n",
    "\n",
    "In this cookbook recipe, we work on several examples demonstrating PyPortfolioOpt's mean-variance capabilities. I will discuss what I think should be your \"default\" options, based on my experience in optimising portfolios.\n",
    "\n",
    "To start, you need a list of tickers. Some people just provide the whole universe of stocks, but I don't think this is a good idea - portfolio optimization is quite different from asset selection. I would suggest anywhere from 10-50 stocks as a starting point.\n",
    "\n",
    "Some of the things we cover:\n",
    "\n",
    "- Downloading data and getting it into PyPortfolioOpt\n",
    "- Calculating and visualising the covariance matrix\n",
    "- Optimising a long/short portfolio to minimise total variance\n",
    "- Optimising a portfolio to maximise the Sharpe ratio, subject to sector constraints\n",
    "- Optimising a portfolio to maximise return for a given risk, subject to sector constraints, with an L2 regularisation objective\n",
    "- Optimising a market-neutral portfolio to minimise risk for a given level of return\n",
    "- Optimising along the mean-semivariance frontier\n",
    "- Optimising along the mean-CVaR frontier\n",
    "- Plotting the efficient frontier:\n",
    "    - Simple (using CLA)\n",
    "    - Constrained\n",
    "    - Complex plots\n",
    "\n",
    "Please consult the [docs](https://pyportfolioopt.readthedocs.io/) for more info.\n",
    "\n",
    "## Downloading data\n",
    "\n",
    "To download data, we will use `yfinance`, an excellent library that provides free price data from Yahoo Finance, no API key needed.\n",
    "\n",
    "[![Open In Colab](https://colab.research.google.com/assets/colab-badge.svg)](https://colab.research.google.com/github/robertmartin8/PyPortfolioOpt/blob/master/cookbook/2-Mean-Variance-Optimisation.ipynb)\n",
    "    \n",
    "[![Kaggle](https://kaggle.com/static/images/open-in-kaggle.svg)](https://kaggle.com/kernels/welcome?src=https://github.com/robertmartin8/PyPortfolioOpt/blob/master/cookbook/2-Mean-Variance-Optimisation.ipynb)\n",
    "    \n",
    "[![Gradient](https://assets.paperspace.io/img/gradient-badge.svg)](https://console.paperspace.com/github/robertmartin8/PyPortfolioOpt/blob/master/cookbook/2-Mean-Variance-Optimisation.ipynb)\n",
    "    \n",
    "[![Open In SageMaker Studio Lab](https://studiolab.sagemaker.aws/studiolab.svg)](https://studiolab.sagemaker.aws/import/github/robertmartin8/PyPortfolioOpt/blob/master/cookbook/2-Mean-Variance-Optimisation.ipynb)"
   ]
  },
  {
   "cell_type": "code",
   "execution_count": 1,
   "metadata": {
    "colab": {
     "base_uri": "https://localhost:8080/"
    },
    "id": "69vaYVwZ-Cxz",
    "outputId": "dee1bf4a-82ee-4909-e26b-217899258cf2"
   },
   "outputs": [
    {
     "name": "stdout",
     "output_type": "stream",
     "text": [
      "Requirement already satisfied: pandas in c:\\programdata\\anaconda3\\lib\\site-packages (1.2.4)\n",
      "Requirement already satisfied: numpy in c:\\programdata\\anaconda3\\lib\\site-packages (1.23.2)\n",
      "Requirement already satisfied: matplotlib in c:\\programdata\\anaconda3\\lib\\site-packages (3.3.4)\n",
      "Requirement already satisfied: yfinance in c:\\programdata\\anaconda3\\lib\\site-packages (0.1.74)\n",
      "Requirement already satisfied: PyPortfolioOpt in c:\\programdata\\anaconda3\\lib\\site-packages (1.5.3)\n",
      "Requirement already satisfied: pyparsing!=2.0.4,!=2.1.2,!=2.1.6,>=2.0.3 in c:\\programdata\\anaconda3\\lib\\site-packages (from matplotlib) (2.4.7)\n",
      "Requirement already satisfied: pillow>=6.2.0 in c:\\programdata\\anaconda3\\lib\\site-packages (from matplotlib) (8.2.0)\n",
      "Requirement already satisfied: kiwisolver>=1.0.1 in c:\\programdata\\anaconda3\\lib\\site-packages (from matplotlib) (1.3.1)\n",
      "Requirement already satisfied: cycler>=0.10 in c:\\programdata\\anaconda3\\lib\\site-packages (from matplotlib) (0.10.0)\n",
      "Requirement already satisfied: python-dateutil>=2.1 in c:\\programdata\\anaconda3\\lib\\site-packages (from matplotlib) (2.8.1)\n",
      "Requirement already satisfied: six in c:\\programdata\\anaconda3\\lib\\site-packages (from cycler>=0.10->matplotlib) (1.15.0)\n",
      "Requirement already satisfied: pytz>=2017.3 in c:\\programdata\\anaconda3\\lib\\site-packages (from pandas) (2019.3)\n",
      "Requirement already satisfied: scipy<2.0,>=1.3 in c:\\programdata\\anaconda3\\lib\\site-packages (from PyPortfolioOpt) (1.5.4)\n",
      "Requirement already satisfied: cvxpy<2.0.0,>=1.1.10 in c:\\programdata\\anaconda3\\lib\\site-packages (from PyPortfolioOpt) (1.2.1)\n",
      "Requirement already satisfied: scs>=1.1.6 in c:\\programdata\\anaconda3\\lib\\site-packages (from cvxpy<2.0.0,>=1.1.10->PyPortfolioOpt) (3.2.0)\n",
      "Requirement already satisfied: osqp>=0.4.1 in c:\\programdata\\anaconda3\\lib\\site-packages (from cvxpy<2.0.0,>=1.1.10->PyPortfolioOpt) (0.6.2.post5)\n",
      "Requirement already satisfied: ecos>=2 in c:\\programdata\\anaconda3\\lib\\site-packages (from cvxpy<2.0.0,>=1.1.10->PyPortfolioOpt) (2.0.10)\n",
      "Requirement already satisfied: qdldl in c:\\programdata\\anaconda3\\lib\\site-packages (from osqp>=0.4.1->cvxpy<2.0.0,>=1.1.10->PyPortfolioOpt) (0.1.5.post2)\n",
      "Requirement already satisfied: multitasking>=0.0.7 in c:\\programdata\\anaconda3\\lib\\site-packages (from yfinance) (0.0.11)\n",
      "Requirement already satisfied: lxml>=4.5.1 in c:\\programdata\\anaconda3\\lib\\site-packages (from yfinance) (4.6.3)\n",
      "Requirement already satisfied: requests>=2.26 in c:\\programdata\\anaconda3\\lib\\site-packages (from yfinance) (2.27.1)\n",
      "Requirement already satisfied: idna<4,>=2.5 in c:\\programdata\\anaconda3\\lib\\site-packages (from requests>=2.26->yfinance) (2.10)\n",
      "Requirement already satisfied: charset-normalizer~=2.0.0 in c:\\programdata\\anaconda3\\lib\\site-packages (from requests>=2.26->yfinance) (2.0.9)\n",
      "Requirement already satisfied: certifi>=2017.4.17 in c:\\programdata\\anaconda3\\lib\\site-packages (from requests>=2.26->yfinance) (2020.12.5)\n",
      "Requirement already satisfied: urllib3<1.27,>=1.21.1 in c:\\programdata\\anaconda3\\lib\\site-packages (from requests>=2.26->yfinance) (1.26.4)\n"
     ]
    }
   ],
   "source": [
    "!pip install pandas numpy matplotlib yfinance PyPortfolioOpt\n",
    "import os\n",
    "if not os.path.isdir('data'):\n",
    "    os.system('git clone https://github.com/robertmartin8/PyPortfolioOpt.git')\n",
    "    os.chdir('PyPortfolioOpt/cookbook')"
   ]
  },
  {
   "cell_type": "code",
   "execution_count": 2,
   "metadata": {
    "id": "shuJGGeo9ny8"
   },
   "outputs": [],
   "source": [
    "import yfinance as yf\n",
    "import matplotlib.pyplot as plt\n",
    "import pandas as pd\n",
    "import numpy as np"
   ]
  },
  {
   "cell_type": "code",
   "execution_count": 3,
   "metadata": {
    "id": "c4r8LJdC9ny8"
   },
   "outputs": [],
   "source": [
    "tickers = [\"MSFT\", \"AMZN\", \"KO\", \"MA\", \"COST\", \n",
    "           \"LUV\", \"XOM\", \"PFE\", \"JPM\", \"UNH\", \n",
    "           \"ACN\", \"DIS\", \"GILD\", \"F\", \"TSLA\"] "
   ]
  },
  {
   "cell_type": "code",
   "execution_count": 4,
   "metadata": {
    "colab": {
     "base_uri": "https://localhost:8080/"
    },
    "id": "XWdfXpB69ny9",
    "outputId": "e60980bf-21e3-470f-a4f7-99da82c820a4"
   },
   "outputs": [
    {
     "name": "stdout",
     "output_type": "stream",
     "text": [
      "[*********************100%***********************]  15 of 15 completed\n"
     ]
    }
   ],
   "source": [
    "ohlc = yf.download(tickers, period=\"max\")"
   ]
  },
  {
   "cell_type": "code",
   "execution_count": 5,
   "metadata": {
    "colab": {
     "base_uri": "https://localhost:8080/",
     "height": 388
    },
    "id": "S7voZG_T9ny-",
    "outputId": "de26041a-af6d-4554-eb32-1eb9d57d5f3e"
   },
   "outputs": [
    {
     "data": {
      "text/html": [
       "<div>\n",
       "<style scoped>\n",
       "    .dataframe tbody tr th:only-of-type {\n",
       "        vertical-align: middle;\n",
       "    }\n",
       "\n",
       "    .dataframe tbody tr th {\n",
       "        vertical-align: top;\n",
       "    }\n",
       "\n",
       "    .dataframe thead th {\n",
       "        text-align: right;\n",
       "    }\n",
       "</style>\n",
       "<table border=\"1\" class=\"dataframe\">\n",
       "  <thead>\n",
       "    <tr style=\"text-align: right;\">\n",
       "      <th></th>\n",
       "      <th>ACN</th>\n",
       "      <th>AMZN</th>\n",
       "      <th>COST</th>\n",
       "      <th>DIS</th>\n",
       "      <th>F</th>\n",
       "      <th>GILD</th>\n",
       "      <th>JPM</th>\n",
       "      <th>KO</th>\n",
       "      <th>LUV</th>\n",
       "      <th>MA</th>\n",
       "      <th>MSFT</th>\n",
       "      <th>PFE</th>\n",
       "      <th>TSLA</th>\n",
       "      <th>UNH</th>\n",
       "      <th>XOM</th>\n",
       "    </tr>\n",
       "    <tr>\n",
       "      <th>Date</th>\n",
       "      <th></th>\n",
       "      <th></th>\n",
       "      <th></th>\n",
       "      <th></th>\n",
       "      <th></th>\n",
       "      <th></th>\n",
       "      <th></th>\n",
       "      <th></th>\n",
       "      <th></th>\n",
       "      <th></th>\n",
       "      <th></th>\n",
       "      <th></th>\n",
       "      <th></th>\n",
       "      <th></th>\n",
       "      <th></th>\n",
       "    </tr>\n",
       "  </thead>\n",
       "  <tbody>\n",
       "    <tr>\n",
       "      <th>2022-08-11</th>\n",
       "      <td>314.420013</td>\n",
       "      <td>140.639999</td>\n",
       "      <td>532.200012</td>\n",
       "      <td>117.690002</td>\n",
       "      <td>15.830000</td>\n",
       "      <td>62.450001</td>\n",
       "      <td>120.139999</td>\n",
       "      <td>63.220001</td>\n",
       "      <td>38.970001</td>\n",
       "      <td>350.579987</td>\n",
       "      <td>286.412048</td>\n",
       "      <td>48.290001</td>\n",
       "      <td>859.890015</td>\n",
       "      <td>532.859985</td>\n",
       "      <td>93.190002</td>\n",
       "    </tr>\n",
       "    <tr>\n",
       "      <th>2022-08-12</th>\n",
       "      <td>320.440002</td>\n",
       "      <td>143.550003</td>\n",
       "      <td>537.210022</td>\n",
       "      <td>121.570000</td>\n",
       "      <td>16.180000</td>\n",
       "      <td>62.959999</td>\n",
       "      <td>122.129997</td>\n",
       "      <td>63.700001</td>\n",
       "      <td>39.459999</td>\n",
       "      <td>354.269989</td>\n",
       "      <td>291.291718</td>\n",
       "      <td>50.110001</td>\n",
       "      <td>900.090027</td>\n",
       "      <td>543.700012</td>\n",
       "      <td>94.000000</td>\n",
       "    </tr>\n",
       "    <tr>\n",
       "      <th>2022-08-15</th>\n",
       "      <td>320.329987</td>\n",
       "      <td>143.179993</td>\n",
       "      <td>545.750000</td>\n",
       "      <td>124.260002</td>\n",
       "      <td>16.320000</td>\n",
       "      <td>66.209999</td>\n",
       "      <td>122.459999</td>\n",
       "      <td>64.500000</td>\n",
       "      <td>39.639999</td>\n",
       "      <td>359.950012</td>\n",
       "      <td>292.848389</td>\n",
       "      <td>49.750000</td>\n",
       "      <td>927.960022</td>\n",
       "      <td>544.640015</td>\n",
       "      <td>92.320000</td>\n",
       "    </tr>\n",
       "    <tr>\n",
       "      <th>2022-08-16</th>\n",
       "      <td>320.779999</td>\n",
       "      <td>144.779999</td>\n",
       "      <td>553.020020</td>\n",
       "      <td>124.959999</td>\n",
       "      <td>16.430000</td>\n",
       "      <td>66.330002</td>\n",
       "      <td>123.629997</td>\n",
       "      <td>65.029999</td>\n",
       "      <td>39.869999</td>\n",
       "      <td>359.250000</td>\n",
       "      <td>292.089996</td>\n",
       "      <td>49.860001</td>\n",
       "      <td>919.690002</td>\n",
       "      <td>546.119995</td>\n",
       "      <td>91.459999</td>\n",
       "    </tr>\n",
       "    <tr>\n",
       "      <th>2022-08-17</th>\n",
       "      <td>318.450012</td>\n",
       "      <td>142.100006</td>\n",
       "      <td>556.320007</td>\n",
       "      <td>122.809998</td>\n",
       "      <td>16.030001</td>\n",
       "      <td>66.019997</td>\n",
       "      <td>122.589996</td>\n",
       "      <td>64.879997</td>\n",
       "      <td>38.939999</td>\n",
       "      <td>355.329987</td>\n",
       "      <td>291.320007</td>\n",
       "      <td>49.270000</td>\n",
       "      <td>911.989990</td>\n",
       "      <td>545.000000</td>\n",
       "      <td>92.199997</td>\n",
       "    </tr>\n",
       "  </tbody>\n",
       "</table>\n",
       "</div>"
      ],
      "text/plain": [
       "                   ACN        AMZN        COST         DIS          F  \\\n",
       "Date                                                                    \n",
       "2022-08-11  314.420013  140.639999  532.200012  117.690002  15.830000   \n",
       "2022-08-12  320.440002  143.550003  537.210022  121.570000  16.180000   \n",
       "2022-08-15  320.329987  143.179993  545.750000  124.260002  16.320000   \n",
       "2022-08-16  320.779999  144.779999  553.020020  124.959999  16.430000   \n",
       "2022-08-17  318.450012  142.100006  556.320007  122.809998  16.030001   \n",
       "\n",
       "                 GILD         JPM         KO        LUV          MA  \\\n",
       "Date                                                                  \n",
       "2022-08-11  62.450001  120.139999  63.220001  38.970001  350.579987   \n",
       "2022-08-12  62.959999  122.129997  63.700001  39.459999  354.269989   \n",
       "2022-08-15  66.209999  122.459999  64.500000  39.639999  359.950012   \n",
       "2022-08-16  66.330002  123.629997  65.029999  39.869999  359.250000   \n",
       "2022-08-17  66.019997  122.589996  64.879997  38.939999  355.329987   \n",
       "\n",
       "                  MSFT        PFE        TSLA         UNH        XOM  \n",
       "Date                                                                  \n",
       "2022-08-11  286.412048  48.290001  859.890015  532.859985  93.190002  \n",
       "2022-08-12  291.291718  50.110001  900.090027  543.700012  94.000000  \n",
       "2022-08-15  292.848389  49.750000  927.960022  544.640015  92.320000  \n",
       "2022-08-16  292.089996  49.860001  919.690002  546.119995  91.459999  \n",
       "2022-08-17  291.320007  49.270000  911.989990  545.000000  92.199997  "
      ]
     },
     "execution_count": 5,
     "metadata": {},
     "output_type": "execute_result"
    }
   ],
   "source": [
    "prices = ohlc[\"Adj Close\"].dropna(how=\"all\")\n",
    "prices.tail()"
   ]
  },
  {
   "cell_type": "code",
   "execution_count": 6,
   "metadata": {
    "colab": {
     "base_uri": "https://localhost:8080/",
     "height": 563
    },
    "id": "-8Et4dlp9ny-",
    "outputId": "e35cbcf6-f837-4a84-9946-b7a31d4b6901"
   },
   "outputs": [
    {
     "data": {
      "image/png": "[encoded data removed]",
      "text/plain": [
       "<Figure size 1080x720 with 1 Axes>"
      ]
     },
     "metadata": {
      "needs_background": "light"
     },
     "output_type": "display_data"
    }
   ],
   "source": [
    "prices[prices.index >= \"2008-01-01\"].plot(figsize=(15,10));"
   ]
  },
  {
   "cell_type": "markdown",
   "metadata": {
    "id": "v4vdGWLR9ny-"
   },
   "source": [
    "## Calculating the covariance matrix"
   ]
  },
  {
   "cell_type": "code",
   "execution_count": 7,
   "metadata": {
    "colab": {
     "base_uri": "https://localhost:8080/",
     "height": 35
    },
    "id": "dTFkI4ll9ny-",
    "outputId": "2a0c7a48-d357-4445-bdd1-44dbe901c17a"
   },
   "outputs": [
    {
     "data": {
      "text/plain": [
       "'1.5.3'"
      ]
     },
     "execution_count": 7,
     "metadata": {},
     "output_type": "execute_result"
    }
   ],
   "source": [
    "import pypfopt\n",
    "pypfopt.__version__"
   ]
  },
  {
   "cell_type": "code",
   "execution_count": 8,
   "metadata": {
    "colab": {
     "base_uri": "https://localhost:8080/",
     "height": 520
    },
    "id": "0hDN8ZJG9ny_",
    "outputId": "35244fed-56ac-4207-ee84-736e924b1210"
   },
   "outputs": [
    {
     "data": {
      "text/html": [
       "<div>\n",
       "<style scoped>\n",
       "    .dataframe tbody tr th:only-of-type {\n",
       "        vertical-align: middle;\n",
       "    }\n",
       "\n",
       "    .dataframe tbody tr th {\n",
       "        vertical-align: top;\n",
       "    }\n",
       "\n",
       "    .dataframe thead th {\n",
       "        text-align: right;\n",
       "    }\n",
       "</style>\n",
       "<table border=\"1\" class=\"dataframe\">\n",
       "  <thead>\n",
       "    <tr style=\"text-align: right;\">\n",
       "      <th></th>\n",
       "      <th>ACN</th>\n",
       "      <th>AMZN</th>\n",
       "      <th>COST</th>\n",
       "      <th>DIS</th>\n",
       "      <th>F</th>\n",
       "      <th>GILD</th>\n",
       "      <th>JPM</th>\n",
       "      <th>KO</th>\n",
       "      <th>LUV</th>\n",
       "      <th>MA</th>\n",
       "      <th>MSFT</th>\n",
       "      <th>PFE</th>\n",
       "      <th>TSLA</th>\n",
       "      <th>UNH</th>\n",
       "      <th>XOM</th>\n",
       "    </tr>\n",
       "  </thead>\n",
       "  <tbody>\n",
       "    <tr>\n",
       "      <th>ACN</th>\n",
       "      <td>0.090786</td>\n",
       "      <td>0.045939</td>\n",
       "      <td>0.028107</td>\n",
       "      <td>0.040826</td>\n",
       "      <td>0.043833</td>\n",
       "      <td>0.028910</td>\n",
       "      <td>0.048422</td>\n",
       "      <td>0.020454</td>\n",
       "      <td>0.036953</td>\n",
       "      <td>0.046042</td>\n",
       "      <td>0.041359</td>\n",
       "      <td>0.025780</td>\n",
       "      <td>0.042889</td>\n",
       "      <td>0.030540</td>\n",
       "      <td>0.030129</td>\n",
       "    </tr>\n",
       "    <tr>\n",
       "      <th>AMZN</th>\n",
       "      <td>0.045939</td>\n",
       "      <td>0.331755</td>\n",
       "      <td>0.047738</td>\n",
       "      <td>0.055489</td>\n",
       "      <td>0.052899</td>\n",
       "      <td>0.058452</td>\n",
       "      <td>0.066140</td>\n",
       "      <td>0.020011</td>\n",
       "      <td>0.047849</td>\n",
       "      <td>0.056895</td>\n",
       "      <td>0.072433</td>\n",
       "      <td>0.031182</td>\n",
       "      <td>0.063671</td>\n",
       "      <td>0.034806</td>\n",
       "      <td>0.026604</td>\n",
       "    </tr>\n",
       "    <tr>\n",
       "      <th>COST</th>\n",
       "      <td>0.028107</td>\n",
       "      <td>0.047738</td>\n",
       "      <td>0.101500</td>\n",
       "      <td>0.031769</td>\n",
       "      <td>0.031536</td>\n",
       "      <td>0.026836</td>\n",
       "      <td>0.038480</td>\n",
       "      <td>0.021273</td>\n",
       "      <td>0.031050</td>\n",
       "      <td>0.032149</td>\n",
       "      <td>0.037298</td>\n",
       "      <td>0.025289</td>\n",
       "      <td>0.027724</td>\n",
       "      <td>0.027502</td>\n",
       "      <td>0.020226</td>\n",
       "    </tr>\n",
       "    <tr>\n",
       "      <th>DIS</th>\n",
       "      <td>0.040826</td>\n",
       "      <td>0.055489</td>\n",
       "      <td>0.031769</td>\n",
       "      <td>0.099457</td>\n",
       "      <td>0.040942</td>\n",
       "      <td>0.032193</td>\n",
       "      <td>0.047197</td>\n",
       "      <td>0.026072</td>\n",
       "      <td>0.039539</td>\n",
       "      <td>0.050495</td>\n",
       "      <td>0.042657</td>\n",
       "      <td>0.029225</td>\n",
       "      <td>0.041091</td>\n",
       "      <td>0.031914</td>\n",
       "      <td>0.025470</td>\n",
       "    </tr>\n",
       "    <tr>\n",
       "      <th>F</th>\n",
       "      <td>0.043833</td>\n",
       "      <td>0.052899</td>\n",
       "      <td>0.031536</td>\n",
       "      <td>0.040942</td>\n",
       "      <td>0.127347</td>\n",
       "      <td>0.030022</td>\n",
       "      <td>0.054707</td>\n",
       "      <td>0.026243</td>\n",
       "      <td>0.046624</td>\n",
       "      <td>0.062782</td>\n",
       "      <td>0.041437</td>\n",
       "      <td>0.026954</td>\n",
       "      <td>0.056865</td>\n",
       "      <td>0.029133</td>\n",
       "      <td>0.027898</td>\n",
       "    </tr>\n",
       "    <tr>\n",
       "      <th>GILD</th>\n",
       "      <td>0.028910</td>\n",
       "      <td>0.058452</td>\n",
       "      <td>0.026836</td>\n",
       "      <td>0.032193</td>\n",
       "      <td>0.030022</td>\n",
       "      <td>0.233696</td>\n",
       "      <td>0.042314</td>\n",
       "      <td>0.016619</td>\n",
       "      <td>0.030865</td>\n",
       "      <td>0.032259</td>\n",
       "      <td>0.035125</td>\n",
       "      <td>0.032414</td>\n",
       "      <td>0.031965</td>\n",
       "      <td>0.033860</td>\n",
       "      <td>0.020869</td>\n",
       "    </tr>\n",
       "    <tr>\n",
       "      <th>JPM</th>\n",
       "      <td>0.048422</td>\n",
       "      <td>0.066140</td>\n",
       "      <td>0.038480</td>\n",
       "      <td>0.047197</td>\n",
       "      <td>0.054707</td>\n",
       "      <td>0.042314</td>\n",
       "      <td>0.128219</td>\n",
       "      <td>0.027736</td>\n",
       "      <td>0.049066</td>\n",
       "      <td>0.069519</td>\n",
       "      <td>0.049166</td>\n",
       "      <td>0.032659</td>\n",
       "      <td>0.040584</td>\n",
       "      <td>0.038580</td>\n",
       "      <td>0.033116</td>\n",
       "    </tr>\n",
       "    <tr>\n",
       "      <th>KO</th>\n",
       "      <td>0.020454</td>\n",
       "      <td>0.020011</td>\n",
       "      <td>0.021273</td>\n",
       "      <td>0.026072</td>\n",
       "      <td>0.026243</td>\n",
       "      <td>0.016619</td>\n",
       "      <td>0.027736</td>\n",
       "      <td>0.053622</td>\n",
       "      <td>0.022882</td>\n",
       "      <td>0.026068</td>\n",
       "      <td>0.027690</td>\n",
       "      <td>0.026025</td>\n",
       "      <td>0.018287</td>\n",
       "      <td>0.023018</td>\n",
       "      <td>0.020631</td>\n",
       "    </tr>\n",
       "    <tr>\n",
       "      <th>LUV</th>\n",
       "      <td>0.036953</td>\n",
       "      <td>0.047849</td>\n",
       "      <td>0.031050</td>\n",
       "      <td>0.039539</td>\n",
       "      <td>0.046624</td>\n",
       "      <td>0.030865</td>\n",
       "      <td>0.049066</td>\n",
       "      <td>0.022882</td>\n",
       "      <td>0.138758</td>\n",
       "      <td>0.048536</td>\n",
       "      <td>0.036813</td>\n",
       "      <td>0.025901</td>\n",
       "      <td>0.040560</td>\n",
       "      <td>0.032478</td>\n",
       "      <td>0.023284</td>\n",
       "    </tr>\n",
       "    <tr>\n",
       "      <th>MA</th>\n",
       "      <td>0.046042</td>\n",
       "      <td>0.056895</td>\n",
       "      <td>0.032149</td>\n",
       "      <td>0.050495</td>\n",
       "      <td>0.062782</td>\n",
       "      <td>0.032259</td>\n",
       "      <td>0.069519</td>\n",
       "      <td>0.026068</td>\n",
       "      <td>0.048536</td>\n",
       "      <td>0.118733</td>\n",
       "      <td>0.049506</td>\n",
       "      <td>0.032065</td>\n",
       "      <td>0.049177</td>\n",
       "      <td>0.042845</td>\n",
       "      <td>0.041662</td>\n",
       "    </tr>\n",
       "    <tr>\n",
       "      <th>MSFT</th>\n",
       "      <td>0.041359</td>\n",
       "      <td>0.072433</td>\n",
       "      <td>0.037298</td>\n",
       "      <td>0.042657</td>\n",
       "      <td>0.041437</td>\n",
       "      <td>0.035125</td>\n",
       "      <td>0.049166</td>\n",
       "      <td>0.027690</td>\n",
       "      <td>0.036813</td>\n",
       "      <td>0.049506</td>\n",
       "      <td>0.114474</td>\n",
       "      <td>0.030539</td>\n",
       "      <td>0.051487</td>\n",
       "      <td>0.033995</td>\n",
       "      <td>0.028871</td>\n",
       "    </tr>\n",
       "    <tr>\n",
       "      <th>PFE</th>\n",
       "      <td>0.025780</td>\n",
       "      <td>0.031182</td>\n",
       "      <td>0.025289</td>\n",
       "      <td>0.029225</td>\n",
       "      <td>0.026954</td>\n",
       "      <td>0.032414</td>\n",
       "      <td>0.032659</td>\n",
       "      <td>0.026025</td>\n",
       "      <td>0.025901</td>\n",
       "      <td>0.032065</td>\n",
       "      <td>0.030539</td>\n",
       "      <td>0.076197</td>\n",
       "      <td>0.018093</td>\n",
       "      <td>0.028286</td>\n",
       "      <td>0.022997</td>\n",
       "    </tr>\n",
       "    <tr>\n",
       "      <th>TSLA</th>\n",
       "      <td>0.042889</td>\n",
       "      <td>0.063671</td>\n",
       "      <td>0.027724</td>\n",
       "      <td>0.041091</td>\n",
       "      <td>0.056865</td>\n",
       "      <td>0.031965</td>\n",
       "      <td>0.040584</td>\n",
       "      <td>0.018287</td>\n",
       "      <td>0.040560</td>\n",
       "      <td>0.049177</td>\n",
       "      <td>0.051487</td>\n",
       "      <td>0.018093</td>\n",
       "      <td>0.324197</td>\n",
       "      <td>0.031278</td>\n",
       "      <td>0.029268</td>\n",
       "    </tr>\n",
       "    <tr>\n",
       "      <th>UNH</th>\n",
       "      <td>0.030540</td>\n",
       "      <td>0.034806</td>\n",
       "      <td>0.027502</td>\n",
       "      <td>0.031914</td>\n",
       "      <td>0.029133</td>\n",
       "      <td>0.033860</td>\n",
       "      <td>0.038580</td>\n",
       "      <td>0.023018</td>\n",
       "      <td>0.032478</td>\n",
       "      <td>0.042845</td>\n",
       "      <td>0.033995</td>\n",
       "      <td>0.028286</td>\n",
       "      <td>0.031278</td>\n",
       "      <td>0.162352</td>\n",
       "      <td>0.022461</td>\n",
       "    </tr>\n",
       "    <tr>\n",
       "      <th>XOM</th>\n",
       "      <td>0.030129</td>\n",
       "      <td>0.026604</td>\n",
       "      <td>0.020226</td>\n",
       "      <td>0.025470</td>\n",
       "      <td>0.027898</td>\n",
       "      <td>0.020869</td>\n",
       "      <td>0.033116</td>\n",
       "      <td>0.020631</td>\n",
       "      <td>0.023284</td>\n",
       "      <td>0.041662</td>\n",
       "      <td>0.028871</td>\n",
       "      <td>0.022997</td>\n",
       "      <td>0.029268</td>\n",
       "      <td>0.022461</td>\n",
       "      <td>0.052439</td>\n",
       "    </tr>\n",
       "  </tbody>\n",
       "</table>\n",
       "</div>"
      ],
      "text/plain": [
       "           ACN      AMZN      COST       DIS         F      GILD       JPM  \\\n",
       "ACN   0.090786  0.045939  0.028107  0.040826  0.043833  0.028910  0.048422   \n",
       "AMZN  0.045939  0.331755  0.047738  0.055489  0.052899  0.058452  0.066140   \n",
       "COST  0.028107  0.047738  0.101500  0.031769  0.031536  0.026836  0.038480   \n",
       "DIS   0.040826  0.055489  0.031769  0.099457  0.040942  0.032193  0.047197   \n",
       "F     0.043833  0.052899  0.031536  0.040942  0.127347  0.030022  0.054707   \n",
       "GILD  0.028910  0.058452  0.026836  0.032193  0.030022  0.233696  0.042314   \n",
       "JPM   0.048422  0.066140  0.038480  0.047197  0.054707  0.042314  0.128219   \n",
       "KO    0.020454  0.020011  0.021273  0.026072  0.026243  0.016619  0.027736   \n",
       "LUV   0.036953  0.047849  0.031050  0.039539  0.046624  0.030865  0.049066   \n",
       "MA    0.046042  0.056895  0.032149  0.050495  0.062782  0.032259  0.069519   \n",
       "MSFT  0.041359  0.072433  0.037298  0.042657  0.041437  0.035125  0.049166   \n",
       "PFE   0.025780  0.031182  0.025289  0.029225  0.026954  0.032414  0.032659   \n",
       "TSLA  0.042889  0.063671  0.027724  0.041091  0.056865  0.031965  0.040584   \n",
       "UNH   0.030540  0.034806  0.027502  0.031914  0.029133  0.033860  0.038580   \n",
       "XOM   0.030129  0.026604  0.020226  0.025470  0.027898  0.020869  0.033116   \n",
       "\n",
       "            KO       LUV        MA      MSFT       PFE      TSLA       UNH  \\\n",
       "ACN   0.020454  0.036953  0.046042  0.041359  0.025780  0.042889  0.030540   \n",
       "AMZN  0.020011  0.047849  0.056895  0.072433  0.031182  0.063671  0.034806   \n",
       "COST  0.021273  0.031050  0.032149  0.037298  0.025289  0.027724  0.027502   \n",
       "DIS   0.026072  0.039539  0.050495  0.042657  0.029225  0.041091  0.031914   \n",
       "F     0.026243  0.046624  0.062782  0.041437  0.026954  0.056865  0.029133   \n",
       "GILD  0.016619  0.030865  0.032259  0.035125  0.032414  0.031965  0.033860   \n",
       "JPM   0.027736  0.049066  0.069519  0.049166  0.032659  0.040584  0.038580   \n",
       "KO    0.053622  0.022882  0.026068  0.027690  0.026025  0.018287  0.023018   \n",
       "LUV   0.022882  0.138758  0.048536  0.036813  0.025901  0.040560  0.032478   \n",
       "MA    0.026068  0.048536  0.118733  0.049506  0.032065  0.049177  0.042845   \n",
       "MSFT  0.027690  0.036813  0.049506  0.114474  0.030539  0.051487  0.033995   \n",
       "PFE   0.026025  0.025901  0.032065  0.030539  0.076197  0.018093  0.028286   \n",
       "TSLA  0.018287  0.040560  0.049177  0.051487  0.018093  0.324197  0.031278   \n",
       "UNH   0.023018  0.032478  0.042845  0.033995  0.028286  0.031278  0.162352   \n",
       "XOM   0.020631  0.023284  0.041662  0.028871  0.022997  0.029268  0.022461   \n",
       "\n",
       "           XOM  \n",
       "ACN   0.030129  \n",
       "AMZN  0.026604  \n",
       "COST  0.020226  \n",
       "DIS   0.025470  \n",
       "F     0.027898  \n",
       "GILD  0.020869  \n",
       "JPM   0.033116  \n",
       "KO    0.020631  \n",
       "LUV   0.023284  \n",
       "MA    0.041662  \n",
       "MSFT  0.028871  \n",
       "PFE   0.022997  \n",
       "TSLA  0.029268  \n",
       "UNH   0.022461  \n",
       "XOM   0.052439  "
      ]
     },
     "execution_count": 8,
     "metadata": {},
     "output_type": "execute_result"
    }
   ],
   "source": [
    "from pypfopt import risk_models\n",
    "from pypfopt import plotting\n",
    "\n",
    "sample_cov = risk_models.sample_cov(prices, frequency=252)\n",
    "sample_cov"
   ]
  },
  {
   "cell_type": "code",
   "execution_count": 9,
   "metadata": {
    "colab": {
     "base_uri": "https://localhost:8080/",
     "height": 297
    },
    "id": "HZ15mDtz9ny_",
    "outputId": "5fe64424-4756-4289-e29e-39edc3eb83df"
   },
   "outputs": [
    {
     "data": {
      "image/png": "[encoded data removed]",
      "text/plain": [
       "<Figure size 432x288 with 2 Axes>"
      ]
     },
     "metadata": {
      "needs_background": "light"
     },
     "output_type": "display_data"
    }
   ],
   "source": [
    "plotting.plot_covariance(sample_cov, plot_correlation=True);"
   ]
  },
  {
   "cell_type": "markdown",
   "metadata": {
    "id": "0bhjN57j9ny_"
   },
   "source": [
    "For reasons discussed in the docs, the sample covariance matrix should not be your default choice. I think a better option is Ledoit-Wolf shrinkage, which reduces the extreme values in the covariance matrix. In the image below, we can see that there are fewer bright spots outside the diagonal:"
   ]
  },
  {
   "cell_type": "code",
   "execution_count": 10,
   "metadata": {
    "colab": {
     "base_uri": "https://localhost:8080/",
     "height": 297
    },
    "id": "htpILjX-9nzA",
    "outputId": "254cc6d7-bbee-48bf-c888-82c85a96bf83"
   },
   "outputs": [
    {
     "data": {
      "image/png": "[encoded data removed]",
      "text/plain": [
       "<Figure size 432x288 with 2 Axes>"
      ]
     },
     "metadata": {
      "needs_background": "light"
     },
     "output_type": "display_data"
    }
   ],
   "source": [
    "S = risk_models.CovarianceShrinkage(prices).ledoit_wolf()\n",
    "plotting.plot_covariance(S, plot_correlation=True);"
   ]
  },
  {
   "cell_type": "markdown",
   "metadata": {
    "id": "4mbpNBp39nzA"
   },
   "source": [
    "## Return estimation\n",
    "\n",
    "As discussed in the docs, it is often a bad idea to provide returns using a simple estimate like the mean of past returns. Unless you have a proprietary method for estimating returns, research suggests that you may be better off not providing expected returns – you can then just find the `min_volatility()` portfolio or use `HRP`. \n",
    "\n",
    "However, in this example we will use the CAPM returns, which aims to be slightly more stable than the default mean historical return. Please see the notebook `1-RiskReturnModels.ipynb` for more information."
   ]
  },
  {
   "cell_type": "code",
   "execution_count": 11,
   "metadata": {
    "colab": {
     "base_uri": "https://localhost:8080/"
    },
    "id": "c_syhOUu9nzH",
    "outputId": "40e40fd5-06ac-4f42-c375-7a240c15c27e"
   },
   "outputs": [
    {
     "data": {
      "text/plain": [
       "ACN     0.209920\n",
       "AMZN    0.356438\n",
       "COST    0.194281\n",
       "DIS     0.223571\n",
       "F       0.225547\n",
       "GILD    0.251611\n",
       "JPM     0.251126\n",
       "KO      0.147648\n",
       "LUV     0.227343\n",
       "MA      0.261748\n",
       "MSFT    0.238782\n",
       "PFE     0.177309\n",
       "TSLA    0.292879\n",
       "UNH     0.219309\n",
       "XOM     0.141098\n",
       "Name: mkt, dtype: float64"
      ]
     },
     "execution_count": 11,
     "metadata": {},
     "output_type": "execute_result"
    }
   ],
   "source": [
    "from pypfopt import expected_returns\n",
    "\n",
    "mu = expected_returns.capm_return(prices)\n",
    "mu"
   ]
  },
  {
   "cell_type": "code",
   "execution_count": 12,
   "metadata": {
    "colab": {
     "base_uri": "https://localhost:8080/",
     "height": 374
    },
    "id": "MlqP3XP99nzH",
    "outputId": "f5e026c2-d259-4894-d3dc-a667d591e101"
   },
   "outputs": [
    {
     "data": {
      "image/png": "[encoded data removed]",
      "text/plain": [
       "<Figure size 720x432 with 1 Axes>"
      ]
     },
     "metadata": {
      "needs_background": "light"
     },
     "output_type": "display_data"
    }
   ],
   "source": [
    "mu.plot.barh(figsize=(10,6));"
   ]
  },
  {
   "cell_type": "markdown",
   "metadata": {
    "id": "iHNXRsJA9nzI"
   },
   "source": [
    "## Long/short min variance\n",
    "\n",
    "In this section, we construct a long/short portfolio with the objective of minimising variance. There is a good deal of research that demonstrates that these global-minimum variance (GMV) portfolios outperform mean-variance optimized portfolios."
   ]
  },
  {
   "cell_type": "code",
   "execution_count": 13,
   "metadata": {
    "id": "LTjcmcmK9nzI"
   },
   "outputs": [],
   "source": [
    "from pypfopt import EfficientFrontier"
   ]
  },
  {
   "cell_type": "code",
   "execution_count": 14,
   "metadata": {
    "colab": {
     "base_uri": "https://localhost:8080/"
    },
    "id": "ZD5_4rlY9nzI",
    "outputId": "81faef92-6667-4452-8859-3a659d235b14"
   },
   "outputs": [
    {
     "data": {
      "text/plain": [
       "OrderedDict([('ACN', 0.23205),\n",
       "             ('AMZN', 0.00697),\n",
       "             ('COST', 0.0993),\n",
       "             ('DIS', -0.0181),\n",
       "             ('F', -0.02064),\n",
       "             ('GILD', 0.04728),\n",
       "             ('JPM', -0.04804),\n",
       "             ('KO', 0.13031),\n",
       "             ('LUV', 0.02422),\n",
       "             ('MA', 0.23279),\n",
       "             ('MSFT', -0.00029),\n",
       "             ('PFE', 0.06875),\n",
       "             ('TSLA', 0.13083),\n",
       "             ('UNH', 0.03283),\n",
       "             ('XOM', 0.08175)])"
      ]
     },
     "execution_count": 14,
     "metadata": {},
     "output_type": "execute_result"
    }
   ],
   "source": [
    "S = risk_models.CovarianceShrinkage(prices).ledoit_wolf()\n",
    "\n",
    "# You don't have to provide expected returns in this case\n",
    "ef = EfficientFrontier(None, S, weight_bounds=(None, None))\n",
    "ef.min_volatility()\n",
    "weights = ef.clean_weights()\n",
    "weights"
   ]
  },
  {
   "cell_type": "code",
   "execution_count": 15,
   "metadata": {
    "colab": {
     "base_uri": "https://localhost:8080/",
     "height": 265
    },
    "id": "RVRwHED99nzJ",
    "outputId": "f606418a-1614-4c38-9574-c18b1b9c5ac6"
   },
   "outputs": [
    {
     "data": {
      "image/png": "[encoded data removed]",
      "text/plain": [
       "<Figure size 432x288 with 1 Axes>"
      ]
     },
     "metadata": {
      "needs_background": "light"
     },
     "output_type": "display_data"
    }
   ],
   "source": [
    "pd.Series(weights).plot.barh();"
   ]
  },
  {
   "cell_type": "markdown",
   "metadata": {
    "id": "jpgqSknF9nzJ"
   },
   "source": [
    "We can get a quick indication of the portfolio performance as follows. Note that this is an in sample estimate and may have very little resemblance to how the portfolio actually performs!"
   ]
  },
  {
   "cell_type": "code",
   "execution_count": 16,
   "metadata": {
    "colab": {
     "base_uri": "https://localhost:8080/"
    },
    "id": "ZnDm8UkC9nzJ",
    "outputId": "9302f8ed-698e-461b-c4a1-ad8113f1aa11"
   },
   "outputs": [
    {
     "name": "stdout",
     "output_type": "stream",
     "text": [
      "Annual volatility: 12.1%\n"
     ]
    }
   ],
   "source": [
    "ef.portfolio_performance(verbose=True);"
   ]
  },
  {
   "cell_type": "code",
   "execution_count": 17,
   "metadata": {
    "colab": {
     "base_uri": "https://localhost:8080/",
     "height": 692
    },
    "id": "aYa6yhWx9nzJ",
    "outputId": "0d5cf83b-05f5-44b4-92ae-8f2ab51f6a96"
   },
   "outputs": [
    {
     "data": {
      "text/html": [
       "<div>\n",
       "<style scoped>\n",
       "    .dataframe tbody tr th:only-of-type {\n",
       "        vertical-align: middle;\n",
       "    }\n",
       "\n",
       "    .dataframe tbody tr th {\n",
       "        vertical-align: top;\n",
       "    }\n",
       "\n",
       "    .dataframe thead th {\n",
       "        text-align: right;\n",
       "    }\n",
       "</style>\n",
       "<table border=\"1\" class=\"dataframe\">\n",
       "  <thead>\n",
       "    <tr style=\"text-align: right;\">\n",
       "      <th></th>\n",
       "      <th>ACN</th>\n",
       "      <th>AMZN</th>\n",
       "      <th>COST</th>\n",
       "      <th>DIS</th>\n",
       "      <th>F</th>\n",
       "      <th>GILD</th>\n",
       "      <th>JPM</th>\n",
       "      <th>KO</th>\n",
       "      <th>LUV</th>\n",
       "      <th>MA</th>\n",
       "      <th>MSFT</th>\n",
       "      <th>PFE</th>\n",
       "      <th>TSLA</th>\n",
       "      <th>UNH</th>\n",
       "      <th>XOM</th>\n",
       "    </tr>\n",
       "    <tr>\n",
       "      <th>Date</th>\n",
       "      <th></th>\n",
       "      <th></th>\n",
       "      <th></th>\n",
       "      <th></th>\n",
       "      <th></th>\n",
       "      <th></th>\n",
       "      <th></th>\n",
       "      <th></th>\n",
       "      <th></th>\n",
       "      <th></th>\n",
       "      <th></th>\n",
       "      <th></th>\n",
       "      <th></th>\n",
       "      <th></th>\n",
       "      <th></th>\n",
       "    </tr>\n",
       "  </thead>\n",
       "  <tbody>\n",
       "    <tr>\n",
       "      <th>1962-01-02</th>\n",
       "      <td>NaN</td>\n",
       "      <td>NaN</td>\n",
       "      <td>NaN</td>\n",
       "      <td>0.058398</td>\n",
       "      <td>NaN</td>\n",
       "      <td>NaN</td>\n",
       "      <td>NaN</td>\n",
       "      <td>0.050381</td>\n",
       "      <td>NaN</td>\n",
       "      <td>NaN</td>\n",
       "      <td>NaN</td>\n",
       "      <td>NaN</td>\n",
       "      <td>NaN</td>\n",
       "      <td>NaN</td>\n",
       "      <td>0.099852</td>\n",
       "    </tr>\n",
       "    <tr>\n",
       "      <th>1962-01-03</th>\n",
       "      <td>NaN</td>\n",
       "      <td>NaN</td>\n",
       "      <td>NaN</td>\n",
       "      <td>0.059182</td>\n",
       "      <td>NaN</td>\n",
       "      <td>NaN</td>\n",
       "      <td>NaN</td>\n",
       "      <td>0.049258</td>\n",
       "      <td>NaN</td>\n",
       "      <td>NaN</td>\n",
       "      <td>NaN</td>\n",
       "      <td>NaN</td>\n",
       "      <td>NaN</td>\n",
       "      <td>NaN</td>\n",
       "      <td>0.101335</td>\n",
       "    </tr>\n",
       "    <tr>\n",
       "      <th>1962-01-04</th>\n",
       "      <td>NaN</td>\n",
       "      <td>NaN</td>\n",
       "      <td>NaN</td>\n",
       "      <td>0.059182</td>\n",
       "      <td>NaN</td>\n",
       "      <td>NaN</td>\n",
       "      <td>NaN</td>\n",
       "      <td>0.049632</td>\n",
       "      <td>NaN</td>\n",
       "      <td>NaN</td>\n",
       "      <td>NaN</td>\n",
       "      <td>NaN</td>\n",
       "      <td>NaN</td>\n",
       "      <td>NaN</td>\n",
       "      <td>0.101582</td>\n",
       "    </tr>\n",
       "    <tr>\n",
       "      <th>1962-01-05</th>\n",
       "      <td>NaN</td>\n",
       "      <td>NaN</td>\n",
       "      <td>NaN</td>\n",
       "      <td>0.059378</td>\n",
       "      <td>NaN</td>\n",
       "      <td>NaN</td>\n",
       "      <td>NaN</td>\n",
       "      <td>0.048510</td>\n",
       "      <td>NaN</td>\n",
       "      <td>NaN</td>\n",
       "      <td>NaN</td>\n",
       "      <td>NaN</td>\n",
       "      <td>NaN</td>\n",
       "      <td>NaN</td>\n",
       "      <td>0.099357</td>\n",
       "    </tr>\n",
       "    <tr>\n",
       "      <th>1962-01-08</th>\n",
       "      <td>NaN</td>\n",
       "      <td>NaN</td>\n",
       "      <td>NaN</td>\n",
       "      <td>0.059182</td>\n",
       "      <td>NaN</td>\n",
       "      <td>NaN</td>\n",
       "      <td>NaN</td>\n",
       "      <td>0.048011</td>\n",
       "      <td>NaN</td>\n",
       "      <td>NaN</td>\n",
       "      <td>NaN</td>\n",
       "      <td>NaN</td>\n",
       "      <td>NaN</td>\n",
       "      <td>NaN</td>\n",
       "      <td>0.099110</td>\n",
       "    </tr>\n",
       "    <tr>\n",
       "      <th>...</th>\n",
       "      <td>...</td>\n",
       "      <td>...</td>\n",
       "      <td>...</td>\n",
       "      <td>...</td>\n",
       "      <td>...</td>\n",
       "      <td>...</td>\n",
       "      <td>...</td>\n",
       "      <td>...</td>\n",
       "      <td>...</td>\n",
       "      <td>...</td>\n",
       "      <td>...</td>\n",
       "      <td>...</td>\n",
       "      <td>...</td>\n",
       "      <td>...</td>\n",
       "      <td>...</td>\n",
       "    </tr>\n",
       "    <tr>\n",
       "      <th>2022-08-11</th>\n",
       "      <td>314.420013</td>\n",
       "      <td>140.639999</td>\n",
       "      <td>532.200012</td>\n",
       "      <td>117.690002</td>\n",
       "      <td>15.830000</td>\n",
       "      <td>62.450001</td>\n",
       "      <td>120.139999</td>\n",
       "      <td>63.220001</td>\n",
       "      <td>38.970001</td>\n",
       "      <td>350.579987</td>\n",
       "      <td>286.412048</td>\n",
       "      <td>48.290001</td>\n",
       "      <td>859.890015</td>\n",
       "      <td>532.859985</td>\n",
       "      <td>93.190002</td>\n",
       "    </tr>\n",
       "    <tr>\n",
       "      <th>2022-08-12</th>\n",
       "      <td>320.440002</td>\n",
       "      <td>143.550003</td>\n",
       "      <td>537.210022</td>\n",
       "      <td>121.570000</td>\n",
       "      <td>16.180000</td>\n",
       "      <td>62.959999</td>\n",
       "      <td>122.129997</td>\n",
       "      <td>63.700001</td>\n",
       "      <td>39.459999</td>\n",
       "      <td>354.269989</td>\n",
       "      <td>291.291718</td>\n",
       "      <td>50.110001</td>\n",
       "      <td>900.090027</td>\n",
       "      <td>543.700012</td>\n",
       "      <td>94.000000</td>\n",
       "    </tr>\n",
       "    <tr>\n",
       "      <th>2022-08-15</th>\n",
       "      <td>320.329987</td>\n",
       "      <td>143.179993</td>\n",
       "      <td>545.750000</td>\n",
       "      <td>124.260002</td>\n",
       "      <td>16.320000</td>\n",
       "      <td>66.209999</td>\n",
       "      <td>122.459999</td>\n",
       "      <td>64.500000</td>\n",
       "      <td>39.639999</td>\n",
       "      <td>359.950012</td>\n",
       "      <td>292.848389</td>\n",
       "      <td>49.750000</td>\n",
       "      <td>927.960022</td>\n",
       "      <td>544.640015</td>\n",
       "      <td>92.320000</td>\n",
       "    </tr>\n",
       "    <tr>\n",
       "      <th>2022-08-16</th>\n",
       "      <td>320.779999</td>\n",
       "      <td>144.779999</td>\n",
       "      <td>553.020020</td>\n",
       "      <td>124.959999</td>\n",
       "      <td>16.430000</td>\n",
       "      <td>66.330002</td>\n",
       "      <td>123.629997</td>\n",
       "      <td>65.029999</td>\n",
       "      <td>39.869999</td>\n",
       "      <td>359.250000</td>\n",
       "      <td>292.089996</td>\n",
       "      <td>49.860001</td>\n",
       "      <td>919.690002</td>\n",
       "      <td>546.119995</td>\n",
       "      <td>91.459999</td>\n",
       "    </tr>\n",
       "    <tr>\n",
       "      <th>2022-08-17</th>\n",
       "      <td>318.450012</td>\n",
       "      <td>142.100006</td>\n",
       "      <td>556.320007</td>\n",
       "      <td>122.809998</td>\n",
       "      <td>16.030001</td>\n",
       "      <td>66.019997</td>\n",
       "      <td>122.589996</td>\n",
       "      <td>64.879997</td>\n",
       "      <td>38.939999</td>\n",
       "      <td>355.329987</td>\n",
       "      <td>291.320007</td>\n",
       "      <td>49.270000</td>\n",
       "      <td>911.989990</td>\n",
       "      <td>545.000000</td>\n",
       "      <td>92.199997</td>\n",
       "    </tr>\n",
       "  </tbody>\n",
       "</table>\n",
       "<p>15262 rows × 15 columns</p>\n",
       "</div>"
      ],
      "text/plain": [
       "                   ACN        AMZN        COST         DIS          F  \\\n",
       "Date                                                                    \n",
       "1962-01-02         NaN         NaN         NaN    0.058398        NaN   \n",
       "1962-01-03         NaN         NaN         NaN    0.059182        NaN   \n",
       "1962-01-04         NaN         NaN         NaN    0.059182        NaN   \n",
       "1962-01-05         NaN         NaN         NaN    0.059378        NaN   \n",
       "1962-01-08         NaN         NaN         NaN    0.059182        NaN   \n",
       "...                ...         ...         ...         ...        ...   \n",
       "2022-08-11  314.420013  140.639999  532.200012  117.690002  15.830000   \n",
       "2022-08-12  320.440002  143.550003  537.210022  121.570000  16.180000   \n",
       "2022-08-15  320.329987  143.179993  545.750000  124.260002  16.320000   \n",
       "2022-08-16  320.779999  144.779999  553.020020  124.959999  16.430000   \n",
       "2022-08-17  318.450012  142.100006  556.320007  122.809998  16.030001   \n",
       "\n",
       "                 GILD         JPM         KO        LUV          MA  \\\n",
       "Date                                                                  \n",
       "1962-01-02        NaN         NaN   0.050381        NaN         NaN   \n",
       "1962-01-03        NaN         NaN   0.049258        NaN         NaN   \n",
       "1962-01-04        NaN         NaN   0.049632        NaN         NaN   \n",
       "1962-01-05        NaN         NaN   0.048510        NaN         NaN   \n",
       "1962-01-08        NaN         NaN   0.048011        NaN         NaN   \n",
       "...               ...         ...        ...        ...         ...   \n",
       "2022-08-11  62.450001  120.139999  63.220001  38.970001  350.579987   \n",
       "2022-08-12  62.959999  122.129997  63.700001  39.459999  354.269989   \n",
       "2022-08-15  66.209999  122.459999  64.500000  39.639999  359.950012   \n",
       "2022-08-16  66.330002  123.629997  65.029999  39.869999  359.250000   \n",
       "2022-08-17  66.019997  122.589996  64.879997  38.939999  355.329987   \n",
       "\n",
       "                  MSFT        PFE        TSLA         UNH        XOM  \n",
       "Date                                                                  \n",
       "1962-01-02         NaN        NaN         NaN         NaN   0.099852  \n",
       "1962-01-03         NaN        NaN         NaN         NaN   0.101335  \n",
       "1962-01-04         NaN        NaN         NaN         NaN   0.101582  \n",
       "1962-01-05         NaN        NaN         NaN         NaN   0.099357  \n",
       "1962-01-08         NaN        NaN         NaN         NaN   0.099110  \n",
       "...                ...        ...         ...         ...        ...  \n",
       "2022-08-11  286.412048  48.290001  859.890015  532.859985  93.190002  \n",
       "2022-08-12  291.291718  50.110001  900.090027  543.700012  94.000000  \n",
       "2022-08-15  292.848389  49.750000  927.960022  544.640015  92.320000  \n",
       "2022-08-16  292.089996  49.860001  919.690002  546.119995  91.459999  \n",
       "2022-08-17  291.320007  49.270000  911.989990  545.000000  92.199997  \n",
       "\n",
       "[15262 rows x 15 columns]"
      ]
     },
     "execution_count": 17,
     "metadata": {},
     "output_type": "execute_result"
    }
   ],
   "source": [
    "prices"
   ]
  },
  {
   "cell_type": "markdown",
   "metadata": {
    "id": "ORCrBIG19nzK"
   },
   "source": [
    "Let's say we were happy with this portfolio and wanted to actually go out and buy the shares.  To do this, we would need to construct a **discrete allocation** (unless your broker supports fractional shares!)\n",
    "\n",
    "If we had \\$20,0000 to invest and would like our portfolio to be 130/30 long/short, we can construct the actual allocation as follows:"
   ]
  },
  {
   "cell_type": "code",
   "execution_count": 18,
   "metadata": {
    "colab": {
     "base_uri": "https://localhost:8080/"
    },
    "id": "w10Rcb-X9nzK",
    "outputId": "052edfa3-7811-459c-debb-644dc7aa2368"
   },
   "outputs": [
    {
     "name": "stdout",
     "output_type": "stream",
     "text": [
      "Discrete allocation performed with $96.08 leftover\n"
     ]
    },
    {
     "name": "stderr",
     "output_type": "stream",
     "text": [
      "C:\\ProgramData\\Anaconda3\\lib\\site-packages\\cvxpy\\problems\\problem.py:1337: UserWarning: Solution may be inaccurate. Try another solver, adjusting the solver settings, or solve with verbose=True for more information.\n",
      "  warnings.warn(\n"
     ]
    },
    {
     "data": {
      "text/plain": [
       "{'ACN': 13,\n",
       " 'AMZN': 1,\n",
       " 'COST': 3,\n",
       " 'GILD': 13,\n",
       " 'KO': 37,\n",
       " 'LUV': 11,\n",
       " 'MA': 12,\n",
       " 'PFE': 26,\n",
       " 'TSLA': 3,\n",
       " 'UNH': 1,\n",
       " 'XOM': 16,\n",
       " 'DIS': -10,\n",
       " 'F': -89,\n",
       " 'JPM': -27}"
      ]
     },
     "execution_count": 18,
     "metadata": {},
     "output_type": "execute_result"
    }
   ],
   "source": [
    "from pypfopt import DiscreteAllocation\n",
    "\n",
    "latest_prices = prices.iloc[-1]  # prices as of the day you are allocating\n",
    "da = DiscreteAllocation(weights, latest_prices, total_portfolio_value=20000, short_ratio=0.3)\n",
    "alloc, leftover = da.lp_portfolio()\n",
    "print(f\"Discrete allocation performed with ${leftover:.2f} leftover\")\n",
    "alloc"
   ]
  },
  {
   "cell_type": "markdown",
   "metadata": {
    "id": "ab3Rk-Aa9nzK"
   },
   "source": [
    "## Max Sharpe with sector constraints\n",
    "\n",
    "If you have your own model for returns (or have read the warnings and want to proceed anyways), you may consider maximising the Sharpe ratio. This theoretically gives the optimal portfolio in terms of risks-returns.\n",
    "\n",
    "In this section, we construct a long-only max-sharpe portfolio, but also incorporate sector constraints. Sector constraints require three things. A `sector_mapper`, your `sector_lower` bounds, and your `sector_upper` bounds."
   ]
  },
  {
   "cell_type": "code",
   "execution_count": 19,
   "metadata": {
    "id": "mJcyi2-E9nzK"
   },
   "outputs": [],
   "source": [
    "sector_mapper = {\n",
    "    \"MSFT\": \"Tech\",\n",
    "    \"AMZN\": \"Consumer Discretionary\",\n",
    "    \"KO\": \"Consumer Staples\",\n",
    "    \"MA\": \"Financial Services\",\n",
    "    \"COST\": \"Consumer Staples\",\n",
    "    \"LUV\": \"Aerospace\",\n",
    "    \"XOM\": \"Energy\",\n",
    "    \"PFE\": \"Healthcare\",\n",
    "    \"JPM\": \"Financial Services\",\n",
    "    \"UNH\": \"Healthcare\",\n",
    "    \"ACN\": \"Misc\",\n",
    "    \"DIS\": \"Media\",\n",
    "    \"GILD\": \"Healthcare\",\n",
    "    \"F\": \"Auto\",\n",
    "    \"TSLA\": \"Auto\"\n",
    "}\n",
    "\n",
    "sector_lower = {\n",
    "    \"Consumer Staples\": 0.1, # at least 10% to staples\n",
    "    \"Tech\": 0.05 # at least 5% to tech\n",
    "    # For all other sectors, it will be assumed there is no lower bound\n",
    "}\n",
    "\n",
    "sector_upper = {\n",
    "    \"Tech\": 0.2,\n",
    "    \"Aerospace\":0.1,\n",
    "    \"Energy\": 0.1,\n",
    "    \"Auto\":0.15\n",
    "}"
   ]
  },
  {
   "cell_type": "markdown",
   "metadata": {
    "id": "1h5ZdZwF9nzL"
   },
   "source": [
    "We then set up the optimizer and add our constraints. We can use `ef.add_objective()` to add other constraints. For example, let's say that in addition to the above sector constraints, I specifically want:\n",
    "\n",
    "- 10% of the portfolio in AMZN\n",
    "- Less than 5% of my portfolio in TSLA"
   ]
  },
  {
   "cell_type": "code",
   "execution_count": 20,
   "metadata": {
    "id": "FRjwf0wN9nzL"
   },
   "outputs": [],
   "source": [
    "mu = expected_returns.capm_return(prices)\n",
    "S = risk_models.CovarianceShrinkage(prices).ledoit_wolf()\n",
    "\n",
    "ef = EfficientFrontier(mu, S)  # weight_bounds automatically set to (0, 1)\n",
    "ef.add_sector_constraints(sector_mapper, sector_lower, sector_upper)\n",
    "\n",
    "amzn_index = ef.tickers.index(\"AMZN\")\n",
    "ef.add_constraint(lambda w: w[amzn_index] == 0.10)\n",
    "\n",
    "tsla_index = ef.tickers.index(\"TSLA\")\n",
    "ef.add_constraint(lambda w: w[tsla_index] <= 0.05)\n",
    "\n",
    "ef.add_constraint(lambda w: w[10] >= 0.05)\n",
    "\n",
    "ef.max_sharpe()\n",
    "weights = ef.clean_weights()"
   ]
  },
  {
   "cell_type": "code",
   "execution_count": 21,
   "metadata": {
    "colab": {
     "base_uri": "https://localhost:8080/"
    },
    "id": "pZAu8ypG9nzL",
    "outputId": "2a3703a8-bbd0-468d-f0c6-25be50f7b0c7"
   },
   "outputs": [
    {
     "data": {
      "text/plain": [
       "OrderedDict([('ACN', 0.17001),\n",
       "             ('AMZN', 0.1),\n",
       "             ('COST', 0.05492),\n",
       "             ('DIS', 0.0),\n",
       "             ('F', 0.0),\n",
       "             ('GILD', 0.0632),\n",
       "             ('JPM', 0.0),\n",
       "             ('KO', 0.04508),\n",
       "             ('LUV', 0.02165),\n",
       "             ('MA', 0.38433),\n",
       "             ('MSFT', 0.05),\n",
       "             ('PFE', 0.02621),\n",
       "             ('TSLA', 0.05),\n",
       "             ('UNH', 0.03461),\n",
       "             ('XOM', 0.0)])"
      ]
     },
     "execution_count": 21,
     "metadata": {},
     "output_type": "execute_result"
    }
   ],
   "source": [
    "weights"
   ]
  },
  {
   "cell_type": "code",
   "execution_count": 22,
   "metadata": {
    "colab": {
     "base_uri": "https://localhost:8080/",
     "height": 575
    },
    "id": "izbZQ6-G9nzL",
    "outputId": "1aafb3d3-a32b-469e-e702-6044c7f54116"
   },
   "outputs": [
    {
     "data": {
      "image/png": "[encoded data removed]",
      "text/plain": [
       "<Figure size 720x720 with 1 Axes>"
      ]
     },
     "metadata": {},
     "output_type": "display_data"
    }
   ],
   "source": [
    "pd.Series(weights).plot.pie(figsize=(10,10));"
   ]
  },
  {
   "cell_type": "markdown",
   "metadata": {
    "id": "kGa9xMQ19nzM"
   },
   "source": [
    "We can immediately see that our explicit constraints were satisfied, and can check all the sector constraints as follows:\n"
   ]
  },
  {
   "cell_type": "code",
   "execution_count": 23,
   "metadata": {
    "colab": {
     "base_uri": "https://localhost:8080/"
    },
    "id": "JtA8KzWp9nzM",
    "outputId": "cd007325-fa24-4f41-f8fa-3d149ae7fc23"
   },
   "outputs": [
    {
     "name": "stdout",
     "output_type": "stream",
     "text": [
      "Consumer Staples: 0.100\n",
      "Financial Services: 0.384\n",
      "Consumer Discretionary: 0.100\n",
      "Misc: 0.170\n",
      "Tech: 0.050\n",
      "Healthcare: 0.124\n",
      "Media: 0.000\n",
      "Aerospace: 0.022\n",
      "Auto: 0.050\n",
      "Energy: 0.000\n"
     ]
    }
   ],
   "source": [
    "# O(N^2) loop not a good idea in a coding interview :)\n",
    "for sector in set(sector_mapper.values()):\n",
    "    total_weight = 0\n",
    "    for t,w in weights.items():\n",
    "        if sector_mapper[t] == sector:\n",
    "            total_weight += w\n",
    "    print(f\"{sector}: {total_weight:.3f}\")"
   ]
  },
  {
   "cell_type": "markdown",
   "metadata": {
    "id": "qOZ-z4AK9nzM"
   },
   "source": [
    "## Maximise return for a given risk, with L2 regularisation\n",
    "\n",
    "Let's imagine that we've put a lot of thought into our risk tolerance, and have decided that we can't accept anything more than 15% volatility. We can use PyPortfolioOpt to construct a portfolio that maximises return for a given risk (with the same caveats about expected returns)."
   ]
  },
  {
   "cell_type": "code",
   "execution_count": 24,
   "metadata": {
    "colab": {
     "base_uri": "https://localhost:8080/"
    },
    "id": "sKantkrg9nzM",
    "outputId": "3b60679f-80ef-4ec7-e029-989ef9d27f14"
   },
   "outputs": [
    {
     "data": {
      "text/plain": [
       "OrderedDict([('ACN', 0.0),\n",
       "             ('AMZN', 0.17043),\n",
       "             ('COST', 0.09716),\n",
       "             ('DIS', 0.0),\n",
       "             ('F', 0.0),\n",
       "             ('GILD', 0.06495),\n",
       "             ('JPM', 0.0),\n",
       "             ('KO', 0.00284),\n",
       "             ('LUV', 0.00204),\n",
       "             ('MA', 0.45273),\n",
       "             ('MSFT', 0.05),\n",
       "             ('PFE', 0.0),\n",
       "             ('TSLA', 0.15),\n",
       "             ('UNH', 0.00984),\n",
       "             ('XOM', 0.0)])"
      ]
     },
     "execution_count": 24,
     "metadata": {},
     "output_type": "execute_result"
    }
   ],
   "source": [
    "ef = EfficientFrontier(mu, S)\n",
    "ef.add_sector_constraints(sector_mapper, sector_lower, sector_upper)\n",
    "ef.efficient_risk(target_volatility=0.15)\n",
    "weights = ef.clean_weights()\n",
    "weights"
   ]
  },
  {
   "cell_type": "code",
   "execution_count": 25,
   "metadata": {
    "colab": {
     "base_uri": "https://localhost:8080/"
    },
    "id": "46ylv28y9nzM",
    "outputId": "de8f0548-437e-4997-cc46-d927d5f61df2"
   },
   "outputs": [
    {
     "name": "stdout",
     "output_type": "stream",
     "text": [
      "6/15 tickers have zero weight\n"
     ]
    }
   ],
   "source": [
    "num_small = len([k for k in weights if weights[k] <= 1e-4])\n",
    "print(f\"{num_small}/{len(ef.tickers)} tickers have zero weight\")"
   ]
  },
  {
   "cell_type": "code",
   "execution_count": 26,
   "metadata": {
    "colab": {
     "base_uri": "https://localhost:8080/"
    },
    "id": "3HWpBJxZ9nzM",
    "outputId": "cae10c97-978e-40ee-8dd5-796d9635f53f"
   },
   "outputs": [
    {
     "name": "stdout",
     "output_type": "stream",
     "text": [
      "Expected annual return: 27.3%\n",
      "Annual volatility: 15.0%\n",
      "Sharpe Ratio: 1.69\n"
     ]
    }
   ],
   "source": [
    "ef.portfolio_performance(verbose=True);"
   ]
  },
  {
   "cell_type": "markdown",
   "metadata": {
    "id": "sFdT8Xar9nzN"
   },
   "source": [
    "While this portfolio seems like it meets our objectives, we might be worried by the fact that a lot of the tickers have been assigned zero weight. In effect, the optimizer is \"overfitting\" to the data you have provided -- you are much more likely to get better results by enforcing some level of diversification. One way of doing this is to use **L2 regularisation** – essentially, adding a penalty on the number of near-zero weights."
   ]
  },
  {
   "cell_type": "code",
   "execution_count": 27,
   "metadata": {
    "colab": {
     "base_uri": "https://localhost:8080/"
    },
    "id": "wiaa_L2u9nzN",
    "outputId": "0adbf717-faaa-4142-9fe3-6ca9368cc23f"
   },
   "outputs": [
    {
     "data": {
      "text/plain": [
       "OrderedDict([('ACN', 0.05908),\n",
       "             ('AMZN', 0.19437),\n",
       "             ('COST', 0.08577),\n",
       "             ('DIS', 0.01379),\n",
       "             ('F', 0.0),\n",
       "             ('GILD', 0.07982),\n",
       "             ('JPM', 0.04372),\n",
       "             ('KO', 0.01423),\n",
       "             ('LUV', 0.03137),\n",
       "             ('MA', 0.24229),\n",
       "             ('MSFT', 0.05),\n",
       "             ('PFE', 0.0),\n",
       "             ('TSLA', 0.15),\n",
       "             ('UNH', 0.03556),\n",
       "             ('XOM', 0.0)])"
      ]
     },
     "execution_count": 27,
     "metadata": {},
     "output_type": "execute_result"
    }
   ],
   "source": [
    "from pypfopt import objective_functions\n",
    "\n",
    "# You must always create a new efficient frontier object\n",
    "ef = EfficientFrontier(mu, S)\n",
    "ef.add_sector_constraints(sector_mapper, sector_lower, sector_upper)\n",
    "ef.add_objective(objective_functions.L2_reg, gamma=0.1)  # gamme is the tuning parameter\n",
    "ef.efficient_risk(0.15)\n",
    "weights = ef.clean_weights()\n",
    "weights"
   ]
  },
  {
   "cell_type": "code",
   "execution_count": 28,
   "metadata": {
    "colab": {
     "base_uri": "https://localhost:8080/"
    },
    "id": "G0ZO5l4D9nzN",
    "outputId": "aefa431d-90b2-493b-8232-8dc8c8213212"
   },
   "outputs": [
    {
     "name": "stdout",
     "output_type": "stream",
     "text": [
      "3/15 tickers have zero weight\n"
     ]
    }
   ],
   "source": [
    "num_small = len([k for k in weights if weights[k] <= 1e-4])\n",
    "print(f\"{num_small}/{len(ef.tickers)} tickers have zero weight\")"
   ]
  },
  {
   "cell_type": "markdown",
   "metadata": {
    "id": "n8yo6ey19nzN"
   },
   "source": [
    "We can tune the value of gamma to choose the number of nonzero tickers. Larger gamma pulls portfolio weights towards an equal allocation."
   ]
  },
  {
   "cell_type": "code",
   "execution_count": 29,
   "metadata": {
    "colab": {
     "base_uri": "https://localhost:8080/"
    },
    "id": "hIdHgQnE9nzO",
    "outputId": "76b74cec-dbad-4278-ad5c-6a3bb99b404d"
   },
   "outputs": [
    {
     "data": {
      "text/plain": [
       "OrderedDict([('ACN', 0.05686),\n",
       "             ('AMZN', 0.13012),\n",
       "             ('COST', 0.06166),\n",
       "             ('DIS', 0.06368),\n",
       "             ('F', 0.05817),\n",
       "             ('GILD', 0.0777),\n",
       "             ('JPM', 0.07746),\n",
       "             ('KO', 0.03834),\n",
       "             ('LUV', 0.06557),\n",
       "             ('MA', 0.08277),\n",
       "             ('MSFT', 0.07129),\n",
       "             ('PFE', 0.04055),\n",
       "             ('TSLA', 0.09183),\n",
       "             ('UNH', 0.06155),\n",
       "             ('XOM', 0.02245)])"
      ]
     },
     "execution_count": 29,
     "metadata": {},
     "output_type": "execute_result"
    }
   ],
   "source": [
    "ef = EfficientFrontier(mu, S)\n",
    "ef.add_sector_constraints(sector_mapper, sector_lower, sector_upper)\n",
    "ef.add_objective(objective_functions.L2_reg, gamma=1)  # gamme is the tuning parameter\n",
    "ef.efficient_risk(0.15)\n",
    "weights = ef.clean_weights()\n",
    "weights"
   ]
  },
  {
   "cell_type": "code",
   "execution_count": 30,
   "metadata": {
    "colab": {
     "base_uri": "https://localhost:8080/",
     "height": 575
    },
    "id": "p0DzMHim9nzO",
    "outputId": "baaaab0c-4bee-4883-c0fb-70b4d650ef90"
   },
   "outputs": [
    {
     "data": {
      "image/png": "[encoded data removed]",
      "text/plain": [
       "<Figure size 720x720 with 1 Axes>"
      ]
     },
     "metadata": {},
     "output_type": "display_data"
    }
   ],
   "source": [
    "pd.Series(weights).plot.pie(figsize=(10, 10));"
   ]
  },
  {
   "cell_type": "code",
   "execution_count": 31,
   "metadata": {
    "colab": {
     "base_uri": "https://localhost:8080/"
    },
    "id": "zFLNfMLr9nzO",
    "outputId": "69c1cead-6233-465a-a3c3-6c5def23d624"
   },
   "outputs": [
    {
     "name": "stdout",
     "output_type": "stream",
     "text": [
      "Expected annual return: 24.7%\n",
      "Annual volatility: 15.0%\n",
      "Sharpe Ratio: 1.52\n"
     ]
    }
   ],
   "source": [
    "ef.portfolio_performance(verbose=True);"
   ]
  },
  {
   "cell_type": "markdown",
   "metadata": {
    "id": "wggcvvSR9nzO"
   },
   "source": [
    "The resulting portfolio still has a volatility of less than our 15% limit. It's in-sample Sharpe ratio has gone down, but this portfolio is a lot more robust for actual investment."
   ]
  },
  {
   "cell_type": "markdown",
   "metadata": {
    "id": "Q1r-Z6ws9nzO"
   },
   "source": [
    "## Minimise risk for a given return, market-neutral\n",
    "\n",
    "We may instead be in the situation where we have a certain required rate of return (maybe we are a pension fund that needs 7% return a year), but would like to minimise risk. Additionally, suppose we would like our portfolio to be market neutral, in the sense that it is equally exposed to the long and short sides.  "
   ]
  },
  {
   "cell_type": "code",
   "execution_count": 32,
   "metadata": {
    "colab": {
     "base_uri": "https://localhost:8080/"
    },
    "id": "XB4Cw8at9nzO",
    "outputId": "26404432-1324-435e-cde0-c28a242a571e"
   },
   "outputs": [
    {
     "data": {
      "text/plain": [
       "OrderedDict([('ACN', -0.03327),\n",
       "             ('AMZN', 0.21183),\n",
       "             ('COST', -0.05921),\n",
       "             ('DIS', -0.00395),\n",
       "             ('F', -0.002),\n",
       "             ('GILD', 0.03883),\n",
       "             ('JPM', 0.04207),\n",
       "             ('KO', -0.138),\n",
       "             ('LUV', 0.00019),\n",
       "             ('MA', 0.06114),\n",
       "             ('MSFT', 0.01875),\n",
       "             ('PFE', -0.08536),\n",
       "             ('TSLA', 0.1131),\n",
       "             ('UNH', -0.01275),\n",
       "             ('XOM', -0.15137)])"
      ]
     },
     "execution_count": 32,
     "metadata": {},
     "output_type": "execute_result"
    }
   ],
   "source": [
    "# Must have no weight bounds to allow shorts\n",
    "ef = EfficientFrontier(mu, S, weight_bounds=(None, None))\n",
    "ef.add_objective(objective_functions.L2_reg)\n",
    "ef.efficient_return(target_return=0.07, market_neutral=True)\n",
    "weights = ef.clean_weights()\n",
    "weights"
   ]
  },
  {
   "cell_type": "code",
   "execution_count": 33,
   "metadata": {
    "colab": {
     "base_uri": "https://localhost:8080/"
    },
    "id": "Uf3oUKFP9nzO",
    "outputId": "aa726cf0-1200-4fa9-f61d-ca5807679a34"
   },
   "outputs": [
    {
     "name": "stdout",
     "output_type": "stream",
     "text": [
      "Expected annual return: 7.0%\n",
      "Annual volatility: 10.5%\n",
      "Sharpe Ratio: 0.48\n"
     ]
    }
   ],
   "source": [
    "ef.portfolio_performance(verbose=True);"
   ]
  },
  {
   "cell_type": "code",
   "execution_count": 34,
   "metadata": {
    "colab": {
     "base_uri": "https://localhost:8080/",
     "height": 374
    },
    "id": "4rrQKk1Q9nzP",
    "outputId": "95a52da6-37ed-4dad-cd5b-2701affa6695"
   },
   "outputs": [
    {
     "data": {
      "image/png": "[encoded data removed]",
      "text/plain": [
       "<Figure size 720x432 with 1 Axes>"
      ]
     },
     "metadata": {
      "needs_background": "light"
     },
     "output_type": "display_data"
    }
   ],
   "source": [
    "pd.Series(weights).plot.barh(figsize=(10,6));"
   ]
  },
  {
   "cell_type": "code",
   "execution_count": 35,
   "metadata": {
    "colab": {
     "base_uri": "https://localhost:8080/"
    },
    "id": "YwR1iKqv9nzP",
    "outputId": "478e0b8b-c1ed-4826-a1bc-1ad928927123"
   },
   "outputs": [
    {
     "name": "stdout",
     "output_type": "stream",
     "text": [
      "Net weight: -0.00\n"
     ]
    }
   ],
   "source": [
    "print(f\"Net weight: {sum(weights.values()):.2f}\")"
   ]
  },
  {
   "cell_type": "markdown",
   "metadata": {
    "id": "PBvVeqtm9nzP"
   },
   "source": [
    "## Efficient semi-variance optimization\n",
    "\n",
    "In this example, we will minimise the portfolio semivariance (i.e downside volatility) subject to a return constraint (target 20%).\n",
    "\n",
    "There are actually two ways of doing this in PyPortfolioOpt. The first is the \"intuitive\" way. We compute a semicovariance matrix, and pass this into `EfficientFrontier` (just like we would do for the exponential cov matrix or the Ledoit-Wolf shrunk matrix)."
   ]
  },
  {
   "cell_type": "code",
   "execution_count": 36,
   "metadata": {
    "colab": {
     "base_uri": "https://localhost:8080/",
     "height": 0
    },
    "id": "8FsS5Yqu9nzP",
    "outputId": "94948fd4-598a-4fa7-a41a-371fbda43f43"
   },
   "outputs": [
    {
     "data": {
      "image/png": "[encoded data removed]",
      "text/plain": [
       "<Figure size 432x288 with 2 Axes>"
      ]
     },
     "metadata": {
      "needs_background": "light"
     },
     "output_type": "display_data"
    }
   ],
   "source": [
    "semicov = risk_models.semicovariance(prices, benchmark=0)\n",
    "plotting.plot_covariance(semicov);"
   ]
  },
  {
   "cell_type": "code",
   "execution_count": 37,
   "metadata": {
    "colab": {
     "base_uri": "https://localhost:8080/"
    },
    "id": "cK0NfwQ69nzP",
    "outputId": "16b22337-b5ac-42cc-fe4c-8543d96275fd"
   },
   "outputs": [
    {
     "data": {
      "text/plain": [
       "OrderedDict([('ACN', 0.25724),\n",
       "             ('AMZN', 0.0),\n",
       "             ('COST', 0.08628),\n",
       "             ('DIS', 0.0),\n",
       "             ('F', 0.0),\n",
       "             ('GILD', 0.01406),\n",
       "             ('JPM', 0.0),\n",
       "             ('KO', 0.14018),\n",
       "             ('LUV', 0.0),\n",
       "             ('MA', 0.31033),\n",
       "             ('MSFT', 0.0),\n",
       "             ('PFE', 0.04961),\n",
       "             ('TSLA', 0.12758),\n",
       "             ('UNH', 0.00041),\n",
       "             ('XOM', 0.01432)])"
      ]
     },
     "execution_count": 37,
     "metadata": {},
     "output_type": "execute_result"
    }
   ],
   "source": [
    "ef = EfficientFrontier(mu, semicov)\n",
    "ef.efficient_return(0.2)\n",
    "weights = ef.clean_weights()\n",
    "weights\n"
   ]
  },
  {
   "cell_type": "code",
   "execution_count": 38,
   "metadata": {
    "colab": {
     "base_uri": "https://localhost:8080/"
    },
    "id": "TUmSYq629nzP",
    "outputId": "62eba498-9e70-41b9-c361-5ad7f7814348"
   },
   "outputs": [
    {
     "name": "stdout",
     "output_type": "stream",
     "text": [
      "Expected annual return: 22.4%\n",
      "Annual volatility: 9.1%\n",
      "Sharpe Ratio: 2.24\n"
     ]
    }
   ],
   "source": [
    "ef.portfolio_performance(verbose=True);"
   ]
  },
  {
   "cell_type": "markdown",
   "metadata": {
    "id": "3ZZeruY69nzP"
   },
   "source": [
    "However, this solution is not truly optimal in mean-semivariance space. To do the optimization properly, we must use the `EfficientSemivariance` class. This requires us to first compute the returns and drop NaNs."
   ]
  },
  {
   "cell_type": "code",
   "execution_count": 39,
   "metadata": {
    "id": "1qGD5WW69nzQ"
   },
   "outputs": [],
   "source": [
    "returns = expected_returns.returns_from_prices(prices)\n",
    "returns = returns.dropna()"
   ]
  },
  {
   "cell_type": "code",
   "execution_count": 40,
   "metadata": {
    "colab": {
     "base_uri": "https://localhost:8080/"
    },
    "id": "Tyeys0NY9nzQ",
    "outputId": "bf3aa95f-99ab-4410-e9f9-c04e10bf82eb"
   },
   "outputs": [
    {
     "name": "stdout",
     "output_type": "stream",
     "text": [
      "Expected annual return: 20.0%\n",
      "Annual semi-deviation: 10.5%\n",
      "Sortino Ratio: 1.72\n"
     ]
    }
   ],
   "source": [
    "from pypfopt import EfficientSemivariance\n",
    "\n",
    "es = EfficientSemivariance(mu, returns)\n",
    "es.efficient_return(0.2)\n",
    "es.portfolio_performance(verbose=True);\n"
   ]
  },
  {
   "cell_type": "markdown",
   "metadata": {
    "id": "6g-7u4YA9nzQ"
   },
   "source": [
    "To compare this with the heuristic solution, I will use a quick hack: replacing the `es.weights` with `es.weights` and running `es.portfolio_performance` again. Please don't be encouraged to do this in real life!"
   ]
  },
  {
   "cell_type": "code",
   "execution_count": 41,
   "metadata": {
    "colab": {
     "base_uri": "https://localhost:8080/"
    },
    "id": "6jLzfOCj9nzQ",
    "outputId": "ba8f4fcc-882a-4764-b0b8-e3906677dbd7"
   },
   "outputs": [
    {
     "name": "stdout",
     "output_type": "stream",
     "text": [
      "Expected annual return: 22.4%\n",
      "Annual semi-deviation: 14.1%\n",
      "Sortino Ratio: 1.45\n"
     ]
    }
   ],
   "source": [
    "es.weights = ef.weights\n",
    "es.portfolio_performance(verbose=True);"
   ]
  },
  {
   "cell_type": "markdown",
   "metadata": {
    "id": "FK4C6ah89nzQ"
   },
   "source": [
    "We see that the heuristic method has a significantly lower Sortino ratio, and much higher semivariance."
   ]
  },
  {
   "cell_type": "markdown",
   "metadata": {
    "id": "yJAcvz899nzQ"
   },
   "source": [
    "## Efficient CVaR optimization\n",
    "\n",
    "In this example, we will find the portfolio that maximises return subject to a CVaR constraint.\n",
    "\n",
    "Before doing this, let's first compute the 95%-CVaR for the max-sharpe portfolio."
   ]
  },
  {
   "cell_type": "code",
   "execution_count": 42,
   "metadata": {
    "colab": {
     "base_uri": "https://localhost:8080/",
     "height": 281
    },
    "id": "x1d3qupJ9nzR",
    "outputId": "daadeac7-706a-445e-fdd6-ab02efc6d005"
   },
   "outputs": [
    {
     "data": {
      "text/html": [
       "<div>\n",
       "<style scoped>\n",
       "    .dataframe tbody tr th:only-of-type {\n",
       "        vertical-align: middle;\n",
       "    }\n",
       "\n",
       "    .dataframe tbody tr th {\n",
       "        vertical-align: top;\n",
       "    }\n",
       "\n",
       "    .dataframe thead th {\n",
       "        text-align: right;\n",
       "    }\n",
       "</style>\n",
       "<table border=\"1\" class=\"dataframe\">\n",
       "  <thead>\n",
       "    <tr style=\"text-align: right;\">\n",
       "      <th></th>\n",
       "      <th>ACN</th>\n",
       "      <th>AMZN</th>\n",
       "      <th>COST</th>\n",
       "      <th>DIS</th>\n",
       "      <th>F</th>\n",
       "      <th>GILD</th>\n",
       "      <th>JPM</th>\n",
       "      <th>KO</th>\n",
       "      <th>LUV</th>\n",
       "      <th>MA</th>\n",
       "      <th>MSFT</th>\n",
       "      <th>PFE</th>\n",
       "      <th>TSLA</th>\n",
       "      <th>UNH</th>\n",
       "      <th>XOM</th>\n",
       "    </tr>\n",
       "    <tr>\n",
       "      <th>Date</th>\n",
       "      <th></th>\n",
       "      <th></th>\n",
       "      <th></th>\n",
       "      <th></th>\n",
       "      <th></th>\n",
       "      <th></th>\n",
       "      <th></th>\n",
       "      <th></th>\n",
       "      <th></th>\n",
       "      <th></th>\n",
       "      <th></th>\n",
       "      <th></th>\n",
       "      <th></th>\n",
       "      <th></th>\n",
       "      <th></th>\n",
       "    </tr>\n",
       "  </thead>\n",
       "  <tbody>\n",
       "    <tr>\n",
       "      <th>2010-06-30</th>\n",
       "      <td>0.000000</td>\n",
       "      <td>0.005985</td>\n",
       "      <td>-0.014381</td>\n",
       "      <td>-0.024768</td>\n",
       "      <td>0.020243</td>\n",
       "      <td>-0.019731</td>\n",
       "      <td>-0.012143</td>\n",
       "      <td>-0.004172</td>\n",
       "      <td>0.000000</td>\n",
       "      <td>-0.017046</td>\n",
       "      <td>-0.012870</td>\n",
       "      <td>-0.001400</td>\n",
       "      <td>-0.002512</td>\n",
       "      <td>-0.008033</td>\n",
       "      <td>-0.003840</td>\n",
       "    </tr>\n",
       "    <tr>\n",
       "      <th>2010-07-01</th>\n",
       "      <td>-0.009573</td>\n",
       "      <td>0.015559</td>\n",
       "      <td>0.001276</td>\n",
       "      <td>-0.000317</td>\n",
       "      <td>0.048611</td>\n",
       "      <td>-0.004084</td>\n",
       "      <td>-0.013129</td>\n",
       "      <td>-0.001796</td>\n",
       "      <td>-0.010801</td>\n",
       "      <td>0.016652</td>\n",
       "      <td>0.006519</td>\n",
       "      <td>-0.002104</td>\n",
       "      <td>-0.078472</td>\n",
       "      <td>-0.019366</td>\n",
       "      <td>-0.008060</td>\n",
       "    </tr>\n",
       "    <tr>\n",
       "      <th>2010-07-02</th>\n",
       "      <td>-0.008882</td>\n",
       "      <td>-0.016402</td>\n",
       "      <td>-0.012204</td>\n",
       "      <td>-0.003493</td>\n",
       "      <td>-0.027436</td>\n",
       "      <td>0.021383</td>\n",
       "      <td>-0.006929</td>\n",
       "      <td>0.000400</td>\n",
       "      <td>-0.021838</td>\n",
       "      <td>0.000345</td>\n",
       "      <td>0.004749</td>\n",
       "      <td>-0.006325</td>\n",
       "      <td>-0.125683</td>\n",
       "      <td>0.016158</td>\n",
       "      <td>-0.000707</td>\n",
       "    </tr>\n",
       "    <tr>\n",
       "      <th>2010-07-06</th>\n",
       "      <td>0.012388</td>\n",
       "      <td>0.008430</td>\n",
       "      <td>-0.004241</td>\n",
       "      <td>0.010835</td>\n",
       "      <td>-0.011673</td>\n",
       "      <td>-0.002868</td>\n",
       "      <td>0.013955</td>\n",
       "      <td>0.007593</td>\n",
       "      <td>-0.011162</td>\n",
       "      <td>-0.013513</td>\n",
       "      <td>0.023636</td>\n",
       "      <td>0.010608</td>\n",
       "      <td>-0.160938</td>\n",
       "      <td>0.020848</td>\n",
       "      <td>0.015733</td>\n",
       "    </tr>\n",
       "    <tr>\n",
       "      <th>2010-07-07</th>\n",
       "      <td>0.022129</td>\n",
       "      <td>0.030620</td>\n",
       "      <td>0.005370</td>\n",
       "      <td>0.044767</td>\n",
       "      <td>0.042323</td>\n",
       "      <td>0.004889</td>\n",
       "      <td>0.050096</td>\n",
       "      <td>0.020623</td>\n",
       "      <td>0.062088</td>\n",
       "      <td>0.037695</td>\n",
       "      <td>0.020151</td>\n",
       "      <td>0.023094</td>\n",
       "      <td>-0.019243</td>\n",
       "      <td>0.010730</td>\n",
       "      <td>0.016882</td>\n",
       "    </tr>\n",
       "  </tbody>\n",
       "</table>\n",
       "</div>"
      ],
      "text/plain": [
       "                 ACN      AMZN      COST       DIS         F      GILD  \\\n",
       "Date                                                                     \n",
       "2010-06-30  0.000000  0.005985 -0.014381 -0.024768  0.020243 -0.019731   \n",
       "2010-07-01 -0.009573  0.015559  0.001276 -0.000317  0.048611 -0.004084   \n",
       "2010-07-02 -0.008882 -0.016402 -0.012204 -0.003493 -0.027436  0.021383   \n",
       "2010-07-06  0.012388  0.008430 -0.004241  0.010835 -0.011673 -0.002868   \n",
       "2010-07-07  0.022129  0.030620  0.005370  0.044767  0.042323  0.004889   \n",
       "\n",
       "                 JPM        KO       LUV        MA      MSFT       PFE  \\\n",
       "Date                                                                     \n",
       "2010-06-30 -0.012143 -0.004172  0.000000 -0.017046 -0.012870 -0.001400   \n",
       "2010-07-01 -0.013129 -0.001796 -0.010801  0.016652  0.006519 -0.002104   \n",
       "2010-07-02 -0.006929  0.000400 -0.021838  0.000345  0.004749 -0.006325   \n",
       "2010-07-06  0.013955  0.007593 -0.011162 -0.013513  0.023636  0.010608   \n",
       "2010-07-07  0.050096  0.020623  0.062088  0.037695  0.020151  0.023094   \n",
       "\n",
       "                TSLA       UNH       XOM  \n",
       "Date                                      \n",
       "2010-06-30 -0.002512 -0.008033 -0.003840  \n",
       "2010-07-01 -0.078472 -0.019366 -0.008060  \n",
       "2010-07-02 -0.125683  0.016158 -0.000707  \n",
       "2010-07-06 -0.160938  0.020848  0.015733  \n",
       "2010-07-07 -0.019243  0.010730  0.016882  "
      ]
     },
     "execution_count": 42,
     "metadata": {},
     "output_type": "execute_result"
    }
   ],
   "source": [
    "returns = expected_returns.returns_from_prices(prices).dropna()\n",
    "returns.head()"
   ]
  },
  {
   "cell_type": "code",
   "execution_count": 43,
   "metadata": {
    "colab": {
     "base_uri": "https://localhost:8080/"
    },
    "id": "4RdDFhAt9nzR",
    "outputId": "76d8a6e4-c2b9-4c39-e525-e7b8cf2444e7"
   },
   "outputs": [
    {
     "name": "stdout",
     "output_type": "stream",
     "text": [
      "Expected annual return: 25.5%\n",
      "Annual volatility: 13.2%\n",
      "Sharpe Ratio: 1.78\n"
     ]
    }
   ],
   "source": [
    "ef = EfficientFrontier(mu, S)\n",
    "ef.max_sharpe()\n",
    "weight_arr = ef.weights\n",
    "ef.portfolio_performance(verbose=True);"
   ]
  },
  {
   "cell_type": "code",
   "execution_count": 44,
   "metadata": {
    "colab": {
     "base_uri": "https://localhost:8080/",
     "height": 265
    },
    "id": "29a0FtJY9nzR",
    "outputId": "a053e96e-e6fc-4c93-92ce-2cd3373ae112"
   },
   "outputs": [
    {
     "data": {
      "image/png": "[encoded data removed]",
      "text/plain": [
       "<Figure size 432x288 with 1 Axes>"
      ]
     },
     "metadata": {
      "needs_background": "light"
     },
     "output_type": "display_data"
    }
   ],
   "source": [
    "# Compute CVaR\n",
    "portfolio_rets = (returns * weight_arr).sum(axis=1)\n",
    "portfolio_rets.hist(bins=50);"
   ]
  },
  {
   "cell_type": "code",
   "execution_count": 45,
   "metadata": {
    "colab": {
     "base_uri": "https://localhost:8080/"
    },
    "id": "8LLBZ15l9nzR",
    "outputId": "5f81ae25-bf09-495e-c389-9df5890717d0"
   },
   "outputs": [
    {
     "name": "stdout",
     "output_type": "stream",
     "text": [
      "VaR: -2.22%\n",
      "CVaR: -3.36%\n"
     ]
    }
   ],
   "source": [
    "# VaR\n",
    "var = portfolio_rets.quantile(0.05)\n",
    "cvar = portfolio_rets[portfolio_rets <= var].mean()\n",
    "print(\"VaR: {:.2f}%\".format(100*var))\n",
    "print(\"CVaR: {:.2f}%\".format(100*cvar))"
   ]
  },
  {
   "cell_type": "markdown",
   "metadata": {
    "id": "PxHWPjSz9nzR"
   },
   "source": [
    "This value of the CVaR means that our average loss on the worst 5% of days will be -3.35%. Let's say that this were beyond our comfort zone (for a \\\\$100,000 portfolio, this would mean losing \\\\$3350 in a day).\n",
    "\n",
    "Let's firstly construct the portfolio with the minimum CVaR:"
   ]
  },
  {
   "cell_type": "code",
   "execution_count": 46,
   "metadata": {
    "colab": {
     "base_uri": "https://localhost:8080/"
    },
    "id": "bQ79Y0Gr9nzR",
    "outputId": "b92a041c-9e59-45ba-8cab-ac427d889126"
   },
   "outputs": [
    {
     "name": "stdout",
     "output_type": "stream",
     "text": [
      "Expected annual return: 17.6%\n",
      "Conditional Value at Risk: 2.15%\n"
     ]
    }
   ],
   "source": [
    "from pypfopt import EfficientCVaR\n",
    "\n",
    "ec = EfficientCVaR(mu, returns)\n",
    "ec.min_cvar()\n",
    "ec.portfolio_performance(verbose=True);"
   ]
  },
  {
   "cell_type": "markdown",
   "metadata": {
    "id": "hVEjdNOv9nzS"
   },
   "source": [
    "We have significantly reduced the CVaR, but at the cost of a large reduction in returns. We can use `efficient_risk` to maximise the return for a target risk. Let's say that a 2.5% CVaR is acceptable."
   ]
  },
  {
   "cell_type": "code",
   "execution_count": 47,
   "metadata": {
    "colab": {
     "base_uri": "https://localhost:8080/"
    },
    "id": "onq8FVDr9nzS",
    "outputId": "32b82ef5-e86c-414d-b965-d44e27813ff3"
   },
   "outputs": [
    {
     "name": "stdout",
     "output_type": "stream",
     "text": [
      "Expected annual return: 23.9%\n",
      "Conditional Value at Risk: 2.50%\n"
     ]
    }
   ],
   "source": [
    "from pypfopt import EfficientCVaR\n",
    "\n",
    "ec = EfficientCVaR(mu, returns)\n",
    "ec.efficient_risk(target_cvar=0.025)\n",
    "ec.portfolio_performance(verbose=True);"
   ]
  },
  {
   "cell_type": "markdown",
   "metadata": {
    "id": "6wjVOkqd9nzS"
   },
   "source": [
    "We now have similar returns to before (24.7% vs 25.8%), but with a lower tail risk (2.50% CVaR vs 3.35%). "
   ]
  },
  {
   "cell_type": "markdown",
   "metadata": {
    "id": "LJ_DCIo19nzS"
   },
   "source": [
    "## Plotting - Unconstrained\n",
    "\n",
    "To plot the unconstrained efficient frontier, it is easiest to use the critical line algorithm. "
   ]
  },
  {
   "cell_type": "code",
   "execution_count": 48,
   "metadata": {
    "colab": {
     "base_uri": "https://localhost:8080/"
    },
    "id": "n0UWSKGj9nzS",
    "outputId": "08a6de2a-17e4-4f70-92ea-fe86a9c8f442"
   },
   "outputs": [
    {
     "name": "stdout",
     "output_type": "stream",
     "text": [
      "Expected annual return: 25.2%\n",
      "Annual volatility: 13.0%\n",
      "Sharpe Ratio: 1.78\n"
     ]
    }
   ],
   "source": [
    "from pypfopt import CLA, plotting\n",
    "\n",
    "cla = CLA(mu, S)\n",
    "cla.max_sharpe()\n",
    "cla.portfolio_performance(verbose=True);"
   ]
  },
  {
   "cell_type": "code",
   "execution_count": 49,
   "metadata": {
    "colab": {
     "base_uri": "https://localhost:8080/",
     "height": 297
    },
    "id": "Sk2eFFZ79nzS",
    "outputId": "6f967d10-32c4-4f83-ecac-aed15aa8180a"
   },
   "outputs": [
    {
     "data": {
      "image/png": "[encoded data removed]",
      "text/plain": [
       "<Figure size 432x288 with 1 Axes>"
      ]
     },
     "metadata": {
      "needs_background": "light"
     },
     "output_type": "display_data"
    }
   ],
   "source": [
    "ax = plotting.plot_efficient_frontier(cla, showfig=False)"
   ]
  },
  {
   "cell_type": "markdown",
   "metadata": {
    "id": "aURS39QR9nzS"
   },
   "source": [
    "## Plotting - Constrained"
   ]
  },
  {
   "cell_type": "markdown",
   "metadata": {
    "id": "2xPJH-s69nzT"
   },
   "source": [
    "In this example, we will plot the efficient frontier corresponding to portfolios with a constraint on exposure to MSFT, AMZN, and TSLA (e.g maybe we want to avoid big tech)."
   ]
  },
  {
   "cell_type": "code",
   "execution_count": 50,
   "metadata": {
    "id": "OavRfyqJ9nzT"
   },
   "outputs": [],
   "source": [
    "import cvxpy as cp\n",
    "\n",
    "mu = expected_returns.capm_return(prices)\n",
    "S = risk_models.CovarianceShrinkage(prices).ledoit_wolf()\n",
    "\n",
    "ef = EfficientFrontier(mu, S,)\n",
    "big_tech_indices = [t in {\"MSFT\", \"AMZN\", \"TSLA\"} for t in tickers]\n",
    "ef.add_constraint(lambda w: cp.sum(w[big_tech_indices]) <= 0.3)"
   ]
  },
  {
   "cell_type": "markdown",
   "metadata": {
    "id": "iPJ5mK8p9nzT"
   },
   "source": [
    "As per the docs, *before* we call any optimization function, we should pass this to the plotting module:"
   ]
  },
  {
   "cell_type": "code",
   "execution_count": 51,
   "metadata": {
    "colab": {
     "base_uri": "https://localhost:8080/",
     "height": 297
    },
    "id": "BOehDOq19nzT",
    "outputId": "171cb51c-a5c4-402a-e17e-86d1dda072b1"
   },
   "outputs": [
    {
     "name": "stderr",
     "output_type": "stream",
     "text": [
      "C:\\ProgramData\\Anaconda3\\lib\\site-packages\\pypfopt\\plotting.py:190: UserWarning: Could not construct portfolio for parameter value 0.120\n",
      "  warnings.warn(\n"
     ]
    },
    {
     "ename": "ValueError",
     "evalue": "Weights is None",
     "output_type": "error",
     "traceback": [
      "\u001b[1;31m---------------------------------------------------------------------------\u001b[0m",
      "\u001b[1;31mValueError\u001b[0m                                Traceback (most recent call last)",
      "\u001b[1;32m<ipython-input-51-1b40a5245129>\u001b[0m in \u001b[0;36m<module>\u001b[1;34m\u001b[0m\n\u001b[1;32m----> 1\u001b[1;33m ax = plotting.plot_efficient_frontier(ef, ef_param=\"risk\", \n\u001b[0m\u001b[0;32m      2\u001b[0m                                       \u001b[0mef_param_range\u001b[0m\u001b[1;33m=\u001b[0m\u001b[0mnp\u001b[0m\u001b[1;33m.\u001b[0m\u001b[0mlinspace\u001b[0m\u001b[1;33m(\u001b[0m\u001b[1;36m0.12\u001b[0m\u001b[1;33m,\u001b[0m \u001b[1;36m0.4\u001b[0m\u001b[1;33m,\u001b[0m \u001b[1;36m50\u001b[0m\u001b[1;33m)\u001b[0m\u001b[1;33m,\u001b[0m\u001b[1;33m\u001b[0m\u001b[1;33m\u001b[0m\u001b[0m\n\u001b[0;32m      3\u001b[0m                                       showfig=False);\n",
      "\u001b[1;32mC:\\ProgramData\\Anaconda3\\lib\\site-packages\\pypfopt\\plotting.py\u001b[0m in \u001b[0;36mplot_efficient_frontier\u001b[1;34m(opt, ef_param, ef_param_range, points, ax, show_assets, show_tickers, **kwargs)\u001b[0m\n\u001b[0;32m    261\u001b[0m             \u001b[0mef_param_range\u001b[0m \u001b[1;33m=\u001b[0m \u001b[0m_ef_default_returns_range\u001b[0m\u001b[1;33m(\u001b[0m\u001b[0mopt\u001b[0m\u001b[1;33m,\u001b[0m \u001b[0mpoints\u001b[0m\u001b[1;33m)\u001b[0m\u001b[1;33m\u001b[0m\u001b[1;33m\u001b[0m\u001b[0m\n\u001b[0;32m    262\u001b[0m \u001b[1;33m\u001b[0m\u001b[0m\n\u001b[1;32m--> 263\u001b[1;33m         ax = _plot_ef(\n\u001b[0m\u001b[0;32m    264\u001b[0m             \u001b[0mopt\u001b[0m\u001b[1;33m,\u001b[0m\u001b[1;33m\u001b[0m\u001b[1;33m\u001b[0m\u001b[0m\n\u001b[0;32m    265\u001b[0m             \u001b[0mef_param\u001b[0m\u001b[1;33m,\u001b[0m\u001b[1;33m\u001b[0m\u001b[1;33m\u001b[0m\u001b[0m\n",
      "\u001b[1;32mC:\\ProgramData\\Anaconda3\\lib\\site-packages\\pypfopt\\plotting.py\u001b[0m in \u001b[0;36m_plot_ef\u001b[1;34m(ef, ef_param, ef_param_range, ax, show_assets, show_tickers)\u001b[0m\n\u001b[0;32m    194\u001b[0m             )\n\u001b[0;32m    195\u001b[0m \u001b[1;33m\u001b[0m\u001b[0m\n\u001b[1;32m--> 196\u001b[1;33m         \u001b[0mret\u001b[0m\u001b[1;33m,\u001b[0m \u001b[0msigma\u001b[0m\u001b[1;33m,\u001b[0m \u001b[0m_\u001b[0m \u001b[1;33m=\u001b[0m \u001b[0mef\u001b[0m\u001b[1;33m.\u001b[0m\u001b[0mportfolio_performance\u001b[0m\u001b[1;33m(\u001b[0m\u001b[1;33m)\u001b[0m\u001b[1;33m\u001b[0m\u001b[1;33m\u001b[0m\u001b[0m\n\u001b[0m\u001b[0;32m    197\u001b[0m         \u001b[0mmus\u001b[0m\u001b[1;33m.\u001b[0m\u001b[0mappend\u001b[0m\u001b[1;33m(\u001b[0m\u001b[0mret\u001b[0m\u001b[1;33m)\u001b[0m\u001b[1;33m\u001b[0m\u001b[1;33m\u001b[0m\u001b[0m\n\u001b[0;32m    198\u001b[0m         \u001b[0msigmas\u001b[0m\u001b[1;33m.\u001b[0m\u001b[0mappend\u001b[0m\u001b[1;33m(\u001b[0m\u001b[0msigma\u001b[0m\u001b[1;33m)\u001b[0m\u001b[1;33m\u001b[0m\u001b[1;33m\u001b[0m\u001b[0m\n",
      "\u001b[1;32mC:\\ProgramData\\Anaconda3\\lib\\site-packages\\pypfopt\\efficient_frontier\\efficient_frontier.py\u001b[0m in \u001b[0;36mportfolio_performance\u001b[1;34m(self, verbose, risk_free_rate)\u001b[0m\n\u001b[0;32m    443\u001b[0m             \u001b[0mrisk_free_rate\u001b[0m \u001b[1;33m=\u001b[0m \u001b[0mself\u001b[0m\u001b[1;33m.\u001b[0m\u001b[0m_risk_free_rate\u001b[0m\u001b[1;33m\u001b[0m\u001b[1;33m\u001b[0m\u001b[0m\n\u001b[0;32m    444\u001b[0m \u001b[1;33m\u001b[0m\u001b[0m\n\u001b[1;32m--> 445\u001b[1;33m         return base_optimizer.portfolio_performance(\n\u001b[0m\u001b[0;32m    446\u001b[0m             \u001b[0mself\u001b[0m\u001b[1;33m.\u001b[0m\u001b[0mweights\u001b[0m\u001b[1;33m,\u001b[0m\u001b[1;33m\u001b[0m\u001b[1;33m\u001b[0m\u001b[0m\n\u001b[0;32m    447\u001b[0m             \u001b[0mself\u001b[0m\u001b[1;33m.\u001b[0m\u001b[0mexpected_returns\u001b[0m\u001b[1;33m,\u001b[0m\u001b[1;33m\u001b[0m\u001b[1;33m\u001b[0m\u001b[0m\n",
      "\u001b[1;32mC:\\ProgramData\\Anaconda3\\lib\\site-packages\\pypfopt\\base_optimizer.py\u001b[0m in \u001b[0;36mportfolio_performance\u001b[1;34m(weights, expected_returns, cov_matrix, verbose, risk_free_rate)\u001b[0m\n\u001b[0;32m    537\u001b[0m         \u001b[0mnew_weights\u001b[0m \u001b[1;33m=\u001b[0m \u001b[0mnp\u001b[0m\u001b[1;33m.\u001b[0m\u001b[0masarray\u001b[0m\u001b[1;33m(\u001b[0m\u001b[0mweights\u001b[0m\u001b[1;33m)\u001b[0m\u001b[1;33m\u001b[0m\u001b[1;33m\u001b[0m\u001b[0m\n\u001b[0;32m    538\u001b[0m     \u001b[1;32melse\u001b[0m\u001b[1;33m:\u001b[0m\u001b[1;33m\u001b[0m\u001b[1;33m\u001b[0m\u001b[0m\n\u001b[1;32m--> 539\u001b[1;33m         \u001b[1;32mraise\u001b[0m \u001b[0mValueError\u001b[0m\u001b[1;33m(\u001b[0m\u001b[1;34m\"Weights is None\"\u001b[0m\u001b[1;33m)\u001b[0m\u001b[1;33m\u001b[0m\u001b[1;33m\u001b[0m\u001b[0m\n\u001b[0m\u001b[0;32m    540\u001b[0m \u001b[1;33m\u001b[0m\u001b[0m\n\u001b[0;32m    541\u001b[0m     \u001b[0msigma\u001b[0m \u001b[1;33m=\u001b[0m \u001b[0mnp\u001b[0m\u001b[1;33m.\u001b[0m\u001b[0msqrt\u001b[0m\u001b[1;33m(\u001b[0m\u001b[0mobjective_functions\u001b[0m\u001b[1;33m.\u001b[0m\u001b[0mportfolio_variance\u001b[0m\u001b[1;33m(\u001b[0m\u001b[0mnew_weights\u001b[0m\u001b[1;33m,\u001b[0m \u001b[0mcov_matrix\u001b[0m\u001b[1;33m)\u001b[0m\u001b[1;33m)\u001b[0m\u001b[1;33m\u001b[0m\u001b[1;33m\u001b[0m\u001b[0m\n",
      "\u001b[1;31mValueError\u001b[0m: Weights is None"
     ]
    },
    {
     "data": {
      "image/png": "[encoded data removed]",
      "text/plain": [
       "<Figure size 432x288 with 1 Axes>"
      ]
     },
     "metadata": {
      "needs_background": "light"
     },
     "output_type": "display_data"
    }
   ],
   "source": [
    "ax = plotting.plot_efficient_frontier(ef, ef_param=\"risk\", \n",
    "                                      ef_param_range=np.linspace(0.12, 0.4, 50), \n",
    "                                      showfig=False);"
   ]
  },
  {
   "cell_type": "markdown",
   "metadata": {
    "id": "ht1M5kIo9nzT"
   },
   "source": [
    "## Complex plots\n",
    "\n",
    "The `plotting` module allows you to pass in an `ax`, on top of which the plots are added. This allows you to build complex plots. \n",
    "\n",
    "In this example, we will plot the efficient frontier as well as 10,000 simulated portfolios. \n",
    "\n",
    "To generate the simulated portfolios, we will sample random weights from the Dirichlet distribution (these are already normalised):"
   ]
  },
  {
   "cell_type": "code",
   "execution_count": 52,
   "metadata": {
    "colab": {
     "base_uri": "https://localhost:8080/"
    },
    "id": "esHxc73V9nzT",
    "outputId": "decb7120-4d2e-49f3-f7d9-fcb5b78cdcce"
   },
   "outputs": [
    {
     "name": "stdout",
     "output_type": "stream",
     "text": [
      "Sample portfolio returns: [0.24607204 0.20658525 0.23206843 ... 0.24058659 0.2339734  0.22903769]\n",
      "Sample portfolio volatilities: 0       0.177327\n",
      "1       0.151765\n",
      "2       0.136520\n",
      "3       0.148847\n",
      "4       0.159368\n",
      "          ...   \n",
      "9995    0.145437\n",
      "9996    0.156830\n",
      "9997    0.151525\n",
      "9998    0.151009\n",
      "9999    0.145464\n",
      "Length: 10000, dtype: float64\n"
     ]
    }
   ],
   "source": [
    "n_samples = 10000\n",
    "w = np.random.dirichlet(np.ones(len(mu)), n_samples)\n",
    "rets = w.dot(mu)\n",
    "stds = np.sqrt((w.T * (S @ w.T)).sum(axis=0))\n",
    "sharpes = rets / stds\n",
    "\n",
    "print(\"Sample portfolio returns:\", rets)\n",
    "print(\"Sample portfolio volatilities:\", stds)"
   ]
  },
  {
   "cell_type": "markdown",
   "metadata": {
    "id": "Ad_x63489nzT"
   },
   "source": [
    "Note that the above code is equivalent to generating samples via a for loop (just more efficient)"
   ]
  },
  {
   "cell_type": "code",
   "execution_count": 53,
   "metadata": {
    "id": "H3nL43aM9nzT"
   },
   "outputs": [],
   "source": [
    "# mus = []\n",
    "# stds = []\n",
    "# sharpes = []\n",
    "# for _ in range(10000):\n",
    "#     w = np.random.dirichlet(np.ones(len(mu)))\n",
    "#     # w = np.random.rand(len(mu))\n",
    "#     # w /= w.sum()\n",
    "#     ret = mu.dot(w)\n",
    "#     std = np.sqrt(w.dot(S @ w))\n",
    "#     mus.append(ret)\n",
    "#     stds.append(std)\n",
    "#     sharpes.append(ret / std)"
   ]
  },
  {
   "cell_type": "code",
   "execution_count": 54,
   "metadata": {
    "colab": {
     "base_uri": "https://localhost:8080/",
     "height": 297
    },
    "id": "WjCjkC9p9nzU",
    "outputId": "386b35b3-75fd-4186-8f65-f16317246965"
   },
   "outputs": [
    {
     "data": {
      "image/png": "[encoded data removed]",
      "text/plain": [
       "<Figure size 432x288 with 1 Axes>"
      ]
     },
     "metadata": {
      "needs_background": "light"
     },
     "output_type": "display_data"
    }
   ],
   "source": [
    "# Plot efficient frontier with Monte Carlo sim\n",
    "ef = EfficientFrontier(mu, S)\n",
    "\n",
    "fig, ax = plt.subplots()\n",
    "plotting.plot_efficient_frontier(ef, ax=ax, show_assets=False)\n",
    "\n",
    "# Find and plot the tangency portfolio\n",
    "ef2 = EfficientFrontier(mu, S)\n",
    "ef2.max_sharpe()\n",
    "ret_tangent, std_tangent, _ = ef2.portfolio_performance()\n",
    "\n",
    "# Plot random portfolios\n",
    "ax.scatter(stds, rets, marker=\".\", c=sharpes, cmap=\"viridis_r\")\n",
    "\n",
    "# Format\n",
    "ax.set_title(\"Efficient Frontier with random portfolios\")\n",
    "ax.legend()\n",
    "plt.tight_layout()\n",
    "plt.show()\n"
   ]
  },
  {
   "cell_type": "code",
   "execution_count": null,
   "metadata": {
    "id": "dZ0tR7Lt9nzU"
   },
   "outputs": [],
   "source": []
  },
  {
   "cell_type": "code",
   "execution_count": null,
   "metadata": {},
   "outputs": [],
   "source": []
  }
 ],
 "metadata": {
  "colab": {
   "collapsed_sections": [
    "PBvVeqtm9nzP"
   ],
   "name": "2-Mean-Variance-Optimisation.ipynb",
   "provenance": []
  },
  "kernelspec": {
   "display_name": "Python 3",
   "language": "python",
   "name": "python3"
  },
  "language_info": {
   "codemirror_mode": {
    "name": "ipython",
    "version": 3
   },
   "file_extension": ".py",
   "mimetype": "text/x-python",
   "name": "python",
   "nbconvert_exporter": "python",
   "pygments_lexer": "ipython3",
   "version": "3.8.8"
  }
 },
 "nbformat": 4,
 "nbformat_minor": 1
}
