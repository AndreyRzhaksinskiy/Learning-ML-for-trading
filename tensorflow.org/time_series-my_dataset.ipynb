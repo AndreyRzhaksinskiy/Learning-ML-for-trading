{
 "cells": [
  {
   "cell_type": "markdown",
   "metadata": {
    "id": "2Pmxv2ioyCRw"
   },
   "source": [
    "##### Copyright 2019 The TensorFlow Authors."
   ]
  },
  {
   "cell_type": "code",
   "execution_count": 23,
   "metadata": {},
   "outputs": [],
   "source": [
    "# https://colab.research.google.com/github/tensorflow/docs/blob/master/site/en/tutorials/structured_data/time_series.ipynb#scrollTo=GU8C5qm_4vZb\n"
   ]
  },
  {
   "cell_type": "code",
   "execution_count": 24,
   "metadata": {
    "cellView": "form",
    "execution": {
     "iopub.execute_input": "2022-01-26T05:48:44.618482Z",
     "iopub.status.busy": "2022-01-26T05:48:44.617878Z",
     "iopub.status.idle": "2022-01-26T05:48:44.620341Z",
     "shell.execute_reply": "2022-01-26T05:48:44.620674Z"
    },
    "id": "b-2ShX25yNWf"
   },
   "outputs": [],
   "source": [
    "#@title Licensed under the Apache License, Version 2.0 (the \"License\");\n",
    "# you may not use this file except in compliance with the License.\n",
    "# You may obtain a copy of the License at\n",
    "#\n",
    "# https://www.apache.org/licenses/LICENSE-2.0\n",
    "#\n",
    "# Unless required by applicable law or agreed to in writing, software\n",
    "# distributed under the License is distributed on an \"AS IS\" BASIS,\n",
    "# WITHOUT WARRANTIES OR CONDITIONS OF ANY KIND, either express or implied.\n",
    "# See the License for the specific language governing permissions and\n",
    "# limitations under the License."
   ]
  },
  {
   "cell_type": "markdown",
   "metadata": {
    "id": "kRHmSyHxEIhN"
   },
   "source": [
    "## Setup"
   ]
  },
  {
   "cell_type": "code",
   "execution_count": 25,
   "metadata": {
    "id": "JM7hDSNClfoK"
   },
   "outputs": [],
   "source": [
    "import tensorflow as tf\n",
    "from tensorflow import keras\n",
    "\n",
    "import os\n",
    "import tempfile\n",
    "\n",
    "import matplotlib as mpl\n",
    "import matplotlib.pyplot as plt\n",
    "import numpy as np\n",
    "import pandas as pd\n",
    "import seaborn as sns\n",
    "\n",
    "import sklearn\n",
    "from sklearn.metrics import confusion_matrix\n",
    "from sklearn.model_selection import train_test_split\n",
    "from sklearn.preprocessing import StandardScaler\n",
    "\n",
    "mpl.rcParams['figure.figsize'] = (12, 10)\n",
    "colors = plt.rcParams['axes.prop_cycle'].by_key()['color']"
   ]
  },
  {
   "cell_type": "markdown",
   "metadata": {},
   "source": [
    "## Preparing the data\n",
    "\n",
    "Let's download the data and load it into a Pandas dataframe:"
   ]
  },
  {
   "cell_type": "code",
   "execution_count": 26,
   "metadata": {},
   "outputs": [
    {
     "name": "stdout",
     "output_type": "stream",
     "text": [
      "(12324790, 197)\n",
      "Инструментов  147\n",
      "Wall time: 8min 44s\n"
     ]
    }
   ],
   "source": [
    "%%time\n",
    "# Считать собранный датасет\n",
    "data = pd.read_csv('..\\..\\T21\\df_consolidated.csv')\n",
    "data.date = pd.to_datetime(data.date )\n",
    "data = data.set_index(['date'])\n",
    "data.sort_index()\n",
    "print(data.shape)\n",
    "print('Инструментов ',len(data.ticker.unique()))"
   ]
  },
  {
   "cell_type": "code",
   "execution_count": 27,
   "metadata": {},
   "outputs": [],
   "source": [
    "# all_features = data.columns\n",
    "\n",
    "\n",
    "# # all_features = ['ewmv_312', 'atr_224', 'kama_dlt1', 'cmf_240', 'adx480', 'cmf_360', 'cmf_96', 'close_r_std_7D', \n",
    "# # 'kama_dlt3', 'kama_480_56_240', 'kama_dlt2', 'cmf_480', 'plus_di480', 'atr_112', 'close_r_max_7D', \n",
    "# # 'close_r_std_24H', 'minus_di480', 'kama_160_16_200', 'pvo_144_312_96_s', 'obv_480_240', 'kama_160_8_120', \n",
    "# # 'close_r_std_4H', 'close_r_std_1H', 'kama_40_2_30', 'adx96', 'kama_160_32_300', 'ewm_macd_144_312_sh288', 'kama_240_32_200', 'adj_r_std_7D', 'adj_r_max_7D', 'adj_r_min_7D', 'ppo_144_312_96_s', 'close_r_min_7D', 'mi_18_50', 'cmf_48', 'obv_480_240_sh120', 'ichimoku_opt1_conv', 'cci_960', 'kama_20_4_30', 'kama_240_32_200_sh100', 'aroon_400_diff', 'atr_56', 'ichimoku_opt3_b', 'adj_dlt_7D_sh120', 'aroon_400_up', 'close_r_max_24H', 'ppo_144_312_48_h', 'cci_100', 'obv_96', 'pvo_52_144_36_h', 'ewmv_144', 'ewm_12', 'ewmv_26', 'pvo_144_312_96_h', 'adj_r_std_24H', 'minus_di96', 'adj_dlt_7D', 'ewm_26']\n",
    "\n",
    "# target_label_buy  = ['action_buy']\n",
    "# target_label_sell = ['action_sell']\n",
    "# target_label = target_label_buy + target_label_sell\n",
    "\n",
    "# ignored_features  = ['close', 'high', 'low', 'open', 'volume', 'ticker',\n",
    "#                      'minus_di14', 'minus_di28', 'plus_di14', 'plus_di28'     #NaN              \n",
    "#                      ]\n",
    "\n",
    "# selected_features = list(set(all_features) - set(ignored_features))\n",
    "# selected_features = list(set(selected_features) - set(target_label_buy))\n",
    "# selected_features = list(set(selected_features) - set(target_label_sell))\n",
    "# selected_features.sort()\n",
    "\n",
    "# all_features = selected_features + target_label_buy"
   ]
  },
  {
   "cell_type": "code",
   "execution_count": 28,
   "metadata": {},
   "outputs": [],
   "source": [
    "CSV_HEADER = all_features"
   ]
  },
  {
   "cell_type": "code",
   "execution_count": 29,
   "metadata": {},
   "outputs": [
    {
     "data": {
      "text/html": [
       "<div>\n",
       "<style scoped>\n",
       "    .dataframe tbody tr th:only-of-type {\n",
       "        vertical-align: middle;\n",
       "    }\n",
       "\n",
       "    .dataframe tbody tr th {\n",
       "        vertical-align: top;\n",
       "    }\n",
       "\n",
       "    .dataframe thead th {\n",
       "        text-align: right;\n",
       "    }\n",
       "</style>\n",
       "<table border=\"1\" class=\"dataframe\">\n",
       "  <thead>\n",
       "    <tr style=\"text-align: right;\">\n",
       "      <th></th>\n",
       "      <th>close</th>\n",
       "      <th>high</th>\n",
       "      <th>low</th>\n",
       "      <th>open</th>\n",
       "      <th>volume</th>\n",
       "      <th>action_buy</th>\n",
       "      <th>action_sell</th>\n",
       "      <th>ticker</th>\n",
       "      <th>dayofweek</th>\n",
       "      <th>hour</th>\n",
       "      <th>...</th>\n",
       "      <th>minus_di96</th>\n",
       "      <th>adx96</th>\n",
       "      <th>plus_di480</th>\n",
       "      <th>minus_di480</th>\n",
       "      <th>adx480</th>\n",
       "      <th>cci_24</th>\n",
       "      <th>cci_100</th>\n",
       "      <th>cci_240</th>\n",
       "      <th>cci_480</th>\n",
       "      <th>cci_960</th>\n",
       "    </tr>\n",
       "    <tr>\n",
       "      <th>date</th>\n",
       "      <th></th>\n",
       "      <th></th>\n",
       "      <th></th>\n",
       "      <th></th>\n",
       "      <th></th>\n",
       "      <th></th>\n",
       "      <th></th>\n",
       "      <th></th>\n",
       "      <th></th>\n",
       "      <th></th>\n",
       "      <th></th>\n",
       "      <th></th>\n",
       "      <th></th>\n",
       "      <th></th>\n",
       "      <th></th>\n",
       "      <th></th>\n",
       "      <th></th>\n",
       "      <th></th>\n",
       "      <th></th>\n",
       "      <th></th>\n",
       "      <th></th>\n",
       "    </tr>\n",
       "  </thead>\n",
       "  <tbody>\n",
       "    <tr>\n",
       "      <th>2019-01-08 14:50:00+00:00</th>\n",
       "      <td>37.4075</td>\n",
       "      <td>37.4450</td>\n",
       "      <td>37.3400</td>\n",
       "      <td>37.3825</td>\n",
       "      <td>676652</td>\n",
       "      <td>0</td>\n",
       "      <td>0</td>\n",
       "      <td>AAPL</td>\n",
       "      <td>1</td>\n",
       "      <td>14</td>\n",
       "      <td>...</td>\n",
       "      <td>34.404902</td>\n",
       "      <td>9.188783</td>\n",
       "      <td>25.151021</td>\n",
       "      <td>31.629050</td>\n",
       "      <td>15.840743</td>\n",
       "      <td>123.573269</td>\n",
       "      <td>192.813372</td>\n",
       "      <td>156.894160</td>\n",
       "      <td>89.166879</td>\n",
       "      <td>-1.410136</td>\n",
       "    </tr>\n",
       "    <tr>\n",
       "      <th>2019-01-08 14:55:00+00:00</th>\n",
       "      <td>37.2525</td>\n",
       "      <td>37.4500</td>\n",
       "      <td>37.2250</td>\n",
       "      <td>37.4075</td>\n",
       "      <td>787708</td>\n",
       "      <td>0</td>\n",
       "      <td>0</td>\n",
       "      <td>AAPL</td>\n",
       "      <td>1</td>\n",
       "      <td>14</td>\n",
       "      <td>...</td>\n",
       "      <td>35.125959</td>\n",
       "      <td>9.136240</td>\n",
       "      <td>24.989168</td>\n",
       "      <td>31.736553</td>\n",
       "      <td>15.826827</td>\n",
       "      <td>60.234424</td>\n",
       "      <td>131.453249</td>\n",
       "      <td>120.820693</td>\n",
       "      <td>76.437796</td>\n",
       "      <td>-5.839856</td>\n",
       "    </tr>\n",
       "    <tr>\n",
       "      <th>2019-01-08 15:00:00+00:00</th>\n",
       "      <td>37.3200</td>\n",
       "      <td>37.3325</td>\n",
       "      <td>37.2375</td>\n",
       "      <td>37.2550</td>\n",
       "      <td>714752</td>\n",
       "      <td>0</td>\n",
       "      <td>0</td>\n",
       "      <td>AAPL</td>\n",
       "      <td>1</td>\n",
       "      <td>15</td>\n",
       "      <td>...</td>\n",
       "      <td>34.112351</td>\n",
       "      <td>9.048905</td>\n",
       "      <td>24.878313</td>\n",
       "      <td>31.595765</td>\n",
       "      <td>15.814491</td>\n",
       "      <td>47.774651</td>\n",
       "      <td>120.471950</td>\n",
       "      <td>114.967170</td>\n",
       "      <td>74.518156</td>\n",
       "      <td>-6.372992</td>\n",
       "    </tr>\n",
       "    <tr>\n",
       "      <th>2019-01-08 15:05:00+00:00</th>\n",
       "      <td>37.3650</td>\n",
       "      <td>37.3825</td>\n",
       "      <td>37.3175</td>\n",
       "      <td>37.3200</td>\n",
       "      <td>399092</td>\n",
       "      <td>0</td>\n",
       "      <td>0</td>\n",
       "      <td>AAPL</td>\n",
       "      <td>1</td>\n",
       "      <td>15</td>\n",
       "      <td>...</td>\n",
       "      <td>33.342808</td>\n",
       "      <td>8.962641</td>\n",
       "      <td>24.943145</td>\n",
       "      <td>31.497034</td>\n",
       "      <td>15.802204</td>\n",
       "      <td>78.896438</td>\n",
       "      <td>153.122129</td>\n",
       "      <td>136.338504</td>\n",
       "      <td>82.793815</td>\n",
       "      <td>-3.261457</td>\n",
       "    </tr>\n",
       "    <tr>\n",
       "      <th>2019-01-08 15:10:00+00:00</th>\n",
       "      <td>37.2900</td>\n",
       "      <td>37.4300</td>\n",
       "      <td>37.2575</td>\n",
       "      <td>37.3650</td>\n",
       "      <td>524456</td>\n",
       "      <td>0</td>\n",
       "      <td>0</td>\n",
       "      <td>AAPL</td>\n",
       "      <td>1</td>\n",
       "      <td>15</td>\n",
       "      <td>...</td>\n",
       "      <td>33.056404</td>\n",
       "      <td>8.892565</td>\n",
       "      <td>24.924281</td>\n",
       "      <td>31.473269</td>\n",
       "      <td>15.789085</td>\n",
       "      <td>55.253132</td>\n",
       "      <td>131.601806</td>\n",
       "      <td>123.782464</td>\n",
       "      <td>78.463033</td>\n",
       "      <td>-4.653306</td>\n",
       "    </tr>\n",
       "  </tbody>\n",
       "</table>\n",
       "<p>5 rows × 197 columns</p>\n",
       "</div>"
      ],
      "text/plain": [
       "                             close     high      low     open  volume  \\\n",
       "date                                                                    \n",
       "2019-01-08 14:50:00+00:00  37.4075  37.4450  37.3400  37.3825  676652   \n",
       "2019-01-08 14:55:00+00:00  37.2525  37.4500  37.2250  37.4075  787708   \n",
       "2019-01-08 15:00:00+00:00  37.3200  37.3325  37.2375  37.2550  714752   \n",
       "2019-01-08 15:05:00+00:00  37.3650  37.3825  37.3175  37.3200  399092   \n",
       "2019-01-08 15:10:00+00:00  37.2900  37.4300  37.2575  37.3650  524456   \n",
       "\n",
       "                           action_buy  action_sell ticker  dayofweek  hour  \\\n",
       "date                                                                         \n",
       "2019-01-08 14:50:00+00:00           0            0   AAPL          1    14   \n",
       "2019-01-08 14:55:00+00:00           0            0   AAPL          1    14   \n",
       "2019-01-08 15:00:00+00:00           0            0   AAPL          1    15   \n",
       "2019-01-08 15:05:00+00:00           0            0   AAPL          1    15   \n",
       "2019-01-08 15:10:00+00:00           0            0   AAPL          1    15   \n",
       "\n",
       "                           ...  minus_di96     adx96  plus_di480  minus_di480  \\\n",
       "date                       ...                                                  \n",
       "2019-01-08 14:50:00+00:00  ...   34.404902  9.188783   25.151021    31.629050   \n",
       "2019-01-08 14:55:00+00:00  ...   35.125959  9.136240   24.989168    31.736553   \n",
       "2019-01-08 15:00:00+00:00  ...   34.112351  9.048905   24.878313    31.595765   \n",
       "2019-01-08 15:05:00+00:00  ...   33.342808  8.962641   24.943145    31.497034   \n",
       "2019-01-08 15:10:00+00:00  ...   33.056404  8.892565   24.924281    31.473269   \n",
       "\n",
       "                              adx480      cci_24     cci_100     cci_240  \\\n",
       "date                                                                       \n",
       "2019-01-08 14:50:00+00:00  15.840743  123.573269  192.813372  156.894160   \n",
       "2019-01-08 14:55:00+00:00  15.826827   60.234424  131.453249  120.820693   \n",
       "2019-01-08 15:00:00+00:00  15.814491   47.774651  120.471950  114.967170   \n",
       "2019-01-08 15:05:00+00:00  15.802204   78.896438  153.122129  136.338504   \n",
       "2019-01-08 15:10:00+00:00  15.789085   55.253132  131.601806  123.782464   \n",
       "\n",
       "                             cci_480   cci_960  \n",
       "date                                            \n",
       "2019-01-08 14:50:00+00:00  89.166879 -1.410136  \n",
       "2019-01-08 14:55:00+00:00  76.437796 -5.839856  \n",
       "2019-01-08 15:00:00+00:00  74.518156 -6.372992  \n",
       "2019-01-08 15:05:00+00:00  82.793815 -3.261457  \n",
       "2019-01-08 15:10:00+00:00  78.463033 -4.653306  \n",
       "\n",
       "[5 rows x 197 columns]"
      ]
     },
     "execution_count": 29,
     "metadata": {},
     "output_type": "execute_result"
    }
   ],
   "source": [
    "data.head()"
   ]
  },
  {
   "cell_type": "code",
   "execution_count": 93,
   "metadata": {},
   "outputs": [
    {
     "name": "stdout",
     "output_type": "stream",
     "text": [
      "(152278, 147)\n",
      "ticker\n",
      "A       0\n",
      "AAPL    0\n",
      "ADBE    0\n",
      "ADP     0\n",
      "AFG     0\n",
      "       ..\n",
      "WRB     0\n",
      "WSM     0\n",
      "XEL     0\n",
      "YELP    0\n",
      "YNDX    0\n",
      "Length: 147, dtype: int64\n",
      "0\n",
      "Inf ->  Series([], Name: ticker, dtype: object)\n"
     ]
    }
   ],
   "source": [
    "df = data.sample(1000000).sort_index()  #(12324790, 197)\n",
    "df = df[['ticker','close']]\n",
    "df = df.reset_index()\n",
    "df = df.pivot(index='date', columns='ticker', values='close')\n",
    "df = df.fillna(method = 'ffill')\n",
    "df = df.fillna(method = 'bfill') ## temporary approach\n",
    "print(df.shape)\n",
    "print(df.isnull().sum())\n",
    "print(df.isnull().sum().sum())\n",
    "print( 'Inf -> ', df.columns.to_series()[np.isinf(df).any()] ) # Check Inf\n",
    "df = df.reset_index()"
   ]
  },
  {
   "cell_type": "code",
   "execution_count": 94,
   "metadata": {},
   "outputs": [
    {
     "data": {
      "text/html": [
       "<div>\n",
       "<style scoped>\n",
       "    .dataframe tbody tr th:only-of-type {\n",
       "        vertical-align: middle;\n",
       "    }\n",
       "\n",
       "    .dataframe tbody tr th {\n",
       "        vertical-align: top;\n",
       "    }\n",
       "\n",
       "    .dataframe thead th {\n",
       "        text-align: right;\n",
       "    }\n",
       "</style>\n",
       "<table border=\"1\" class=\"dataframe\">\n",
       "  <thead>\n",
       "    <tr style=\"text-align: right;\">\n",
       "      <th>ticker</th>\n",
       "      <th>date</th>\n",
       "      <th>A</th>\n",
       "      <th>AAPL</th>\n",
       "      <th>ADBE</th>\n",
       "      <th>ADP</th>\n",
       "      <th>AFG</th>\n",
       "      <th>ALRS</th>\n",
       "      <th>AMAT</th>\n",
       "      <th>AMD</th>\n",
       "      <th>AMED</th>\n",
       "      <th>...</th>\n",
       "      <th>WAL</th>\n",
       "      <th>WDC</th>\n",
       "      <th>WEC</th>\n",
       "      <th>WKHS</th>\n",
       "      <th>WMT</th>\n",
       "      <th>WRB</th>\n",
       "      <th>WSM</th>\n",
       "      <th>XEL</th>\n",
       "      <th>YELP</th>\n",
       "      <th>YNDX</th>\n",
       "    </tr>\n",
       "  </thead>\n",
       "  <tbody>\n",
       "    <tr>\n",
       "      <th>72980</th>\n",
       "      <td>2020-09-11 12:50:00+00:00</td>\n",
       "      <td>98.73</td>\n",
       "      <td>114.5500</td>\n",
       "      <td>488.50</td>\n",
       "      <td>133.80</td>\n",
       "      <td>67.12</td>\n",
       "      <td>73.99</td>\n",
       "      <td>56.08</td>\n",
       "      <td>79.75</td>\n",
       "      <td>228.25</td>\n",
       "      <td>...</td>\n",
       "      <td>34.17</td>\n",
       "      <td>36.56</td>\n",
       "      <td>96.59</td>\n",
       "      <td>17.06</td>\n",
       "      <td>136.87</td>\n",
       "      <td>62.37</td>\n",
       "      <td>90.67</td>\n",
       "      <td>69.34</td>\n",
       "      <td>22.11</td>\n",
       "      <td>4650.2</td>\n",
       "    </tr>\n",
       "    <tr>\n",
       "      <th>99187</th>\n",
       "      <td>2021-03-29 18:45:00+00:00</td>\n",
       "      <td>125.32</td>\n",
       "      <td>121.9100</td>\n",
       "      <td>466.93</td>\n",
       "      <td>192.28</td>\n",
       "      <td>115.27</td>\n",
       "      <td>108.22</td>\n",
       "      <td>126.42</td>\n",
       "      <td>76.63</td>\n",
       "      <td>266.30</td>\n",
       "      <td>...</td>\n",
       "      <td>92.94</td>\n",
       "      <td>65.37</td>\n",
       "      <td>94.32</td>\n",
       "      <td>17.06</td>\n",
       "      <td>136.52</td>\n",
       "      <td>75.60</td>\n",
       "      <td>182.20</td>\n",
       "      <td>67.17</td>\n",
       "      <td>36.82</td>\n",
       "      <td>4785.2</td>\n",
       "    </tr>\n",
       "    <tr>\n",
       "      <th>55950</th>\n",
       "      <td>2020-05-04 07:45:00+00:00</td>\n",
       "      <td>73.98</td>\n",
       "      <td>71.9975</td>\n",
       "      <td>343.43</td>\n",
       "      <td>139.82</td>\n",
       "      <td>65.78</td>\n",
       "      <td>61.20</td>\n",
       "      <td>47.38</td>\n",
       "      <td>50.38</td>\n",
       "      <td>182.48</td>\n",
       "      <td>...</td>\n",
       "      <td>33.62</td>\n",
       "      <td>40.87</td>\n",
       "      <td>88.68</td>\n",
       "      <td>17.06</td>\n",
       "      <td>123.39</td>\n",
       "      <td>61.35</td>\n",
       "      <td>59.90</td>\n",
       "      <td>61.91</td>\n",
       "      <td>22.37</td>\n",
       "      <td>2787.6</td>\n",
       "    </tr>\n",
       "    <tr>\n",
       "      <th>10194</th>\n",
       "      <td>2019-04-10 20:10:00+00:00</td>\n",
       "      <td>81.71</td>\n",
       "      <td>49.9075</td>\n",
       "      <td>271.21</td>\n",
       "      <td>159.74</td>\n",
       "      <td>65.78</td>\n",
       "      <td>94.40</td>\n",
       "      <td>41.97</td>\n",
       "      <td>27.46</td>\n",
       "      <td>127.69</td>\n",
       "      <td>...</td>\n",
       "      <td>51.27</td>\n",
       "      <td>50.43</td>\n",
       "      <td>76.90</td>\n",
       "      <td>17.06</td>\n",
       "      <td>99.45</td>\n",
       "      <td>61.35</td>\n",
       "      <td>59.32</td>\n",
       "      <td>55.38</td>\n",
       "      <td>38.29</td>\n",
       "      <td>2350.0</td>\n",
       "    </tr>\n",
       "    <tr>\n",
       "      <th>65334</th>\n",
       "      <td>2020-07-15 12:15:00+00:00</td>\n",
       "      <td>90.11</td>\n",
       "      <td>98.5000</td>\n",
       "      <td>437.00</td>\n",
       "      <td>146.10</td>\n",
       "      <td>59.53</td>\n",
       "      <td>63.36</td>\n",
       "      <td>62.60</td>\n",
       "      <td>54.85</td>\n",
       "      <td>203.05</td>\n",
       "      <td>...</td>\n",
       "      <td>33.96</td>\n",
       "      <td>42.60</td>\n",
       "      <td>87.45</td>\n",
       "      <td>17.06</td>\n",
       "      <td>132.99</td>\n",
       "      <td>60.02</td>\n",
       "      <td>82.47</td>\n",
       "      <td>64.84</td>\n",
       "      <td>22.90</td>\n",
       "      <td>3843.8</td>\n",
       "    </tr>\n",
       "  </tbody>\n",
       "</table>\n",
       "<p>5 rows × 148 columns</p>\n",
       "</div>"
      ],
      "text/plain": [
       "ticker                      date       A      AAPL    ADBE     ADP     AFG  \\\n",
       "72980  2020-09-11 12:50:00+00:00   98.73  114.5500  488.50  133.80   67.12   \n",
       "99187  2021-03-29 18:45:00+00:00  125.32  121.9100  466.93  192.28  115.27   \n",
       "55950  2020-05-04 07:45:00+00:00   73.98   71.9975  343.43  139.82   65.78   \n",
       "10194  2019-04-10 20:10:00+00:00   81.71   49.9075  271.21  159.74   65.78   \n",
       "65334  2020-07-15 12:15:00+00:00   90.11   98.5000  437.00  146.10   59.53   \n",
       "\n",
       "ticker    ALRS    AMAT    AMD    AMED  ...    WAL    WDC    WEC   WKHS  \\\n",
       "72980    73.99   56.08  79.75  228.25  ...  34.17  36.56  96.59  17.06   \n",
       "99187   108.22  126.42  76.63  266.30  ...  92.94  65.37  94.32  17.06   \n",
       "55950    61.20   47.38  50.38  182.48  ...  33.62  40.87  88.68  17.06   \n",
       "10194    94.40   41.97  27.46  127.69  ...  51.27  50.43  76.90  17.06   \n",
       "65334    63.36   62.60  54.85  203.05  ...  33.96  42.60  87.45  17.06   \n",
       "\n",
       "ticker     WMT    WRB     WSM    XEL   YELP    YNDX  \n",
       "72980   136.87  62.37   90.67  69.34  22.11  4650.2  \n",
       "99187   136.52  75.60  182.20  67.17  36.82  4785.2  \n",
       "55950   123.39  61.35   59.90  61.91  22.37  2787.6  \n",
       "10194    99.45  61.35   59.32  55.38  38.29  2350.0  \n",
       "65334   132.99  60.02   82.47  64.84  22.90  3843.8  \n",
       "\n",
       "[5 rows x 148 columns]"
      ]
     },
     "execution_count": 94,
     "metadata": {},
     "output_type": "execute_result"
    }
   ],
   "source": [
    "df.sample(5)"
   ]
  },
  {
   "cell_type": "code",
   "execution_count": 95,
   "metadata": {},
   "outputs": [],
   "source": [
    "date_time = pd.to_datetime(df.pop('date'), format='%d.%m.%Y %H:%M:%S')"
   ]
  },
  {
   "cell_type": "code",
   "execution_count": 33,
   "metadata": {},
   "outputs": [
    {
     "name": "stdout",
     "output_type": "stream",
     "text": [
      "train_data (850000, 186)\n",
      "valid_data (99999, 186)\n",
      "test_data (49999, 186)\n"
     ]
    }
   ],
   "source": [
    "# train_data = df[0:round(df.shape[0]*0.85)]\n",
    "# valid_data = df[round(df.shape[0]*0.85+1):round(df.shape[0]*0.95)]\n",
    "# test_data  = df[round(df3.shape[0]*0.95+1):df.shape[0]]\n",
    "# print('train_data', train_data.shape)\n",
    "# print('valid_data', valid_data.shape)\n",
    "# print('test_data',  test_data.shape)\n"
   ]
  },
  {
   "cell_type": "code",
   "execution_count": null,
   "metadata": {},
   "outputs": [],
   "source": []
  },
  {
   "cell_type": "markdown",
   "metadata": {
    "id": "pa49bUnKyRgF"
   },
   "source": [
    "# Time series forecasting"
   ]
  },
  {
   "cell_type": "markdown",
   "metadata": {
    "id": "11Ilg92myRcw"
   },
   "source": [
    "<table class=\"tfo-notebook-buttons\" align=\"left\">\n",
    "  <td>\n",
    "    <a target=\"_blank\" href=\"https://www.tensorflow.org/tutorials/structured_data/time_series\"><img src=\"https://www.tensorflow.org/images/tf_logo_32px.png\" />View on TensorFlow.org</a>\n",
    "  </td>\n",
    "  <td>\n",
    "    <a target=\"_blank\" href=\"https://colab.research.google.com/github/tensorflow/docs/blob/master/site/en/tutorials/structured_data/time_series.ipynb\"><img src=\"https://www.tensorflow.org/images/colab_logo_32px.png\" />Run in Google Colab</a>\n",
    "  </td>\n",
    "  <td>\n",
    "    <a target=\"_blank\" href=\"https://github.com/tensorflow/docs/blob/master/site/en/tutorials/structured_data/time_series.ipynb\"><img src=\"https://www.tensorflow.org/images/GitHub-Mark-32px.png\" />View source on GitHub</a>\n",
    "  </td>\n",
    "  <td>\n",
    "    <a href=\"https://storage.googleapis.com/tensorflow_docs/docs/site/en/tutorials/structured_data/time_series.ipynb\"><img src=\"https://www.tensorflow.org/images/download_logo_32px.png\" />Download notebook</a>\n",
    "  </td>\n",
    "</table>"
   ]
  },
  {
   "cell_type": "markdown",
   "metadata": {
    "id": "GU8C5qm_4vZb"
   },
   "source": [
    "This tutorial is an introduction to time series forecasting using TensorFlow. It builds a few different styles of models including Convolutional and Recurrent Neural Networks (CNNs and RNNs).\n",
    "\n",
    "This is covered in two main parts, with subsections: \n",
    "\n",
    "* Forecast for a single time step:\n",
    "  * A single feature.\n",
    "  * All features.\n",
    "* Forecast multiple steps:\n",
    "  * Single-shot: Make the predictions all at once.\n",
    "  * Autoregressive: Make one prediction at a time and feed the output back to the model."
   ]
  },
  {
   "cell_type": "markdown",
   "metadata": {
    "id": "XVhK72Pu1cJL"
   },
   "source": [
    "## Setup"
   ]
  },
  {
   "cell_type": "code",
   "execution_count": 34,
   "metadata": {
    "execution": {
     "iopub.execute_input": "2022-01-26T05:48:44.628548Z",
     "iopub.status.busy": "2022-01-26T05:48:44.627999Z",
     "iopub.status.idle": "2022-01-26T05:48:47.505146Z",
     "shell.execute_reply": "2022-01-26T05:48:47.504604Z"
    },
    "id": "7rZnJaGTWQw0"
   },
   "outputs": [],
   "source": [
    "import os\n",
    "import datetime\n",
    "\n",
    "import IPython\n",
    "import IPython.display\n",
    "import matplotlib as mpl\n",
    "import matplotlib.pyplot as plt\n",
    "import numpy as np\n",
    "import pandas as pd\n",
    "import seaborn as sns\n",
    "import tensorflow as tf\n",
    "\n",
    "mpl.rcParams['figure.figsize'] = (8, 6)\n",
    "mpl.rcParams['axes.grid'] = False"
   ]
  },
  {
   "cell_type": "markdown",
   "metadata": {
    "id": "TokBlnUhWFw9"
   },
   "source": [
    "## The weather dataset\n",
    "\n",
    "This tutorial uses a <a href=\"https://www.bgc-jena.mpg.de/wetter/\" class=\"external\">weather time series dataset</a> recorded by the <a href=\"https://www.bgc-jena.mpg.de\" class=\"external\">Max Planck Institute for Biogeochemistry</a>.\n",
    "\n",
    "This dataset contains 14 different features such as air temperature, atmospheric pressure, and humidity. These were collected every 10 minutes, beginning in 2003. For efficiency, you will use only the data collected between 2009 and 2016. This section of the dataset was prepared by François Chollet for his book <a href=\"https://www.manning.com/books/deep-learning-with-python\" class=\"external\">Deep Learning with Python</a>."
   ]
  },
  {
   "cell_type": "code",
   "execution_count": 37,
   "metadata": {
    "execution": {
     "iopub.execute_input": "2022-01-26T05:48:47.510201Z",
     "iopub.status.busy": "2022-01-26T05:48:47.509448Z",
     "iopub.status.idle": "2022-01-26T05:48:48.846953Z",
     "shell.execute_reply": "2022-01-26T05:48:48.846445Z"
    },
    "id": "xyv_i85IWInT"
   },
   "outputs": [],
   "source": [
    "# zip_path = tf.keras.utils.get_file(\n",
    "#     origin='https://storage.googleapis.com/tensorflow/tf-keras-datasets/jena_climate_2009_2016.csv.zip',\n",
    "#     fname='jena_climate_2009_2016.csv.zip',\n",
    "#     extract=True)\n",
    "# csv_path, _ = os.path.splitext(zip_path)"
   ]
  },
  {
   "cell_type": "markdown",
   "metadata": {
    "id": "R81Wx8WP4c3G"
   },
   "source": [
    "This tutorial will just deal with **hourly predictions**, so start by sub-sampling the data from 10-minute intervals to one-hour intervals:"
   ]
  },
  {
   "cell_type": "code",
   "execution_count": 43,
   "metadata": {
    "execution": {
     "iopub.execute_input": "2022-01-26T05:48:48.852250Z",
     "iopub.status.busy": "2022-01-26T05:48:48.851671Z",
     "iopub.status.idle": "2022-01-26T05:48:49.708905Z",
     "shell.execute_reply": "2022-01-26T05:48:49.709274Z"
    },
    "id": "TX6uGeeeWIkG"
   },
   "outputs": [],
   "source": [
    "# df = pd.read_csv(csv_path)\n",
    "# # Slice [start:stop:step], starting from index 5 take every 6th record.\n",
    "# df = df[5::6]"
   ]
  },
  {
   "cell_type": "code",
   "execution_count": null,
   "metadata": {},
   "outputs": [],
   "source": []
  },
  {
   "cell_type": "code",
   "execution_count": 97,
   "metadata": {},
   "outputs": [],
   "source": [
    "# date_time = pd.to_datetime(df.pop('Date Time'), format='%d.%m.%Y %H:%M:%S')"
   ]
  },
  {
   "cell_type": "markdown",
   "metadata": {
    "id": "VdbOWXiTWM2T"
   },
   "source": [
    "Let's take a glance at the data. Here are the first few rows:"
   ]
  },
  {
   "cell_type": "markdown",
   "metadata": {
    "id": "WRzj1inMfgcO"
   },
   "source": [
    "Here is the evolution of a few features over time:"
   ]
  },
  {
   "cell_type": "code",
   "execution_count": 107,
   "metadata": {
    "execution": {
     "iopub.execute_input": "2022-01-26T05:48:49.739533Z",
     "iopub.status.busy": "2022-01-26T05:48:49.738962Z",
     "iopub.status.idle": "2022-01-26T05:48:51.416442Z",
     "shell.execute_reply": "2022-01-26T05:48:51.416872Z"
    },
    "id": "Vg5XIc5tfNlG"
   },
   "outputs": [
    {
     "data": {
      "image/png": "[encoded data removed]",
      "text/plain": [
       "<Figure size 576x432 with 8 Axes>"
      ]
     },
     "metadata": {
      "needs_background": "light"
     },
     "output_type": "display_data"
    },
    {
     "data": {
      "image/png": "[encoded data removed]",
      "text/plain": [
       "<Figure size 576x432 with 8 Axes>"
      ]
     },
     "metadata": {
      "needs_background": "light"
     },
     "output_type": "display_data"
    }
   ],
   "source": [
    "plot_cols = ['A','AAPL','ADBE','ADP','AFG','ALRS','AMAT','AMD']\n",
    "plot_features = df[plot_cols]\n",
    "plot_features.index = date_time\n",
    "_ = plot_features.plot(subplots=True)\n",
    "\n",
    "plot_features = df[plot_cols][:4080]\n",
    "plot_features.index = date_time[:4080]\n",
    "_ = plot_features.plot(subplots=True)"
   ]
  },
  {
   "cell_type": "markdown",
   "metadata": {
    "id": "wXWLG0_WBhZS"
   },
   "source": [
    "### Inspect and cleanup"
   ]
  },
  {
   "cell_type": "markdown",
   "metadata": {
    "id": "yhmZXJew6GlS"
   },
   "source": [
    "Next, look at the statistics of the dataset:"
   ]
  },
  {
   "cell_type": "code",
   "execution_count": 108,
   "metadata": {
    "execution": {
     "iopub.execute_input": "2022-01-26T05:48:51.428541Z",
     "iopub.status.busy": "2022-01-26T05:48:51.427981Z",
     "iopub.status.idle": "2022-01-26T05:48:51.498493Z",
     "shell.execute_reply": "2022-01-26T05:48:51.498039Z"
    },
    "id": "h510pgKVrrai"
   },
   "outputs": [
    {
     "data": {
      "text/html": [
       "<div>\n",
       "<style scoped>\n",
       "    .dataframe tbody tr th:only-of-type {\n",
       "        vertical-align: middle;\n",
       "    }\n",
       "\n",
       "    .dataframe tbody tr th {\n",
       "        vertical-align: top;\n",
       "    }\n",
       "\n",
       "    .dataframe thead th {\n",
       "        text-align: right;\n",
       "    }\n",
       "</style>\n",
       "<table border=\"1\" class=\"dataframe\">\n",
       "  <thead>\n",
       "    <tr style=\"text-align: right;\">\n",
       "      <th></th>\n",
       "      <th>count</th>\n",
       "      <th>mean</th>\n",
       "      <th>std</th>\n",
       "      <th>min</th>\n",
       "      <th>25%</th>\n",
       "      <th>50%</th>\n",
       "      <th>75%</th>\n",
       "      <th>max</th>\n",
       "    </tr>\n",
       "    <tr>\n",
       "      <th>ticker</th>\n",
       "      <th></th>\n",
       "      <th></th>\n",
       "      <th></th>\n",
       "      <th></th>\n",
       "      <th></th>\n",
       "      <th></th>\n",
       "      <th></th>\n",
       "      <th></th>\n",
       "    </tr>\n",
       "  </thead>\n",
       "  <tbody>\n",
       "    <tr>\n",
       "      <th>A</th>\n",
       "      <td>152278.0</td>\n",
       "      <td>109.786823</td>\n",
       "      <td>32.611743</td>\n",
       "      <td>62.8800</td>\n",
       "      <td>78.54</td>\n",
       "      <td>102.18</td>\n",
       "      <td>137.52</td>\n",
       "      <td>180.69</td>\n",
       "    </tr>\n",
       "    <tr>\n",
       "      <th>AAPL</th>\n",
       "      <td>152278.0</td>\n",
       "      <td>105.655577</td>\n",
       "      <td>42.167942</td>\n",
       "      <td>37.4475</td>\n",
       "      <td>65.21</td>\n",
       "      <td>116.32</td>\n",
       "      <td>141.72</td>\n",
       "      <td>183.37</td>\n",
       "    </tr>\n",
       "    <tr>\n",
       "      <th>ADBE</th>\n",
       "      <td>152278.0</td>\n",
       "      <td>436.734119</td>\n",
       "      <td>125.980334</td>\n",
       "      <td>237.8500</td>\n",
       "      <td>307.28</td>\n",
       "      <td>457.70</td>\n",
       "      <td>513.00</td>\n",
       "      <td>698.00</td>\n",
       "    </tr>\n",
       "    <tr>\n",
       "      <th>ADP</th>\n",
       "      <td>152278.0</td>\n",
       "      <td>176.207812</td>\n",
       "      <td>29.110259</td>\n",
       "      <td>105.6900</td>\n",
       "      <td>154.95</td>\n",
       "      <td>169.55</td>\n",
       "      <td>198.73</td>\n",
       "      <td>249.41</td>\n",
       "    </tr>\n",
       "    <tr>\n",
       "      <th>AFG</th>\n",
       "      <td>152278.0</td>\n",
       "      <td>92.854911</td>\n",
       "      <td>30.905124</td>\n",
       "      <td>56.9900</td>\n",
       "      <td>65.78</td>\n",
       "      <td>71.35</td>\n",
       "      <td>126.92</td>\n",
       "      <td>150.56</td>\n",
       "    </tr>\n",
       "    <tr>\n",
       "      <th>...</th>\n",
       "      <td>...</td>\n",
       "      <td>...</td>\n",
       "      <td>...</td>\n",
       "      <td>...</td>\n",
       "      <td>...</td>\n",
       "      <td>...</td>\n",
       "      <td>...</td>\n",
       "      <td>...</td>\n",
       "    </tr>\n",
       "    <tr>\n",
       "      <th>WRB</th>\n",
       "      <td>152278.0</td>\n",
       "      <td>68.242867</td>\n",
       "      <td>8.768776</td>\n",
       "      <td>52.8200</td>\n",
       "      <td>61.35</td>\n",
       "      <td>63.12</td>\n",
       "      <td>75.70</td>\n",
       "      <td>95.39</td>\n",
       "    </tr>\n",
       "    <tr>\n",
       "      <th>WSM</th>\n",
       "      <td>152278.0</td>\n",
       "      <td>111.299190</td>\n",
       "      <td>49.114948</td>\n",
       "      <td>28.1700</td>\n",
       "      <td>67.32</td>\n",
       "      <td>94.88</td>\n",
       "      <td>160.89</td>\n",
       "      <td>222.94</td>\n",
       "    </tr>\n",
       "    <tr>\n",
       "      <th>XEL</th>\n",
       "      <td>152278.0</td>\n",
       "      <td>64.728046</td>\n",
       "      <td>4.973809</td>\n",
       "      <td>47.1700</td>\n",
       "      <td>62.00</td>\n",
       "      <td>65.23</td>\n",
       "      <td>68.63</td>\n",
       "      <td>75.59</td>\n",
       "    </tr>\n",
       "    <tr>\n",
       "      <th>YELP</th>\n",
       "      <td>152278.0</td>\n",
       "      <td>33.125658</td>\n",
       "      <td>6.497735</td>\n",
       "      <td>13.4700</td>\n",
       "      <td>31.15</td>\n",
       "      <td>34.94</td>\n",
       "      <td>38.29</td>\n",
       "      <td>43.54</td>\n",
       "    </tr>\n",
       "    <tr>\n",
       "      <th>YNDX</th>\n",
       "      <td>152278.0</td>\n",
       "      <td>3830.685498</td>\n",
       "      <td>1271.953038</td>\n",
       "      <td>1781.6000</td>\n",
       "      <td>2503.60</td>\n",
       "      <td>4035.00</td>\n",
       "      <td>4979.00</td>\n",
       "      <td>6204.00</td>\n",
       "    </tr>\n",
       "  </tbody>\n",
       "</table>\n",
       "<p>147 rows × 8 columns</p>\n",
       "</div>"
      ],
      "text/plain": [
       "           count         mean          std        min      25%      50%  \\\n",
       "ticker                                                                    \n",
       "A       152278.0   109.786823    32.611743    62.8800    78.54   102.18   \n",
       "AAPL    152278.0   105.655577    42.167942    37.4475    65.21   116.32   \n",
       "ADBE    152278.0   436.734119   125.980334   237.8500   307.28   457.70   \n",
       "ADP     152278.0   176.207812    29.110259   105.6900   154.95   169.55   \n",
       "AFG     152278.0    92.854911    30.905124    56.9900    65.78    71.35   \n",
       "...          ...          ...          ...        ...      ...      ...   \n",
       "WRB     152278.0    68.242867     8.768776    52.8200    61.35    63.12   \n",
       "WSM     152278.0   111.299190    49.114948    28.1700    67.32    94.88   \n",
       "XEL     152278.0    64.728046     4.973809    47.1700    62.00    65.23   \n",
       "YELP    152278.0    33.125658     6.497735    13.4700    31.15    34.94   \n",
       "YNDX    152278.0  3830.685498  1271.953038  1781.6000  2503.60  4035.00   \n",
       "\n",
       "            75%      max  \n",
       "ticker                    \n",
       "A        137.52   180.69  \n",
       "AAPL     141.72   183.37  \n",
       "ADBE     513.00   698.00  \n",
       "ADP      198.73   249.41  \n",
       "AFG      126.92   150.56  \n",
       "...         ...      ...  \n",
       "WRB       75.70    95.39  \n",
       "WSM      160.89   222.94  \n",
       "XEL       68.63    75.59  \n",
       "YELP      38.29    43.54  \n",
       "YNDX    4979.00  6204.00  \n",
       "\n",
       "[147 rows x 8 columns]"
      ]
     },
     "execution_count": 108,
     "metadata": {},
     "output_type": "execute_result"
    }
   ],
   "source": [
    "df.describe().transpose()"
   ]
  },
  {
   "cell_type": "markdown",
   "metadata": {
    "id": "TzOTnWOoWMGK"
   },
   "source": [
    "#### Wind velocity"
   ]
  },
  {
   "cell_type": "markdown",
   "metadata": {
    "id": "i47LiW5DCVsP"
   },
   "source": [
    "One thing that should stand out is the `min` value of the wind velocity (`wv (m/s)`) and the maximum value (`max. wv (m/s)`) columns. This `-9999` is likely erroneous.\n",
    "\n",
    "There's a separate wind direction column, so the velocity should be greater than zero (`>=0`). Replace it with zeros:"
   ]
  },
  {
   "cell_type": "code",
   "execution_count": 9,
   "metadata": {
    "execution": {
     "iopub.execute_input": "2022-01-26T05:48:51.503880Z",
     "iopub.status.busy": "2022-01-26T05:48:51.503237Z",
     "iopub.status.idle": "2022-01-26T05:48:51.512349Z",
     "shell.execute_reply": "2022-01-26T05:48:51.512729Z"
    },
    "id": "qFOq0_80vF4d"
   },
   "outputs": [
    {
     "data": {
      "text/plain": [
       "0.0"
      ]
     },
     "execution_count": 9,
     "metadata": {},
     "output_type": "execute_result"
    }
   ],
   "source": [
    "# wv = df['wv (m/s)']\n",
    "# bad_wv = wv == -9999.0\n",
    "# wv[bad_wv] = 0.0\n",
    "\n",
    "# max_wv = df['max. wv (m/s)']\n",
    "# bad_max_wv = max_wv == -9999.0\n",
    "# max_wv[bad_max_wv] = 0.0\n",
    "\n",
    "# # The above inplace edits are reflected in the DataFrame.\n",
    "# df['wv (m/s)'].min()"
   ]
  },
  {
   "cell_type": "markdown",
   "metadata": {
    "id": "vtmu2IBPgPG8"
   },
   "source": [
    "### Feature engineering\n",
    "\n",
    "Before diving in to build a model, it's important to understand your data and be sure that you're passing the model appropriately formatted data."
   ]
  },
  {
   "cell_type": "markdown",
   "metadata": {
    "id": "FYyEaqiD6j4s"
   },
   "source": [
    "#### Wind\n",
    "The last column of the data, `wd (deg)`—gives the wind direction in units of degrees. Angles do not make good model inputs: 360° and 0° should be close to each other and wrap around smoothly. Direction shouldn't matter if the wind is not blowing.\n",
    "\n",
    "Right now the distribution of wind data looks like this:"
   ]
  },
  {
   "cell_type": "code",
   "execution_count": 117,
   "metadata": {
    "execution": {
     "iopub.execute_input": "2022-01-26T05:48:51.530570Z",
     "iopub.status.busy": "2022-01-26T05:48:51.527340Z",
     "iopub.status.idle": "2022-01-26T05:48:51.705939Z",
     "shell.execute_reply": "2022-01-26T05:48:51.705435Z"
    },
    "id": "YO7JGTcWQG2z"
   },
   "outputs": [],
   "source": [
    "# plt.hist2d(df['wd (deg)'], df['wv (m/s)'], bins=(50, 50), vmax=400)\n",
    "# plt.colorbar()\n",
    "# plt.xlabel('Wind Direction [deg]')\n",
    "# plt.ylabel('Wind Velocity [m/s]')"
   ]
  },
  {
   "cell_type": "markdown",
   "metadata": {
    "id": "yWnf5dwMU1_g"
   },
   "source": [
    "But this will be easier for the model to interpret if you convert the wind direction and velocity columns to a wind **vector**:"
   ]
  },
  {
   "cell_type": "code",
   "execution_count": 118,
   "metadata": {
    "execution": {
     "iopub.execute_input": "2022-01-26T05:48:51.712244Z",
     "iopub.status.busy": "2022-01-26T05:48:51.711618Z",
     "iopub.status.idle": "2022-01-26T05:48:51.726936Z",
     "shell.execute_reply": "2022-01-26T05:48:51.726472Z"
    },
    "id": "6GmSTHXw6lI1"
   },
   "outputs": [],
   "source": [
    "# wv = df.pop('wv (m/s)')\n",
    "# max_wv = df.pop('max. wv (m/s)')\n",
    "\n",
    "# # Convert to radians.\n",
    "# wd_rad = df.pop('wd (deg)')*np.pi / 180\n",
    "\n",
    "# # Calculate the wind x and y components.\n",
    "# df['Wx'] = wv*np.cos(wd_rad)\n",
    "# df['Wy'] = wv*np.sin(wd_rad)\n",
    "\n",
    "# # Calculate the max wind x and y components.\n",
    "# df['max Wx'] = max_wv*np.cos(wd_rad)\n",
    "# df['max Wy'] = max_wv*np.sin(wd_rad)"
   ]
  },
  {
   "cell_type": "markdown",
   "metadata": {
    "id": "7iI0zDoxWDyB"
   },
   "source": [
    "The distribution of wind vectors is much simpler for the model to correctly interpret:"
   ]
  },
  {
   "cell_type": "code",
   "execution_count": 119,
   "metadata": {
    "execution": {
     "iopub.execute_input": "2022-01-26T05:48:51.746179Z",
     "iopub.status.busy": "2022-01-26T05:48:51.736433Z",
     "iopub.status.idle": "2022-01-26T05:48:51.917930Z",
     "shell.execute_reply": "2022-01-26T05:48:51.917409Z"
    },
    "id": "bMgCG5o2SYKD"
   },
   "outputs": [],
   "source": [
    "# plt.hist2d(df['Wx'], df['Wy'], bins=(50, 50), vmax=400)\n",
    "# plt.colorbar()\n",
    "# plt.xlabel('Wind X [m/s]')\n",
    "# plt.ylabel('Wind Y [m/s]')\n",
    "# ax = plt.gca()\n",
    "# ax.axis('tight')"
   ]
  },
  {
   "cell_type": "markdown",
   "metadata": {
    "id": "_8im1ttOWlRB"
   },
   "source": [
    "#### Time"
   ]
  },
  {
   "cell_type": "markdown",
   "metadata": {
    "id": "7YE21HKK40zQ"
   },
   "source": [
    "Similarly, the `Date Time` column is very useful, but not in this string form. Start by converting it to seconds:"
   ]
  },
  {
   "cell_type": "code",
   "execution_count": 120,
   "metadata": {
    "execution": {
     "iopub.execute_input": "2022-01-26T05:48:51.999687Z",
     "iopub.status.busy": "2022-01-26T05:48:51.963191Z",
     "iopub.status.idle": "2022-01-26T05:48:52.154682Z",
     "shell.execute_reply": "2022-01-26T05:48:52.155068Z"
    },
    "id": "LIFf-VjMfnh3"
   },
   "outputs": [],
   "source": [
    "timestamp_s = date_time.map(pd.Timestamp.timestamp)"
   ]
  },
  {
   "cell_type": "markdown",
   "metadata": {
    "id": "EC_pnM1D5Sgc"
   },
   "source": [
    "Similar to the wind direction, the time in seconds is not a useful model input. Being weather data, it has clear daily and yearly periodicity. There are many ways you could deal with periodicity.\n",
    "\n",
    "You can get usable signals by using sine and cosine transforms to clear \"Time of day\" and \"Time of year\" signals:"
   ]
  },
  {
   "cell_type": "code",
   "execution_count": 112,
   "metadata": {
    "execution": {
     "iopub.execute_input": "2022-01-26T05:48:52.160490Z",
     "iopub.status.busy": "2022-01-26T05:48:52.159868Z",
     "iopub.status.idle": "2022-01-26T05:48:52.171564Z",
     "shell.execute_reply": "2022-01-26T05:48:52.171946Z"
    },
    "id": "MBfX6CDwax73"
   },
   "outputs": [],
   "source": [
    "day = 24*60*60\n",
    "year = (365.2425)*day\n",
    "\n",
    "df['Day sin'] = np.sin(timestamp_s * (2 * np.pi / day))\n",
    "df['Day cos'] = np.cos(timestamp_s * (2 * np.pi / day))\n",
    "df['Year sin'] = np.sin(timestamp_s * (2 * np.pi / year))\n",
    "df['Year cos'] = np.cos(timestamp_s * (2 * np.pi / year))"
   ]
  },
  {
   "cell_type": "code",
   "execution_count": 115,
   "metadata": {
    "execution": {
     "iopub.execute_input": "2022-01-26T05:48:52.189746Z",
     "iopub.status.busy": "2022-01-26T05:48:52.185780Z",
     "iopub.status.idle": "2022-01-26T05:48:52.293422Z",
     "shell.execute_reply": "2022-01-26T05:48:52.293773Z"
    },
    "id": "mXBbTJZfuuTC"
   },
   "outputs": [
    {
     "data": {
      "text/plain": [
       "Text(0.5, 1.0, 'Time of day signal')"
      ]
     },
     "execution_count": 115,
     "metadata": {},
     "output_type": "execute_result"
    },
    {
     "data": {
      "image/png": "[encoded data removed]",
      "text/plain": [
       "<Figure size 576x432 with 1 Axes>"
      ]
     },
     "metadata": {
      "needs_background": "light"
     },
     "output_type": "display_data"
    }
   ],
   "source": [
    "plt.plot(np.array(df['Day sin'])[:2500])\n",
    "plt.plot(np.array(df['Day cos'])[:2500])\n",
    "plt.xlabel('Time [h]')\n",
    "plt.title('Time of day signal')"
   ]
  },
  {
   "cell_type": "markdown",
   "metadata": {
    "id": "HiurzTGQgf_D"
   },
   "source": [
    "This gives the model access to the most important frequency features. In this case you knew ahead of time which frequencies were important. \n",
    "\n",
    "If you don't have that information, you can determine which frequencies are important by extracting features with <a href=\"https://en.wikipedia.org/wiki/Fast_Fourier_transform\" class=\"external\">Fast Fourier Transform</a>. To check the assumptions, here is the `tf.signal.rfft` of the temperature over time. Note the obvious peaks at frequencies near `1/year` and `1/day`:\n"
   ]
  },
  {
   "cell_type": "code",
   "execution_count": 121,
   "metadata": {
    "execution": {
     "iopub.execute_input": "2022-01-26T05:48:53.551009Z",
     "iopub.status.busy": "2022-01-26T05:48:53.550305Z",
     "iopub.status.idle": "2022-01-26T05:48:54.477611Z",
     "shell.execute_reply": "2022-01-26T05:48:54.477997Z"
    },
    "id": "EN4U1fcMiTYs"
   },
   "outputs": [
    {
     "data": {
      "image/png": "[encoded data removed]",
      "text/plain": [
       "<Figure size 576x432 with 1 Axes>"
      ]
     },
     "metadata": {
      "needs_background": "light"
     },
     "output_type": "display_data"
    }
   ],
   "source": [
    "fft = tf.signal.rfft(df['AAPL'])\n",
    "f_per_dataset = np.arange(0, len(fft))\n",
    "\n",
    "n_samples_h = len(df['AAPL'])\n",
    "hours_per_year = 24*365.2524\n",
    "years_per_dataset = n_samples_h/(hours_per_year)\n",
    "\n",
    "f_per_year = f_per_dataset/years_per_dataset\n",
    "plt.step(f_per_year, np.abs(fft))\n",
    "plt.xscale('log')\n",
    "plt.ylim(0, 400000)\n",
    "plt.xlim([0.1, max(plt.xlim())])\n",
    "plt.xticks([1, 365.2524], labels=['1/Year', '1/day'])\n",
    "_ = plt.xlabel('Frequency (log scale)')"
   ]
  },
  {
   "cell_type": "markdown",
   "metadata": {
    "id": "2rbL8bSGDHy3"
   },
   "source": [
    "### Split the data"
   ]
  },
  {
   "cell_type": "markdown",
   "metadata": {
    "id": "qoFJZmXBaxCc"
   },
   "source": [
    "You'll use a `(70%, 20%, 10%)` split for the training, validation, and test sets. Note the data is **not** being randomly shuffled before splitting. This is for two reasons:\n",
    "\n",
    "1. It ensures that chopping the data into windows of consecutive samples is still possible.\n",
    "2. It ensures that the validation/test results are more realistic, being evaluated on the data collected after the model was trained."
   ]
  },
  {
   "cell_type": "code",
   "execution_count": 123,
   "metadata": {
    "execution": {
     "iopub.execute_input": "2022-01-26T05:48:54.484071Z",
     "iopub.status.busy": "2022-01-26T05:48:54.483487Z",
     "iopub.status.idle": "2022-01-26T05:48:54.485135Z",
     "shell.execute_reply": "2022-01-26T05:48:54.485496Z"
    },
    "id": "ia-MPAHxbInX"
   },
   "outputs": [],
   "source": [
    "column_indices = {name: i for i, name in enumerate(df.columns)}\n",
    "\n",
    "n = len(df)\n",
    "train_df = df[0:int(n*0.7)]\n",
    "val_df = df[int(n*0.7):int(n*0.9)]\n",
    "test_df = df[int(n*0.9):]\n",
    "\n",
    "num_features = df.shape[1]"
   ]
  },
  {
   "cell_type": "markdown",
   "metadata": {
    "id": "-eFckdUUHWmT"
   },
   "source": [
    "### Normalize the data\n",
    "\n",
    "It is important to scale features before training a neural network. Normalization is a common way of doing this scaling: subtract the mean and divide by the standard deviation of each feature."
   ]
  },
  {
   "cell_type": "markdown",
   "metadata": {
    "id": "mxbIic5TMlxx"
   },
   "source": [
    "The mean and standard deviation should only be computed using the training data so that the models have no access to the values in the validation and test sets.\n",
    "\n",
    "It's also arguable that the model shouldn't have access to future values in the training set when training, and that this normalization should be done using moving averages. That's not the focus of this tutorial, and the validation and test sets ensure that you get (somewhat) honest metrics. So, in the interest of simplicity this tutorial uses a simple average."
   ]
  },
  {
   "cell_type": "code",
   "execution_count": 124,
   "metadata": {
    "execution": {
     "iopub.execute_input": "2022-01-26T05:48:54.489765Z",
     "iopub.status.busy": "2022-01-26T05:48:54.489170Z",
     "iopub.status.idle": "2022-01-26T05:48:54.527672Z",
     "shell.execute_reply": "2022-01-26T05:48:54.528086Z"
    },
    "id": "Eji6njXvHusN"
   },
   "outputs": [],
   "source": [
    "train_mean = train_df.mean()\n",
    "train_std = train_df.std()\n",
    "\n",
    "train_df = (train_df - train_mean) / train_std\n",
    "val_df = (val_df - train_mean) / train_std\n",
    "test_df = (test_df - train_mean) / train_std"
   ]
  },
  {
   "cell_type": "markdown",
   "metadata": {
    "id": "G6ufs8kk9JQw"
   },
   "source": [
    "Now, peek at the distribution of the features. Some features do have long tails, but there are no obvious errors like the `-9999` wind velocity value."
   ]
  },
  {
   "cell_type": "code",
   "execution_count": 125,
   "metadata": {
    "execution": {
     "iopub.execute_input": "2022-01-26T05:48:54.533510Z",
     "iopub.status.busy": "2022-01-26T05:48:54.532902Z",
     "iopub.status.idle": "2022-01-26T05:48:59.708885Z",
     "shell.execute_reply": "2022-01-26T05:48:59.709299Z"
    },
    "id": "T0UYEnkwm8Fe"
   },
   "outputs": [
    {
     "data": {
      "image/png": "[encoded data removed]",
      "text/plain": [
       "<Figure size 864x432 with 1 Axes>"
      ]
     },
     "metadata": {
      "needs_background": "light"
     },
     "output_type": "display_data"
    }
   ],
   "source": [
    "df_std = (df - train_mean) / train_std\n",
    "df_std = df_std.melt(var_name='Column', value_name='Normalized')\n",
    "plt.figure(figsize=(12, 6))\n",
    "ax = sns.violinplot(x='Column', y='Normalized', data=df_std)\n",
    "_ = ax.set_xticklabels(df.keys(), rotation=90)"
   ]
  },
  {
   "cell_type": "markdown",
   "metadata": {
    "id": "ZBBmdxZ2HgfJ"
   },
   "source": [
    "## Data windowing\n",
    "\n",
    "The models in this tutorial will make a set of predictions based on a window of consecutive samples from the data. \n",
    "\n",
    "The main features of the input windows are:\n",
    "\n",
    "- The width (number of time steps) of the input and label windows.\n",
    "- The time offset between them.\n",
    "- Which features are used as inputs, labels, or both. \n",
    "\n",
    "This tutorial builds a variety of models (including Linear, DNN, CNN and RNN models), and uses them for both:\n",
    "\n",
    "- *Single-output*, and *multi-output* predictions.\n",
    "- *Single-time-step* and *multi-time-step* predictions.\n",
    "\n",
    "This section focuses on implementing the data windowing so that it can be reused for all of those models.\n"
   ]
  },
  {
   "cell_type": "markdown",
   "metadata": {
    "id": "YAhGUVx1jtOy"
   },
   "source": [
    "Depending on the task and type of model you may want to generate a variety of data windows. Here are some examples:\n",
    "\n",
    "1. For example, to make a single prediction 24 hours into the future, given 24 hours of history, you might define a window like this:\n",
    "\n",
    "  ![One prediction 24 hours into the future.](images/raw_window_24h.png)\n",
    "\n",
    "2. A model that makes a prediction one hour into the future, given six hours of history, would need a window like this:\n",
    "\n",
    "  ![One prediction one hour into the future.](images/raw_window_1h.png)"
   ]
  },
  {
   "cell_type": "markdown",
   "metadata": {
    "id": "sa2BbfNZt8wy"
   },
   "source": [
    "The rest of this section defines a `WindowGenerator` class. This class can:\n",
    "\n",
    "1. Handle the indexes and offsets as shown in the diagrams above.\n",
    "1. Split windows of features into `(features, labels)` pairs.\n",
    "2. Plot the content of the resulting windows.\n",
    "3. Efficiently generate batches of these windows from the training, evaluation, and test data, using `tf.data.Dataset`s."
   ]
  },
  {
   "cell_type": "markdown",
   "metadata": {
    "id": "rfx3jGjyziUF"
   },
   "source": [
    "### 1. Indexes and offsets\n",
    "\n",
    "Start by creating the `WindowGenerator` class. The `__init__` method includes all the necessary logic for the input and label indices.\n",
    "\n",
    "It also takes the training, evaluation, and test DataFrames as input. These will be converted to `tf.data.Dataset`s of windows later."
   ]
  },
  {
   "cell_type": "code",
   "execution_count": 20,
   "metadata": {
    "execution": {
     "iopub.execute_input": "2022-01-26T05:48:59.717441Z",
     "iopub.status.busy": "2022-01-26T05:48:59.716826Z",
     "iopub.status.idle": "2022-01-26T05:48:59.718293Z",
     "shell.execute_reply": "2022-01-26T05:48:59.718648Z"
    },
    "id": "Kem30j8QHxyW"
   },
   "outputs": [],
   "source": [
    "class WindowGenerator():\n",
    "  def __init__(self, input_width, label_width, shift,\n",
    "               train_df=train_df, val_df=val_df, test_df=test_df,\n",
    "               label_columns=None):\n",
    "    # Store the raw data.\n",
    "    self.train_df = train_df\n",
    "    self.val_df = val_df\n",
    "    self.test_df = test_df\n",
    "\n",
    "    # Work out the label column indices.\n",
    "    self.label_columns = label_columns\n",
    "    if label_columns is not None:\n",
    "      self.label_columns_indices = {name: i for i, name in\n",
    "                                    enumerate(label_columns)}\n",
    "    self.column_indices = {name: i for i, name in\n",
    "                           enumerate(train_df.columns)}\n",
    "\n",
    "    # Work out the window parameters.\n",
    "    self.input_width = input_width\n",
    "    self.label_width = label_width\n",
    "    self.shift = shift\n",
    "\n",
    "    self.total_window_size = input_width + shift\n",
    "\n",
    "    self.input_slice = slice(0, input_width)\n",
    "    self.input_indices = np.arange(self.total_window_size)[self.input_slice]\n",
    "\n",
    "    self.label_start = self.total_window_size - self.label_width\n",
    "    self.labels_slice = slice(self.label_start, None)\n",
    "    self.label_indices = np.arange(self.total_window_size)[self.labels_slice]\n",
    "\n",
    "  def __repr__(self):\n",
    "    return '\\n'.join([\n",
    "        f'Total window size: {self.total_window_size}',\n",
    "        f'Input indices: {self.input_indices}',\n",
    "        f'Label indices: {self.label_indices}',\n",
    "        f'Label column name(s): {self.label_columns}'])"
   ]
  },
  {
   "cell_type": "markdown",
   "metadata": {
    "id": "yVJgblsYzL1g"
   },
   "source": [
    "Here is code to create the 2 windows shown in the diagrams at the start of this section:"
   ]
  },
  {
   "cell_type": "code",
   "execution_count": 21,
   "metadata": {
    "execution": {
     "iopub.execute_input": "2022-01-26T05:48:59.723625Z",
     "iopub.status.busy": "2022-01-26T05:48:59.722962Z",
     "iopub.status.idle": "2022-01-26T05:48:59.725136Z",
     "shell.execute_reply": "2022-01-26T05:48:59.725555Z"
    },
    "id": "IsM5kRkz0UwK"
   },
   "outputs": [
    {
     "data": {
      "text/plain": [
       "Total window size: 48\n",
       "Input indices: [ 0  1  2  3  4  5  6  7  8  9 10 11 12 13 14 15 16 17 18 19 20 21 22 23]\n",
       "Label indices: [47]\n",
       "Label column name(s): ['T (degC)']"
      ]
     },
     "execution_count": 21,
     "metadata": {},
     "output_type": "execute_result"
    }
   ],
   "source": [
    "w1 = WindowGenerator(input_width=24, label_width=1, shift=24,\n",
    "                     label_columns=['T (degC)'])\n",
    "w1"
   ]
  },
  {
   "cell_type": "code",
   "execution_count": 22,
   "metadata": {
    "execution": {
     "iopub.execute_input": "2022-01-26T05:48:59.730082Z",
     "iopub.status.busy": "2022-01-26T05:48:59.729492Z",
     "iopub.status.idle": "2022-01-26T05:48:59.732057Z",
     "shell.execute_reply": "2022-01-26T05:48:59.731575Z"
    },
    "id": "viwKsYeAKFUn"
   },
   "outputs": [
    {
     "data": {
      "text/plain": [
       "Total window size: 7\n",
       "Input indices: [0 1 2 3 4 5]\n",
       "Label indices: [6]\n",
       "Label column name(s): ['T (degC)']"
      ]
     },
     "execution_count": 22,
     "metadata": {},
     "output_type": "execute_result"
    }
   ],
   "source": [
    "w2 = WindowGenerator(input_width=6, label_width=1, shift=1,\n",
    "                     label_columns=['T (degC)'])\n",
    "w2"
   ]
  },
  {
   "cell_type": "markdown",
   "metadata": {
    "id": "kJaUyTWQJd-L"
   },
   "source": [
    "### 2. Split\n",
    "\n",
    "Given a list of consecutive inputs, the `split_window` method will convert them to a window of inputs and a window of labels.\n",
    "\n",
    "The example `w2` you define earlier will be split like this:\n",
    "\n",
    "![The initial window is all consecutive samples, this splits it into an (inputs, labels) pairs](images/split_window.png)\n",
    "\n",
    "This diagram doesn't show the `features` axis of the data, but this `split_window` function also handles the `label_columns` so it can be used for both the single output and multi-output examples."
   ]
  },
  {
   "cell_type": "code",
   "execution_count": 23,
   "metadata": {
    "execution": {
     "iopub.execute_input": "2022-01-26T05:48:59.737289Z",
     "iopub.status.busy": "2022-01-26T05:48:59.736663Z",
     "iopub.status.idle": "2022-01-26T05:48:59.738344Z",
     "shell.execute_reply": "2022-01-26T05:48:59.738690Z"
    },
    "id": "W4KbxfzqkXPW"
   },
   "outputs": [],
   "source": [
    "def split_window(self, features):\n",
    "  inputs = features[:, self.input_slice, :]\n",
    "  labels = features[:, self.labels_slice, :]\n",
    "  if self.label_columns is not None:\n",
    "    labels = tf.stack(\n",
    "        [labels[:, :, self.column_indices[name]] for name in self.label_columns],\n",
    "        axis=-1)\n",
    "\n",
    "  # Slicing doesn't preserve static shape information, so set the shapes\n",
    "  # manually. This way the `tf.data.Datasets` are easier to inspect.\n",
    "  inputs.set_shape([None, self.input_width, None])\n",
    "  labels.set_shape([None, self.label_width, None])\n",
    "\n",
    "  return inputs, labels\n",
    "\n",
    "WindowGenerator.split_window = split_window"
   ]
  },
  {
   "cell_type": "markdown",
   "metadata": {
    "id": "G6U6VtVuM15s"
   },
   "source": [
    "Try it out:"
   ]
  },
  {
   "cell_type": "code",
   "execution_count": 24,
   "metadata": {
    "execution": {
     "iopub.execute_input": "2022-01-26T05:48:59.746054Z",
     "iopub.status.busy": "2022-01-26T05:48:59.743732Z",
     "iopub.status.idle": "2022-01-26T05:48:59.750222Z",
     "shell.execute_reply": "2022-01-26T05:48:59.749782Z"
    },
    "id": "YeCWbq6KLmL7"
   },
   "outputs": [
    {
     "name": "stdout",
     "output_type": "stream",
     "text": [
      "All shapes are: (batch, time, features)\n",
      "Window shape: (3, 7, 19)\n",
      "Inputs shape: (3, 6, 19)\n",
      "Labels shape: (3, 1, 1)\n"
     ]
    }
   ],
   "source": [
    "# Stack three slices, the length of the total window.\n",
    "example_window = tf.stack([np.array(train_df[:w2.total_window_size]),\n",
    "                           np.array(train_df[100:100+w2.total_window_size]),\n",
    "                           np.array(train_df[200:200+w2.total_window_size])])\n",
    "\n",
    "example_inputs, example_labels = w2.split_window(example_window)\n",
    "\n",
    "print('All shapes are: (batch, time, features)')\n",
    "print(f'Window shape: {example_window.shape}')\n",
    "print(f'Inputs shape: {example_inputs.shape}')\n",
    "print(f'Labels shape: {example_labels.shape}')"
   ]
  },
  {
   "cell_type": "markdown",
   "metadata": {
    "id": "xtMk1ffk2Mmd"
   },
   "source": [
    "Typically, data in TensorFlow is packed into arrays where the outermost index is across examples (the \"batch\" dimension). The middle indices are the \"time\" or \"space\" (width, height) dimension(s). The innermost indices are the features.\n",
    "\n",
    "The code above took a batch of three 7-time step windows with 19 features at each time step. It splits them into a batch of 6-time step 19-feature inputs, and a 1-time step 1-feature label. The label only has one feature because the `WindowGenerator` was initialized with `label_columns=['T (degC)']`. Initially, this tutorial will build models that predict single output labels."
   ]
  },
  {
   "cell_type": "markdown",
   "metadata": {
    "id": "tFZukGXrJoGo"
   },
   "source": [
    "### 3. Plot\n",
    "\n",
    "Here is a plot method that allows a simple visualization of the split window:"
   ]
  },
  {
   "cell_type": "code",
   "execution_count": 25,
   "metadata": {
    "execution": {
     "iopub.execute_input": "2022-01-26T05:48:59.754091Z",
     "iopub.status.busy": "2022-01-26T05:48:59.753496Z",
     "iopub.status.idle": "2022-01-26T05:48:59.755374Z",
     "shell.execute_reply": "2022-01-26T05:48:59.754868Z"
    },
    "id": "fmgd1qkYUWT7"
   },
   "outputs": [],
   "source": [
    "w2.example = example_inputs, example_labels"
   ]
  },
  {
   "cell_type": "code",
   "execution_count": 26,
   "metadata": {
    "execution": {
     "iopub.execute_input": "2022-01-26T05:48:59.762478Z",
     "iopub.status.busy": "2022-01-26T05:48:59.761898Z",
     "iopub.status.idle": "2022-01-26T05:48:59.763571Z",
     "shell.execute_reply": "2022-01-26T05:48:59.763968Z"
    },
    "id": "jIrYccI-Hm3B"
   },
   "outputs": [],
   "source": [
    "def plot(self, model=None, plot_col='T (degC)', max_subplots=3):\n",
    "  inputs, labels = self.example\n",
    "  plt.figure(figsize=(12, 8))\n",
    "  plot_col_index = self.column_indices[plot_col]\n",
    "  max_n = min(max_subplots, len(inputs))\n",
    "  for n in range(max_n):\n",
    "    plt.subplot(max_n, 1, n+1)\n",
    "    plt.ylabel(f'{plot_col} [normed]')\n",
    "    plt.plot(self.input_indices, inputs[n, :, plot_col_index],\n",
    "             label='Inputs', marker='.', zorder=-10)\n",
    "\n",
    "    if self.label_columns:\n",
    "      label_col_index = self.label_columns_indices.get(plot_col, None)\n",
    "    else:\n",
    "      label_col_index = plot_col_index\n",
    "\n",
    "    if label_col_index is None:\n",
    "      continue\n",
    "\n",
    "    plt.scatter(self.label_indices, labels[n, :, label_col_index],\n",
    "                edgecolors='k', label='Labels', c='#2ca02c', s=64)\n",
    "    if model is not None:\n",
    "      predictions = model(inputs)\n",
    "      plt.scatter(self.label_indices, predictions[n, :, label_col_index],\n",
    "                  marker='X', edgecolors='k', label='Predictions',\n",
    "                  c='#ff7f0e', s=64)\n",
    "\n",
    "    if n == 0:\n",
    "      plt.legend()\n",
    "\n",
    "  plt.xlabel('Time [h]')\n",
    "\n",
    "WindowGenerator.plot = plot"
   ]
  },
  {
   "cell_type": "markdown",
   "metadata": {
    "id": "HXvctEuK68vX"
   },
   "source": [
    "This plot aligns inputs, labels, and (later) predictions based on the time that the item refers to:"
   ]
  },
  {
   "cell_type": "code",
   "execution_count": 27,
   "metadata": {
    "execution": {
     "iopub.execute_input": "2022-01-26T05:48:59.781707Z",
     "iopub.status.busy": "2022-01-26T05:48:59.781094Z",
     "iopub.status.idle": "2022-01-26T05:49:00.081994Z",
     "shell.execute_reply": "2022-01-26T05:49:00.082395Z"
    },
    "id": "XjTqUnglOOni"
   },
   "outputs": [
    {
     "data": {
      "image/png": "[encoded data removed]",
      "text/plain": [
       "<Figure size 864x576 with 3 Axes>"
      ]
     },
     "metadata": {
      "needs_background": "light"
     },
     "output_type": "display_data"
    }
   ],
   "source": [
    "w2.plot()"
   ]
  },
  {
   "cell_type": "markdown",
   "metadata": {
    "id": "UqiqcPOldPG6"
   },
   "source": [
    "You can plot the other columns, but the example window `w2` configuration only has labels for the `T (degC)` column."
   ]
  },
  {
   "cell_type": "code",
   "execution_count": 28,
   "metadata": {
    "execution": {
     "iopub.execute_input": "2022-01-26T05:49:00.102185Z",
     "iopub.status.busy": "2022-01-26T05:49:00.101460Z",
     "iopub.status.idle": "2022-01-26T05:49:00.336216Z",
     "shell.execute_reply": "2022-01-26T05:49:00.336614Z"
    },
    "id": "EBRe4wnlfCH8"
   },
   "outputs": [
    {
     "data": {
      "image/png": "[encoded data removed]",
      "text/plain": [
       "<Figure size 864x576 with 3 Axes>"
      ]
     },
     "metadata": {
      "needs_background": "light"
     },
     "output_type": "display_data"
    }
   ],
   "source": [
    "w2.plot(plot_col='p (mbar)')"
   ]
  },
  {
   "cell_type": "markdown",
   "metadata": {
    "id": "xCvD-UaUzYMw"
   },
   "source": [
    "### 4. Create `tf.data.Dataset`s"
   ]
  },
  {
   "cell_type": "markdown",
   "metadata": {
    "id": "kLO3SFR9Osdf"
   },
   "source": [
    "Finally, this `make_dataset` method will take a time series DataFrame and convert it to a `tf.data.Dataset` of `(input_window, label_window)` pairs using the `tf.keras.utils.timeseries_dataset_from_array` function:"
   ]
  },
  {
   "cell_type": "code",
   "execution_count": 29,
   "metadata": {
    "execution": {
     "iopub.execute_input": "2022-01-26T05:49:00.342576Z",
     "iopub.status.busy": "2022-01-26T05:49:00.341791Z",
     "iopub.status.idle": "2022-01-26T05:49:00.344010Z",
     "shell.execute_reply": "2022-01-26T05:49:00.343547Z"
    },
    "id": "35qoSQeRVfJg"
   },
   "outputs": [],
   "source": [
    "def make_dataset(self, data):\n",
    "  data = np.array(data, dtype=np.float32)\n",
    "  ds = tf.keras.utils.timeseries_dataset_from_array(\n",
    "      data=data,\n",
    "      targets=None,\n",
    "      sequence_length=self.total_window_size,\n",
    "      sequence_stride=1,\n",
    "      shuffle=True,\n",
    "      batch_size=32,)\n",
    "\n",
    "  ds = ds.map(self.split_window)\n",
    "\n",
    "  return ds\n",
    "\n",
    "WindowGenerator.make_dataset = make_dataset"
   ]
  },
  {
   "cell_type": "markdown",
   "metadata": {
    "id": "LvsxQwJaCift"
   },
   "source": [
    "The `WindowGenerator` object holds training, validation, and test data.\n",
    "\n",
    "Add properties for accessing them as `tf.data.Dataset`s using the `make_dataset` method you defined earlier. Also, add a standard example batch for easy access and plotting:"
   ]
  },
  {
   "cell_type": "code",
   "execution_count": 30,
   "metadata": {
    "execution": {
     "iopub.execute_input": "2022-01-26T05:49:00.350434Z",
     "iopub.status.busy": "2022-01-26T05:49:00.349704Z",
     "iopub.status.idle": "2022-01-26T05:49:00.351911Z",
     "shell.execute_reply": "2022-01-26T05:49:00.351475Z"
    },
    "id": "2jZ2KkqGCfzu"
   },
   "outputs": [],
   "source": [
    "@property\n",
    "def train(self):\n",
    "  return self.make_dataset(self.train_df)\n",
    "\n",
    "@property\n",
    "def val(self):\n",
    "  return self.make_dataset(self.val_df)\n",
    "\n",
    "@property\n",
    "def test(self):\n",
    "  return self.make_dataset(self.test_df)\n",
    "\n",
    "@property\n",
    "def example(self):\n",
    "  \"\"\"Get and cache an example batch of `inputs, labels` for plotting.\"\"\"\n",
    "  result = getattr(self, '_example', None)\n",
    "  if result is None:\n",
    "    # No example batch was found, so get one from the `.train` dataset\n",
    "    result = next(iter(self.train))\n",
    "    # And cache it for next time\n",
    "    self._example = result\n",
    "  return result\n",
    "\n",
    "WindowGenerator.train = train\n",
    "WindowGenerator.val = val\n",
    "WindowGenerator.test = test\n",
    "WindowGenerator.example = example"
   ]
  },
  {
   "cell_type": "markdown",
   "metadata": {
    "id": "fF_Vj6Iw3Y2w"
   },
   "source": [
    "Now, the `WindowGenerator` object gives you access to the `tf.data.Dataset` objects, so you can easily iterate over the data.\n",
    "\n",
    "The `Dataset.element_spec` property tells you the structure, data types, and shapes of the dataset elements."
   ]
  },
  {
   "cell_type": "code",
   "execution_count": 31,
   "metadata": {
    "execution": {
     "iopub.execute_input": "2022-01-26T05:49:00.355924Z",
     "iopub.status.busy": "2022-01-26T05:49:00.355290Z",
     "iopub.status.idle": "2022-01-26T05:49:00.470448Z",
     "shell.execute_reply": "2022-01-26T05:49:00.470821Z"
    },
    "id": "daJ0-U383YVs"
   },
   "outputs": [
    {
     "data": {
      "text/plain": [
       "(TensorSpec(shape=(None, 6, 19), dtype=tf.float32, name=None),\n",
       " TensorSpec(shape=(None, 1, 1), dtype=tf.float32, name=None))"
      ]
     },
     "execution_count": 31,
     "metadata": {},
     "output_type": "execute_result"
    }
   ],
   "source": [
    "# Each element is an (inputs, label) pair.\n",
    "w2.train.element_spec"
   ]
  },
  {
   "cell_type": "markdown",
   "metadata": {
    "id": "XKTx3_Z7ua-n"
   },
   "source": [
    "Iterating over a `Dataset` yields concrete batches:"
   ]
  },
  {
   "cell_type": "code",
   "execution_count": 32,
   "metadata": {
    "execution": {
     "iopub.execute_input": "2022-01-26T05:49:00.475287Z",
     "iopub.status.busy": "2022-01-26T05:49:00.474724Z",
     "iopub.status.idle": "2022-01-26T05:49:00.564933Z",
     "shell.execute_reply": "2022-01-26T05:49:00.565328Z"
    },
    "id": "6gtKXEgf4Iml"
   },
   "outputs": [
    {
     "name": "stdout",
     "output_type": "stream",
     "text": [
      "Inputs shape (batch, time, features): (32, 6, 19)\n",
      "Labels shape (batch, time, features): (32, 1, 1)\n"
     ]
    }
   ],
   "source": [
    "for example_inputs, example_labels in w2.train.take(1):\n",
    "  print(f'Inputs shape (batch, time, features): {example_inputs.shape}')\n",
    "  print(f'Labels shape (batch, time, features): {example_labels.shape}')"
   ]
  },
  {
   "cell_type": "markdown",
   "metadata": {
    "id": "LyuGuJUgjUK3"
   },
   "source": [
    "## Single step models\n",
    "\n",
    "The simplest model you can build on this sort of data is one that predicts a single feature's value—1 time step (one hour) into the future based only on the current conditions.\n",
    "\n",
    "So, start by building models to predict the `T (degC)` value one hour into the future.\n",
    "\n",
    "![Predict the next time step](images/narrow_window.png)\n",
    "\n",
    "Configure a `WindowGenerator` object to produce these single-step `(input, label)` pairs:"
   ]
  },
  {
   "cell_type": "code",
   "execution_count": 33,
   "metadata": {
    "execution": {
     "iopub.execute_input": "2022-01-26T05:49:00.570654Z",
     "iopub.status.busy": "2022-01-26T05:49:00.570057Z",
     "iopub.status.idle": "2022-01-26T05:49:00.572183Z",
     "shell.execute_reply": "2022-01-26T05:49:00.572547Z"
    },
    "id": "G5QX1G1JTPCr"
   },
   "outputs": [
    {
     "data": {
      "text/plain": [
       "Total window size: 2\n",
       "Input indices: [0]\n",
       "Label indices: [1]\n",
       "Label column name(s): ['T (degC)']"
      ]
     },
     "execution_count": 33,
     "metadata": {},
     "output_type": "execute_result"
    }
   ],
   "source": [
    "single_step_window = WindowGenerator(\n",
    "    input_width=1, label_width=1, shift=1,\n",
    "    label_columns=['T (degC)'])\n",
    "single_step_window"
   ]
  },
  {
   "cell_type": "markdown",
   "metadata": {
    "id": "RKTm8ajVGw4N"
   },
   "source": [
    "The `window` object creates `tf.data.Dataset`s from the training, validation, and test sets, allowing you to easily iterate over batches of data.\n"
   ]
  },
  {
   "cell_type": "code",
   "execution_count": 34,
   "metadata": {
    "execution": {
     "iopub.execute_input": "2022-01-26T05:49:00.576439Z",
     "iopub.status.busy": "2022-01-26T05:49:00.575872Z",
     "iopub.status.idle": "2022-01-26T05:49:00.663344Z",
     "shell.execute_reply": "2022-01-26T05:49:00.663794Z"
    },
    "id": "Do4ILUaBF8oc"
   },
   "outputs": [
    {
     "name": "stdout",
     "output_type": "stream",
     "text": [
      "Inputs shape (batch, time, features): (32, 1, 19)\n",
      "Labels shape (batch, time, features): (32, 1, 1)\n"
     ]
    }
   ],
   "source": [
    "for example_inputs, example_labels in single_step_window.train.take(1):\n",
    "  print(f'Inputs shape (batch, time, features): {example_inputs.shape}')\n",
    "  print(f'Labels shape (batch, time, features): {example_labels.shape}')"
   ]
  },
  {
   "cell_type": "markdown",
   "metadata": {
    "id": "D1bbPiR3VAm_"
   },
   "source": [
    "### Baseline\n",
    "\n",
    "Before building a trainable model it would be good to have a performance baseline as a point for comparison with the later more complicated models.\n",
    "\n",
    "This first task is to predict temperature one hour into the future, given the current value of all features. The current values include the current temperature. \n",
    "\n",
    "So, start with a model that just returns the current temperature as the prediction, predicting \"No change\". This is a reasonable baseline since temperature changes slowly. Of course, this baseline will work less well if you make a prediction further in the future.\n",
    "\n",
    "![Send the input to the output](images/baseline.png)"
   ]
  },
  {
   "cell_type": "code",
   "execution_count": 35,
   "metadata": {
    "execution": {
     "iopub.execute_input": "2022-01-26T05:49:00.669240Z",
     "iopub.status.busy": "2022-01-26T05:49:00.668660Z",
     "iopub.status.idle": "2022-01-26T05:49:00.670283Z",
     "shell.execute_reply": "2022-01-26T05:49:00.670641Z"
    },
    "id": "9TybQaIsi3yg"
   },
   "outputs": [],
   "source": [
    "class Baseline(tf.keras.Model):\n",
    "  def __init__(self, label_index=None):\n",
    "    super().__init__()\n",
    "    self.label_index = label_index\n",
    "\n",
    "  def call(self, inputs):\n",
    "    if self.label_index is None:\n",
    "      return inputs\n",
    "    result = inputs[:, :, self.label_index]\n",
    "    return result[:, :, tf.newaxis]"
   ]
  },
  {
   "cell_type": "markdown",
   "metadata": {
    "id": "0vb3f948i8p8"
   },
   "source": [
    "Instantiate and evaluate this model:"
   ]
  },
  {
   "cell_type": "code",
   "execution_count": 36,
   "metadata": {
    "execution": {
     "iopub.execute_input": "2022-01-26T05:49:00.677432Z",
     "iopub.status.busy": "2022-01-26T05:49:00.675131Z",
     "iopub.status.idle": "2022-01-26T05:49:02.134319Z",
     "shell.execute_reply": "2022-01-26T05:49:02.134736Z"
    },
    "id": "IS3-QKc4sX0D"
   },
   "outputs": [
    {
     "name": "stdout",
     "output_type": "stream",
     "text": [
      "439/439 [==============================] - 1s 1ms/step - loss: 0.0128 - mean_absolute_error: 0.0785\n"
     ]
    }
   ],
   "source": [
    "baseline = Baseline(label_index=column_indices['T (degC)'])\n",
    "\n",
    "baseline.compile(loss=tf.losses.MeanSquaredError(),\n",
    "                 metrics=[tf.metrics.MeanAbsoluteError()])\n",
    "\n",
    "val_performance = {}\n",
    "performance = {}\n",
    "val_performance['Baseline'] = baseline.evaluate(single_step_window.val)\n",
    "performance['Baseline'] = baseline.evaluate(single_step_window.test, verbose=0)"
   ]
  },
  {
   "cell_type": "markdown",
   "metadata": {
    "id": "nhBxQcCSs7Ec"
   },
   "source": [
    "That printed some performance metrics, but those don't give you a feeling for how well the model is doing.\n",
    "\n",
    "The `WindowGenerator` has a plot method, but the plots won't be very interesting with only a single sample.\n",
    "\n",
    "So, create a wider `WindowGenerator` that generates windows 24 hours of consecutive inputs and labels at a time. The new `wide_window` variable doesn't change the way the model operates. The model still makes predictions one hour into the future based on a single input time step. Here, the `time` axis acts like the `batch` axis: each prediction is made independently with no interaction between time steps:"
   ]
  },
  {
   "cell_type": "code",
   "execution_count": 37,
   "metadata": {
    "execution": {
     "iopub.execute_input": "2022-01-26T05:49:02.140583Z",
     "iopub.status.busy": "2022-01-26T05:49:02.139878Z",
     "iopub.status.idle": "2022-01-26T05:49:02.142897Z",
     "shell.execute_reply": "2022-01-26T05:49:02.142443Z"
    },
    "id": "C8jNR5uuJ5Zp"
   },
   "outputs": [
    {
     "data": {
      "text/plain": [
       "Total window size: 25\n",
       "Input indices: [ 0  1  2  3  4  5  6  7  8  9 10 11 12 13 14 15 16 17 18 19 20 21 22 23]\n",
       "Label indices: [ 1  2  3  4  5  6  7  8  9 10 11 12 13 14 15 16 17 18 19 20 21 22 23 24]\n",
       "Label column name(s): ['T (degC)']"
      ]
     },
     "execution_count": 37,
     "metadata": {},
     "output_type": "execute_result"
    }
   ],
   "source": [
    "wide_window = WindowGenerator(\n",
    "    input_width=24, label_width=24, shift=1,\n",
    "    label_columns=['T (degC)'])\n",
    "\n",
    "wide_window"
   ]
  },
  {
   "cell_type": "markdown",
   "metadata": {
    "id": "ZAnj7CFZkuYv"
   },
   "source": [
    "This expanded window can be passed directly to the same `baseline` model without any code changes. This is possible because the inputs and labels have the same number of time steps, and the baseline just forwards the input to the output:\n",
    "\n",
    "![One prediction 1h into the future, ever hour.](images/last_window.png)"
   ]
  },
  {
   "cell_type": "code",
   "execution_count": 38,
   "metadata": {
    "execution": {
     "iopub.execute_input": "2022-01-26T05:49:02.147998Z",
     "iopub.status.busy": "2022-01-26T05:49:02.146813Z",
     "iopub.status.idle": "2022-01-26T05:49:02.228174Z",
     "shell.execute_reply": "2022-01-26T05:49:02.227719Z"
    },
    "id": "sGKdvdg087qs"
   },
   "outputs": [
    {
     "name": "stdout",
     "output_type": "stream",
     "text": [
      "Input shape: (32, 24, 19)\n",
      "Output shape: (32, 24, 1)\n"
     ]
    }
   ],
   "source": [
    "print('Input shape:', wide_window.example[0].shape)\n",
    "print('Output shape:', baseline(wide_window.example[0]).shape)"
   ]
  },
  {
   "cell_type": "markdown",
   "metadata": {
    "id": "SKqQHX1K0JW-"
   },
   "source": [
    "By plotting the baseline model's predictions, notice that it is simply the labels shifted right by one hour:"
   ]
  },
  {
   "cell_type": "code",
   "execution_count": 39,
   "metadata": {
    "execution": {
     "iopub.execute_input": "2022-01-26T05:49:02.238340Z",
     "iopub.status.busy": "2022-01-26T05:49:02.237799Z",
     "iopub.status.idle": "2022-01-26T05:49:02.569728Z",
     "shell.execute_reply": "2022-01-26T05:49:02.570140Z"
    },
    "id": "jQyAPVLgWTOZ"
   },
   "outputs": [
    {
     "data": {
      "image/png": "[encoded data removed]",
      "text/plain": [
       "<Figure size 864x576 with 3 Axes>"
      ]
     },
     "metadata": {
      "needs_background": "light"
     },
     "output_type": "display_data"
    }
   ],
   "source": [
    "wide_window.plot(baseline)"
   ]
  },
  {
   "cell_type": "markdown",
   "metadata": {
    "id": "e93TLUhfAVg2"
   },
   "source": [
    "In the above plots of three examples the single step model is run over the course of 24 hours. This deserves some explanation:\n",
    "\n",
    "- The blue `Inputs` line shows the input temperature at each time step. The model receives all features, this plot only shows the temperature.\n",
    "- The green `Labels` dots show the target prediction value. These dots are shown at the prediction time, not the input time. That is why the range of labels is shifted 1 step relative to the inputs.\n",
    "- The orange `Predictions` crosses are the model's prediction's for each output time step. If the model were predicting perfectly the predictions would land directly on the `Labels`."
   ]
  },
  {
   "cell_type": "markdown",
   "metadata": {
    "id": "E4aOJScj52Yu"
   },
   "source": [
    "### Linear model\n",
    "\n",
    "The simplest **trainable** model you can apply to this task is to insert linear transformation between the input and output. In this case the output from a time step only depends on that step:\n",
    "\n",
    "![A single step prediction](images/narrow_window.png)\n",
    "\n",
    "A `tf.keras.layers.Dense` layer with no `activation` set is a linear model. The layer only transforms the last axis of the data from `(batch, time, inputs)` to `(batch, time, units)`; it is applied independently to every item across the `batch` and `time` axes."
   ]
  },
  {
   "cell_type": "code",
   "execution_count": 40,
   "metadata": {
    "execution": {
     "iopub.execute_input": "2022-01-26T05:49:02.578351Z",
     "iopub.status.busy": "2022-01-26T05:49:02.577765Z",
     "iopub.status.idle": "2022-01-26T05:49:02.580560Z",
     "shell.execute_reply": "2022-01-26T05:49:02.580898Z"
    },
    "id": "6341OXuQ5xA9"
   },
   "outputs": [],
   "source": [
    "linear = tf.keras.Sequential([\n",
    "    tf.keras.layers.Dense(units=1)\n",
    "])"
   ]
  },
  {
   "cell_type": "code",
   "execution_count": 41,
   "metadata": {
    "execution": {
     "iopub.execute_input": "2022-01-26T05:49:02.584736Z",
     "iopub.status.busy": "2022-01-26T05:49:02.584112Z",
     "iopub.status.idle": "2022-01-26T05:49:03.046255Z",
     "shell.execute_reply": "2022-01-26T05:49:03.045768Z"
    },
    "id": "KwaOM8RucUSn"
   },
   "outputs": [
    {
     "name": "stdout",
     "output_type": "stream",
     "text": [
      "Input shape: (32, 1, 19)\n",
      "Output shape: (32, 1, 1)\n"
     ]
    }
   ],
   "source": [
    "print('Input shape:', single_step_window.example[0].shape)\n",
    "print('Output shape:', linear(single_step_window.example[0]).shape)"
   ]
  },
  {
   "cell_type": "markdown",
   "metadata": {
    "id": "OMZTYIj3bYLg"
   },
   "source": [
    "This tutorial trains many models, so package the training procedure into a function:"
   ]
  },
  {
   "cell_type": "code",
   "execution_count": 42,
   "metadata": {
    "execution": {
     "iopub.execute_input": "2022-01-26T05:49:03.052378Z",
     "iopub.status.busy": "2022-01-26T05:49:03.051771Z",
     "iopub.status.idle": "2022-01-26T05:49:03.053730Z",
     "shell.execute_reply": "2022-01-26T05:49:03.053303Z"
    },
    "id": "CbCL6VIrk-Gt"
   },
   "outputs": [],
   "source": [
    "MAX_EPOCHS = 20\n",
    "\n",
    "def compile_and_fit(model, window, patience=2):\n",
    "  early_stopping = tf.keras.callbacks.EarlyStopping(monitor='val_loss',\n",
    "                                                    patience=patience,\n",
    "                                                    mode='min')\n",
    "\n",
    "  model.compile(loss=tf.losses.MeanSquaredError(),\n",
    "                optimizer=tf.optimizers.Adam(),\n",
    "                metrics=[tf.metrics.MeanAbsoluteError()])\n",
    "\n",
    "  history = model.fit(window.train, epochs=MAX_EPOCHS,\n",
    "                      validation_data=window.val,\n",
    "                      callbacks=[early_stopping])\n",
    "  return history"
   ]
  },
  {
   "cell_type": "markdown",
   "metadata": {
    "id": "OobVjM-schwj"
   },
   "source": [
    "Train the model and evaluate its performance:"
   ]
  },
  {
   "cell_type": "code",
   "execution_count": null,
   "metadata": {
    "execution": {
     "iopub.execute_input": "2022-01-26T05:49:03.059063Z",
     "iopub.status.busy": "2022-01-26T05:49:03.058456Z",
     "iopub.status.idle": "2022-01-26T05:49:48.346919Z",
     "shell.execute_reply": "2022-01-26T05:49:48.347393Z"
    },
    "id": "9agbz2qB9bLS"
   },
   "outputs": [
    {
     "name": "stdout",
     "output_type": "stream",
     "text": [
      "Epoch 1/20\n",
      "1534/1534 [==============================] - 6s 4ms/step - loss: 0.2344 - mean_absolute_error: 0.2682 - val_loss: 0.0112 - val_mean_absolute_error: 0.0796\n",
      "Epoch 2/20\n",
      "1534/1534 [==============================] - 5s 3ms/step - loss: 0.0104 - mean_absolute_error: 0.0760 - val_loss: 0.0099 - val_mean_absolute_error: 0.0743\n",
      "Epoch 3/20\n",
      "1534/1534 [==============================] - 5s 3ms/step - loss: 0.0098 - mean_absolute_error: 0.0735 - val_loss: 0.0093 - val_mean_absolute_error: 0.0720\n",
      "Epoch 4/20\n",
      "1534/1534 [==============================] - 5s 3ms/step - loss: 0.0095 - mean_absolute_error: 0.0718 - val_loss: 0.0091 - val_mean_absolute_error: 0.0706\n",
      "Epoch 5/20\n",
      "1534/1534 [==============================] - 4s 3ms/step - loss: 0.0093 - mean_absolute_error: 0.0710 - val_loss: 0.0090 - val_mean_absolute_error: 0.0702\n",
      "Epoch 6/20\n",
      "1534/1534 [==============================] - 5s 3ms/step - loss: 0.0093 - mean_absolute_error: 0.0706 - val_loss: 0.0090 - val_mean_absolute_error: 0.0702\n",
      "Epoch 7/20\n",
      "1534/1534 [==============================] - 5s 3ms/step - loss: 0.0092 - mean_absolute_error: 0.0704 - val_loss: 0.0089 - val_mean_absolute_error: 0.0699\n",
      "Epoch 8/20\n",
      "1534/1534 [==============================] - 5s 3ms/step - loss: 0.0092 - mean_absolute_error: 0.0703 - val_loss: 0.0088 - val_mean_absolute_error: 0.0694\n",
      "Epoch 9/20\n",
      "1520/1534 [============================>.] - ETA: 0s - loss: 0.0091 - mean_absolute_error: 0.0700"
     ]
    }
   ],
   "source": [
    "history = compile_and_fit(linear, single_step_window)\n",
    "\n",
    "val_performance['Linear'] = linear.evaluate(single_step_window.val)\n",
    "performance['Linear'] = linear.evaluate(single_step_window.test, verbose=0)"
   ]
  },
  {
   "cell_type": "markdown",
   "metadata": {
    "id": "7U9XukYh8beN"
   },
   "source": [
    "Like the `baseline` model, the linear model can be called on batches of wide windows. Used this way the model makes a set of independent predictions on consecutive time steps. The `time` axis acts like another `batch` axis. There are no interactions between the predictions at each time step.\n",
    "\n",
    "![A single step prediction](images/wide_window.png)"
   ]
  },
  {
   "cell_type": "code",
   "execution_count": null,
   "metadata": {
    "execution": {
     "iopub.execute_input": "2022-01-26T05:49:48.353408Z",
     "iopub.status.busy": "2022-01-26T05:49:48.352761Z",
     "iopub.status.idle": "2022-01-26T05:49:48.355058Z",
     "shell.execute_reply": "2022-01-26T05:49:48.355422Z"
    },
    "id": "K9UVM5Sw9KQN"
   },
   "outputs": [],
   "source": [
    "print('Input shape:', wide_window.example[0].shape)\n",
    "print('Output shape:', baseline(wide_window.example[0]).shape)"
   ]
  },
  {
   "cell_type": "markdown",
   "metadata": {
    "id": "X-CGj85oKaOG"
   },
   "source": [
    "Here is the plot of its example predictions on the `wide_window`, note how in many cases the prediction is clearly better than just returning the input temperature, but in a few cases it's worse:"
   ]
  },
  {
   "cell_type": "code",
   "execution_count": null,
   "metadata": {
    "execution": {
     "iopub.execute_input": "2022-01-26T05:49:48.366319Z",
     "iopub.status.busy": "2022-01-26T05:49:48.365772Z",
     "iopub.status.idle": "2022-01-26T05:49:48.714297Z",
     "shell.execute_reply": "2022-01-26T05:49:48.714672Z"
    },
    "id": "bCC8VVo-OvwV"
   },
   "outputs": [],
   "source": [
    "wide_window.plot(linear)"
   ]
  },
  {
   "cell_type": "markdown",
   "metadata": {
    "id": "Is51vU8EMl6c"
   },
   "source": [
    "One advantage to linear models is that they're relatively simple to  interpret.\n",
    "You can pull out the layer's weights and visualize the weight assigned to each input:"
   ]
  },
  {
   "cell_type": "code",
   "execution_count": null,
   "metadata": {
    "execution": {
     "iopub.execute_input": "2022-01-26T05:49:48.720412Z",
     "iopub.status.busy": "2022-01-26T05:49:48.719790Z",
     "iopub.status.idle": "2022-01-26T05:49:48.871946Z",
     "shell.execute_reply": "2022-01-26T05:49:48.872613Z"
    },
    "id": "d4uCTbsmK8VI"
   },
   "outputs": [],
   "source": [
    "plt.bar(x = range(len(train_df.columns)),\n",
    "        height=linear.layers[0].kernel[:,0].numpy())\n",
    "axis = plt.gca()\n",
    "axis.set_xticks(range(len(train_df.columns)))\n",
    "_ = axis.set_xticklabels(train_df.columns, rotation=90)"
   ]
  },
  {
   "cell_type": "markdown",
   "metadata": {
    "id": "Ylng7215boIY"
   },
   "source": [
    "Sometimes the model doesn't even place the most weight on the input `T (degC)`. This is one of the risks of random initialization. "
   ]
  },
  {
   "cell_type": "markdown",
   "metadata": {
    "id": "W18e6da1cNbw"
   },
   "source": [
    "### Dense\n",
    "\n",
    "Before applying models that actually operate on multiple time-steps, it's worth checking the performance of deeper, more powerful, single input step models.\n",
    "\n",
    "Here's a model similar to the `linear` model, except it stacks several a few `Dense` layers between the input and the output: "
   ]
  },
  {
   "cell_type": "code",
   "execution_count": null,
   "metadata": {
    "execution": {
     "iopub.execute_input": "2022-01-26T05:49:48.881194Z",
     "iopub.status.busy": "2022-01-26T05:49:48.880577Z",
     "iopub.status.idle": "2022-01-26T05:50:35.562905Z",
     "shell.execute_reply": "2022-01-26T05:50:35.562373Z"
    },
    "id": "Z86WkYp7cNAD"
   },
   "outputs": [],
   "source": [
    "dense = tf.keras.Sequential([\n",
    "    tf.keras.layers.Dense(units=64, activation='relu'),\n",
    "    tf.keras.layers.Dense(units=64, activation='relu'),\n",
    "    tf.keras.layers.Dense(units=1)\n",
    "])\n",
    "\n",
    "history = compile_and_fit(dense, single_step_window)\n",
    "\n",
    "val_performance['Dense'] = dense.evaluate(single_step_window.val)\n",
    "performance['Dense'] = dense.evaluate(single_step_window.test, verbose=0)"
   ]
  },
  {
   "cell_type": "markdown",
   "metadata": {
    "id": "j5dv_whJdswH"
   },
   "source": [
    "### Multi-step dense\n",
    "\n",
    "A single-time-step model has no context for the current values of its inputs. It can't see how the input features are changing over time. To address this issue the model needs access to multiple time steps when making predictions:\n",
    "\n",
    "![Three time steps are used for each prediction.](images/conv_window.png)\n"
   ]
  },
  {
   "cell_type": "markdown",
   "metadata": {
    "id": "Zac-ti8agbJ7"
   },
   "source": [
    "The `baseline`, `linear` and `dense` models handled each time step independently. Here the model will take multiple time steps as input to produce a single output.\n",
    "\n",
    "Create a `WindowGenerator` that will produce batches of three-hour inputs and one-hour labels:"
   ]
  },
  {
   "cell_type": "markdown",
   "metadata": {
    "id": "gtN4BwZ37niR"
   },
   "source": [
    "Note that the `Window`'s `shift` parameter is relative to the end of the two windows.\n"
   ]
  },
  {
   "cell_type": "code",
   "execution_count": null,
   "metadata": {
    "execution": {
     "iopub.execute_input": "2022-01-26T05:50:35.568426Z",
     "iopub.status.busy": "2022-01-26T05:50:35.567818Z",
     "iopub.status.idle": "2022-01-26T05:50:35.569909Z",
     "shell.execute_reply": "2022-01-26T05:50:35.570271Z"
    },
    "id": "lBh0j5djUKY2"
   },
   "outputs": [],
   "source": [
    "CONV_WIDTH = 3\n",
    "conv_window = WindowGenerator(\n",
    "    input_width=CONV_WIDTH,\n",
    "    label_width=1,\n",
    "    shift=1,\n",
    "    label_columns=['T (degC)'])\n",
    "\n",
    "conv_window"
   ]
  },
  {
   "cell_type": "code",
   "execution_count": null,
   "metadata": {
    "execution": {
     "iopub.execute_input": "2022-01-26T05:50:35.573721Z",
     "iopub.status.busy": "2022-01-26T05:50:35.573115Z",
     "iopub.status.idle": "2022-01-26T05:50:36.142178Z",
     "shell.execute_reply": "2022-01-26T05:50:36.142615Z"
    },
    "id": "dCQ5gvs68Xkd"
   },
   "outputs": [],
   "source": [
    "conv_window.plot()\n",
    "plt.title(\"Given 3 hours of inputs, predict 1 hour into the future.\")"
   ]
  },
  {
   "cell_type": "markdown",
   "metadata": {
    "id": "We0HdMxKeqB_"
   },
   "source": [
    "You could train a `dense` model on a multiple-input-step window by adding a `tf.keras.layers.Flatten` as the first layer of the model:"
   ]
  },
  {
   "cell_type": "code",
   "execution_count": null,
   "metadata": {
    "execution": {
     "iopub.execute_input": "2022-01-26T05:50:36.152329Z",
     "iopub.status.busy": "2022-01-26T05:50:36.151407Z",
     "iopub.status.idle": "2022-01-26T05:50:36.155699Z",
     "shell.execute_reply": "2022-01-26T05:50:36.155266Z"
    },
    "id": "oNQnUOkOnC1G"
   },
   "outputs": [],
   "source": [
    "multi_step_dense = tf.keras.Sequential([\n",
    "    # Shape: (time, features) => (time*features)\n",
    "    tf.keras.layers.Flatten(),\n",
    "    tf.keras.layers.Dense(units=32, activation='relu'),\n",
    "    tf.keras.layers.Dense(units=32, activation='relu'),\n",
    "    tf.keras.layers.Dense(units=1),\n",
    "    # Add back the time dimension.\n",
    "    # Shape: (outputs) => (1, outputs)\n",
    "    tf.keras.layers.Reshape([1, -1]),\n",
    "])"
   ]
  },
  {
   "cell_type": "code",
   "execution_count": null,
   "metadata": {
    "execution": {
     "iopub.execute_input": "2022-01-26T05:50:36.161376Z",
     "iopub.status.busy": "2022-01-26T05:50:36.160417Z",
     "iopub.status.idle": "2022-01-26T05:50:36.192376Z",
     "shell.execute_reply": "2022-01-26T05:50:36.192714Z"
    },
    "id": "cayD74luo4Vq"
   },
   "outputs": [],
   "source": [
    "print('Input shape:', conv_window.example[0].shape)\n",
    "print('Output shape:', multi_step_dense(conv_window.example[0]).shape)"
   ]
  },
  {
   "cell_type": "code",
   "execution_count": null,
   "metadata": {
    "execution": {
     "iopub.execute_input": "2022-01-26T05:50:36.198921Z",
     "iopub.status.busy": "2022-01-26T05:50:36.198031Z",
     "iopub.status.idle": "2022-01-26T05:51:19.834873Z",
     "shell.execute_reply": "2022-01-26T05:51:19.835317Z"
    },
    "id": "fu91yEbRo9-J"
   },
   "outputs": [],
   "source": [
    "history = compile_and_fit(multi_step_dense, conv_window)\n",
    "\n",
    "IPython.display.clear_output()\n",
    "val_performance['Multi step dense'] = multi_step_dense.evaluate(conv_window.val)\n",
    "performance['Multi step dense'] = multi_step_dense.evaluate(conv_window.test, verbose=0)"
   ]
  },
  {
   "cell_type": "code",
   "execution_count": null,
   "metadata": {
    "execution": {
     "iopub.execute_input": "2022-01-26T05:51:19.846418Z",
     "iopub.status.busy": "2022-01-26T05:51:19.845746Z",
     "iopub.status.idle": "2022-01-26T05:51:20.190567Z",
     "shell.execute_reply": "2022-01-26T05:51:20.191026Z"
    },
    "id": "tnqdXYT6pkEh"
   },
   "outputs": [],
   "source": [
    "conv_window.plot(multi_step_dense)"
   ]
  },
  {
   "cell_type": "markdown",
   "metadata": {
    "id": "gWfrsP8mq8lV"
   },
   "source": [
    "The main down-side of this approach is that the resulting model can only be executed on input windows of exactly this shape. "
   ]
  },
  {
   "cell_type": "code",
   "execution_count": null,
   "metadata": {
    "execution": {
     "iopub.execute_input": "2022-01-26T05:51:20.198202Z",
     "iopub.status.busy": "2022-01-26T05:51:20.197550Z",
     "iopub.status.idle": "2022-01-26T05:51:20.222416Z",
     "shell.execute_reply": "2022-01-26T05:51:20.222805Z"
    },
    "id": "j-q6tz5Yq8Jk"
   },
   "outputs": [],
   "source": [
    "print('Input shape:', wide_window.example[0].shape)\n",
    "try:\n",
    "  print('Output shape:', multi_step_dense(wide_window.example[0]).shape)\n",
    "except Exception as e:\n",
    "  print(f'\\n{type(e).__name__}:{e}')"
   ]
  },
  {
   "cell_type": "markdown",
   "metadata": {
    "id": "bvvajm3ip_8V"
   },
   "source": [
    "The convolutional models in the next section fix this problem."
   ]
  },
  {
   "cell_type": "markdown",
   "metadata": {
    "id": "CrpU6gwSJome"
   },
   "source": [
    "### Convolution neural network\n",
    " \n",
    "A convolution layer (`tf.keras.layers.Conv1D`) also takes multiple time steps as input to each prediction."
   ]
  },
  {
   "cell_type": "markdown",
   "metadata": {
    "id": "cdLBwoaHmsWb"
   },
   "source": [
    "Below is the **same** model as `multi_step_dense`, re-written with a convolution. \n",
    "\n",
    "Note the changes:\n",
    "* The `tf.keras.layers.Flatten` and the first `tf.keras.layers.Dense` are replaced by a `tf.keras.layers.Conv1D`.\n",
    "* The `tf.keras.layers.Reshape` is no longer necessary since the convolution keeps the time axis in its output."
   ]
  },
  {
   "cell_type": "code",
   "execution_count": null,
   "metadata": {
    "execution": {
     "iopub.execute_input": "2022-01-26T05:51:20.230723Z",
     "iopub.status.busy": "2022-01-26T05:51:20.230138Z",
     "iopub.status.idle": "2022-01-26T05:51:20.233548Z",
     "shell.execute_reply": "2022-01-26T05:51:20.233895Z"
    },
    "id": "5azaMBj4ac9t"
   },
   "outputs": [],
   "source": [
    "conv_model = tf.keras.Sequential([\n",
    "    tf.keras.layers.Conv1D(filters=32,\n",
    "                           kernel_size=(CONV_WIDTH,),\n",
    "                           activation='relu'),\n",
    "    tf.keras.layers.Dense(units=32, activation='relu'),\n",
    "    tf.keras.layers.Dense(units=1),\n",
    "])"
   ]
  },
  {
   "cell_type": "markdown",
   "metadata": {
    "id": "ftaH6B5ECRiK"
   },
   "source": [
    "Run it on an example batch to check that the model produces outputs with the expected shape:"
   ]
  },
  {
   "cell_type": "code",
   "execution_count": null,
   "metadata": {
    "execution": {
     "iopub.execute_input": "2022-01-26T05:51:20.239406Z",
     "iopub.status.busy": "2022-01-26T05:51:20.238845Z",
     "iopub.status.idle": "2022-01-26T05:51:20.271070Z",
     "shell.execute_reply": "2022-01-26T05:51:20.271437Z"
    },
    "id": "5YNgt1-e98lH"
   },
   "outputs": [],
   "source": [
    "print(\"Conv model on `conv_window`\")\n",
    "print('Input shape:', conv_window.example[0].shape)\n",
    "print('Output shape:', conv_model(conv_window.example[0]).shape)"
   ]
  },
  {
   "cell_type": "markdown",
   "metadata": {
    "id": "5m4kC-jGCY3x"
   },
   "source": [
    "Train and evaluate it on the ` conv_window` and it should give performance similar to the `multi_step_dense` model."
   ]
  },
  {
   "cell_type": "code",
   "execution_count": null,
   "metadata": {
    "execution": {
     "iopub.execute_input": "2022-01-26T05:51:20.276887Z",
     "iopub.status.busy": "2022-01-26T05:51:20.276261Z",
     "iopub.status.idle": "2022-01-26T05:52:11.910870Z",
     "shell.execute_reply": "2022-01-26T05:52:11.910240Z"
    },
    "id": "QDVWdm4paUW7"
   },
   "outputs": [],
   "source": [
    "history = compile_and_fit(conv_model, conv_window)\n",
    "\n",
    "IPython.display.clear_output()\n",
    "val_performance['Conv'] = conv_model.evaluate(conv_window.val)\n",
    "performance['Conv'] = conv_model.evaluate(conv_window.test, verbose=0)"
   ]
  },
  {
   "cell_type": "markdown",
   "metadata": {
    "id": "sYRipDeXs0Kr"
   },
   "source": [
    "The difference between this `conv_model` and the `multi_step_dense` model is that the `conv_model` can be run on inputs of any length. The convolutional layer is applied to a sliding window of inputs:\n",
    "\n",
    "![Executing a convolutional model on a sequence](images/wide_conv_window.png)\n",
    "\n",
    "If you run it on wider input, it produces wider output:"
   ]
  },
  {
   "cell_type": "code",
   "execution_count": null,
   "metadata": {
    "execution": {
     "iopub.execute_input": "2022-01-26T05:52:11.918006Z",
     "iopub.status.busy": "2022-01-26T05:52:11.917394Z",
     "iopub.status.idle": "2022-01-26T05:52:11.962493Z",
     "shell.execute_reply": "2022-01-26T05:52:11.962059Z"
    },
    "id": "hoqccxx9r5jF"
   },
   "outputs": [],
   "source": [
    "print(\"Wide window\")\n",
    "print('Input shape:', wide_window.example[0].shape)\n",
    "print('Labels shape:', wide_window.example[1].shape)\n",
    "print('Output shape:', conv_model(wide_window.example[0]).shape)"
   ]
  },
  {
   "cell_type": "markdown",
   "metadata": {
    "id": "h_WGxtLIHhRF"
   },
   "source": [
    "Note that the output is shorter than the input. To make training or plotting work, you need the labels, and prediction to have the same length. So build a `WindowGenerator` to produce wide windows with a few extra input time steps so the label and prediction lengths match: "
   ]
  },
  {
   "cell_type": "code",
   "execution_count": null,
   "metadata": {
    "execution": {
     "iopub.execute_input": "2022-01-26T05:52:11.968119Z",
     "iopub.status.busy": "2022-01-26T05:52:11.967536Z",
     "iopub.status.idle": "2022-01-26T05:52:11.970100Z",
     "shell.execute_reply": "2022-01-26T05:52:11.969705Z"
    },
    "id": "_VPvJ_VwTc0f"
   },
   "outputs": [],
   "source": [
    "LABEL_WIDTH = 24\n",
    "INPUT_WIDTH = LABEL_WIDTH + (CONV_WIDTH - 1)\n",
    "wide_conv_window = WindowGenerator(\n",
    "    input_width=INPUT_WIDTH,\n",
    "    label_width=LABEL_WIDTH,\n",
    "    shift=1,\n",
    "    label_columns=['T (degC)'])\n",
    "\n",
    "wide_conv_window"
   ]
  },
  {
   "cell_type": "code",
   "execution_count": null,
   "metadata": {
    "execution": {
     "iopub.execute_input": "2022-01-26T05:52:11.974763Z",
     "iopub.status.busy": "2022-01-26T05:52:11.974119Z",
     "iopub.status.idle": "2022-01-26T05:52:12.071909Z",
     "shell.execute_reply": "2022-01-26T05:52:12.072320Z"
    },
    "id": "gtqlWYXeKXej"
   },
   "outputs": [],
   "source": [
    "print(\"Wide conv window\")\n",
    "print('Input shape:', wide_conv_window.example[0].shape)\n",
    "print('Labels shape:', wide_conv_window.example[1].shape)\n",
    "print('Output shape:', conv_model(wide_conv_window.example[0]).shape)"
   ]
  },
  {
   "cell_type": "markdown",
   "metadata": {
    "id": "yzxbbS56cSBV"
   },
   "source": [
    "Now, you can plot the model's predictions on a wider window. Note the 3 input time steps before the first prediction. Every prediction here is based on the 3 preceding time steps:"
   ]
  },
  {
   "cell_type": "code",
   "execution_count": null,
   "metadata": {
    "execution": {
     "iopub.execute_input": "2022-01-26T05:52:12.084217Z",
     "iopub.status.busy": "2022-01-26T05:52:12.083628Z",
     "iopub.status.idle": "2022-01-26T05:52:12.409962Z",
     "shell.execute_reply": "2022-01-26T05:52:12.410341Z"
    },
    "id": "gR7VyL45UuEe"
   },
   "outputs": [],
   "source": [
    "wide_conv_window.plot(conv_model)"
   ]
  },
  {
   "cell_type": "markdown",
   "metadata": {
    "id": "H4crpOcoMlSe"
   },
   "source": [
    "### Recurrent neural network\n",
    "\n",
    "A Recurrent Neural Network (RNN) is a type of neural network well-suited to time series data. RNNs process a time series step-by-step, maintaining an internal state from time-step to time-step.\n",
    "\n",
    "You can learn more in the [Text generation with an RNN](https://www.tensorflow.org/text/tutorials/text_generation) tutorial and the [Recurrent Neural Networks (RNN) with Keras](https://www.tensorflow.org/guide/keras/rnn) guide.\n",
    "\n",
    "In this tutorial, you will use an RNN layer called Long Short-Term Memory (`tf.keras.layers.LSTM`)."
   ]
  },
  {
   "cell_type": "markdown",
   "metadata": {
    "id": "vfQbHSMb1ATa"
   },
   "source": [
    "An important constructor argument for all Keras RNN layers, such as `tf.keras.layers.LSTM`, is the `return_sequences` argument. This setting can configure the layer in one of two ways:\n",
    "\n",
    "1. If `False`, the default, the layer only returns the output of the final time step, giving the model time to warm up its internal state before making a single prediction: \n",
    "\n",
    "![An LSTM warming up and making a single prediction](images/lstm_1_window.png)\n",
    "\n",
    "2. If `True`, the layer returns an output for each input. This is useful for:\n",
    "  * Stacking RNN layers. \n",
    "  * Training a model on multiple time steps simultaneously.\n",
    "\n",
    "![An LSTM making a prediction after every time step](images/lstm_many_window.png)"
   ]
  },
  {
   "cell_type": "code",
   "execution_count": null,
   "metadata": {
    "execution": {
     "iopub.execute_input": "2022-01-26T05:52:12.421171Z",
     "iopub.status.busy": "2022-01-26T05:52:12.420620Z",
     "iopub.status.idle": "2022-01-26T05:52:12.423671Z",
     "shell.execute_reply": "2022-01-26T05:52:12.424035Z"
    },
    "id": "DXKLCJy8nWNU"
   },
   "outputs": [],
   "source": [
    "lstm_model = tf.keras.models.Sequential([\n",
    "    # Shape [batch, time, features] => [batch, time, lstm_units]\n",
    "    tf.keras.layers.LSTM(32, return_sequences=True),\n",
    "    # Shape => [batch, time, features]\n",
    "    tf.keras.layers.Dense(units=1)\n",
    "])"
   ]
  },
  {
   "cell_type": "markdown",
   "metadata": {
    "id": "F124B00KZcLC"
   },
   "source": [
    "With `return_sequences=True`, the model can be trained on 24 hours of data at a time.\n",
    "\n",
    "Note: This will give a pessimistic view of the model's performance. On the first time step, the model has no access to previous steps and, therefore, can't do any better than the simple `linear` and `dense` models shown earlier."
   ]
  },
  {
   "cell_type": "code",
   "execution_count": null,
   "metadata": {
    "execution": {
     "iopub.execute_input": "2022-01-26T05:52:12.430923Z",
     "iopub.status.busy": "2022-01-26T05:52:12.429525Z",
     "iopub.status.idle": "2022-01-26T05:52:14.021380Z",
     "shell.execute_reply": "2022-01-26T05:52:14.021721Z"
    },
    "id": "eZEROCQVYV6q"
   },
   "outputs": [],
   "source": [
    "print('Input shape:', wide_window.example[0].shape)\n",
    "print('Output shape:', lstm_model(wide_window.example[0]).shape)"
   ]
  },
  {
   "cell_type": "code",
   "execution_count": null,
   "metadata": {
    "execution": {
     "iopub.execute_input": "2022-01-26T05:52:14.027937Z",
     "iopub.status.busy": "2022-01-26T05:52:14.027218Z",
     "iopub.status.idle": "2022-01-26T05:53:28.045017Z",
     "shell.execute_reply": "2022-01-26T05:53:28.045515Z"
    },
    "id": "uvdWRl1e9WJl"
   },
   "outputs": [],
   "source": [
    "history = compile_and_fit(lstm_model, wide_window)\n",
    "\n",
    "IPython.display.clear_output()\n",
    "val_performance['LSTM'] = lstm_model.evaluate(wide_window.val)\n",
    "performance['LSTM'] = lstm_model.evaluate(wide_window.test, verbose=0)"
   ]
  },
  {
   "cell_type": "code",
   "execution_count": null,
   "metadata": {
    "execution": {
     "iopub.execute_input": "2022-01-26T05:53:28.055904Z",
     "iopub.status.busy": "2022-01-26T05:53:28.055278Z",
     "iopub.status.idle": "2022-01-26T05:53:28.414116Z",
     "shell.execute_reply": "2022-01-26T05:53:28.414487Z"
    },
    "id": "NwAOWCVgB26e"
   },
   "outputs": [],
   "source": [
    "wide_window.plot(lstm_model)"
   ]
  },
  {
   "cell_type": "markdown",
   "metadata": {
    "id": "pYglOCKehi8F"
   },
   "source": [
    "### Performance"
   ]
  },
  {
   "cell_type": "markdown",
   "metadata": {
    "id": "2pCk0_rwhi8H"
   },
   "source": [
    "With this dataset typically each of the models does slightly better than the one before it:"
   ]
  },
  {
   "cell_type": "code",
   "execution_count": null,
   "metadata": {
    "execution": {
     "iopub.execute_input": "2022-01-26T05:53:28.442585Z",
     "iopub.status.busy": "2022-01-26T05:53:28.436122Z",
     "iopub.status.idle": "2022-01-26T05:53:28.560524Z",
     "shell.execute_reply": "2022-01-26T05:53:28.561256Z"
    },
    "id": "JjEkt488hi8I"
   },
   "outputs": [],
   "source": [
    "x = np.arange(len(performance))\n",
    "width = 0.3\n",
    "metric_name = 'mean_absolute_error'\n",
    "metric_index = lstm_model.metrics_names.index('mean_absolute_error')\n",
    "val_mae = [v[metric_index] for v in val_performance.values()]\n",
    "test_mae = [v[metric_index] for v in performance.values()]\n",
    "\n",
    "plt.ylabel('mean_absolute_error [T (degC), normalized]')\n",
    "plt.bar(x - 0.17, val_mae, width, label='Validation')\n",
    "plt.bar(x + 0.17, test_mae, width, label='Test')\n",
    "plt.xticks(ticks=x, labels=performance.keys(),\n",
    "           rotation=45)\n",
    "_ = plt.legend()"
   ]
  },
  {
   "cell_type": "code",
   "execution_count": null,
   "metadata": {
    "execution": {
     "iopub.execute_input": "2022-01-26T05:53:28.566565Z",
     "iopub.status.busy": "2022-01-26T05:53:28.565500Z",
     "iopub.status.idle": "2022-01-26T05:53:28.568934Z",
     "shell.execute_reply": "2022-01-26T05:53:28.569630Z"
    },
    "id": "cBMCpsdphi8L"
   },
   "outputs": [],
   "source": [
    "for name, value in performance.items():\n",
    "  print(f'{name:12s}: {value[1]:0.4f}')"
   ]
  },
  {
   "cell_type": "markdown",
   "metadata": {
    "id": "b5rUJ_2YMWzG"
   },
   "source": [
    "### Multi-output models\n",
    "\n",
    "The models so far all predicted a single output feature, `T (degC)`, for a single time step.\n",
    "\n",
    "All of these models can be converted to predict multiple features just by changing the number of units in the output layer and adjusting the training windows to include all features in the `labels` (`example_labels`):"
   ]
  },
  {
   "cell_type": "code",
   "execution_count": null,
   "metadata": {
    "execution": {
     "iopub.execute_input": "2022-01-26T05:53:28.575606Z",
     "iopub.status.busy": "2022-01-26T05:53:28.574558Z",
     "iopub.status.idle": "2022-01-26T05:53:28.668281Z",
     "shell.execute_reply": "2022-01-26T05:53:28.667770Z"
    },
    "id": "9Gk0Z91xjOwv"
   },
   "outputs": [],
   "source": [
    "single_step_window = WindowGenerator(\n",
    "    # `WindowGenerator` returns all features as labels if you \n",
    "    # don't set the `label_columns` argument.\n",
    "    input_width=1, label_width=1, shift=1)\n",
    "\n",
    "wide_window = WindowGenerator(\n",
    "    input_width=24, label_width=24, shift=1)\n",
    "\n",
    "for example_inputs, example_labels in wide_window.train.take(1):\n",
    "  print(f'Inputs shape (batch, time, features): {example_inputs.shape}')\n",
    "  print(f'Labels shape (batch, time, features): {example_labels.shape}')"
   ]
  },
  {
   "cell_type": "markdown",
   "metadata": {
    "id": "XmcjHfDskX1N"
   },
   "source": [
    "Note above that the `features` axis of the labels now has the same depth as the inputs, instead of `1`."
   ]
  },
  {
   "cell_type": "markdown",
   "metadata": {
    "id": "9k7S5IHNhSNF"
   },
   "source": [
    "#### Baseline\n",
    "\n",
    "The same baseline model (`Baseline`) can be used here, but this time repeating all features instead of selecting a specific `label_index`:"
   ]
  },
  {
   "cell_type": "code",
   "execution_count": null,
   "metadata": {
    "execution": {
     "iopub.execute_input": "2022-01-26T05:53:28.674734Z",
     "iopub.status.busy": "2022-01-26T05:53:28.673753Z",
     "iopub.status.idle": "2022-01-26T05:53:28.682938Z",
     "shell.execute_reply": "2022-01-26T05:53:28.682503Z"
    },
    "id": "sqqB9W-pjr5i"
   },
   "outputs": [],
   "source": [
    "baseline = Baseline()\n",
    "baseline.compile(loss=tf.losses.MeanSquaredError(),\n",
    "                 metrics=[tf.metrics.MeanAbsoluteError()])"
   ]
  },
  {
   "cell_type": "code",
   "execution_count": null,
   "metadata": {
    "execution": {
     "iopub.execute_input": "2022-01-26T05:53:28.687762Z",
     "iopub.status.busy": "2022-01-26T05:53:28.686877Z",
     "iopub.status.idle": "2022-01-26T05:53:30.126399Z",
     "shell.execute_reply": "2022-01-26T05:53:30.126871Z"
    },
    "id": "ltQdgaqQjQWu"
   },
   "outputs": [],
   "source": [
    "val_performance = {}\n",
    "performance = {}\n",
    "val_performance['Baseline'] = baseline.evaluate(wide_window.val)\n",
    "performance['Baseline'] = baseline.evaluate(wide_window.test, verbose=0)"
   ]
  },
  {
   "cell_type": "markdown",
   "metadata": {
    "id": "dfbCrf5q3P6n"
   },
   "source": [
    "#### Dense"
   ]
  },
  {
   "cell_type": "code",
   "execution_count": null,
   "metadata": {
    "execution": {
     "iopub.execute_input": "2022-01-26T05:53:30.134791Z",
     "iopub.status.busy": "2022-01-26T05:53:30.134170Z",
     "iopub.status.idle": "2022-01-26T05:53:30.136879Z",
     "shell.execute_reply": "2022-01-26T05:53:30.137258Z"
    },
    "id": "NdpzH1dYjdIN"
   },
   "outputs": [],
   "source": [
    "dense = tf.keras.Sequential([\n",
    "    tf.keras.layers.Dense(units=64, activation='relu'),\n",
    "    tf.keras.layers.Dense(units=64, activation='relu'),\n",
    "    tf.keras.layers.Dense(units=num_features)\n",
    "])"
   ]
  },
  {
   "cell_type": "code",
   "execution_count": null,
   "metadata": {
    "execution": {
     "iopub.execute_input": "2022-01-26T05:53:30.143236Z",
     "iopub.status.busy": "2022-01-26T05:53:30.142391Z",
     "iopub.status.idle": "2022-01-26T05:54:56.895354Z",
     "shell.execute_reply": "2022-01-26T05:54:56.894795Z"
    },
    "id": "6uHuU9Cd3PTo"
   },
   "outputs": [],
   "source": [
    "history = compile_and_fit(dense, single_step_window)\n",
    "\n",
    "IPython.display.clear_output()\n",
    "val_performance['Dense'] = dense.evaluate(single_step_window.val)\n",
    "performance['Dense'] = dense.evaluate(single_step_window.test, verbose=0)"
   ]
  },
  {
   "cell_type": "markdown",
   "metadata": {
    "id": "dsc9pur_mHsx"
   },
   "source": [
    "#### RNN\n"
   ]
  },
  {
   "cell_type": "code",
   "execution_count": null,
   "metadata": {
    "execution": {
     "iopub.execute_input": "2022-01-26T05:54:56.905807Z",
     "iopub.status.busy": "2022-01-26T05:54:56.904766Z",
     "iopub.status.idle": "2022-01-26T05:57:05.788280Z",
     "shell.execute_reply": "2022-01-26T05:57:05.788737Z"
    },
    "id": "4QbGLMyomXaz"
   },
   "outputs": [],
   "source": [
    "%%time\n",
    "wide_window = WindowGenerator(\n",
    "    input_width=24, label_width=24, shift=1)\n",
    "\n",
    "lstm_model = tf.keras.models.Sequential([\n",
    "    # Shape [batch, time, features] => [batch, time, lstm_units]\n",
    "    tf.keras.layers.LSTM(32, return_sequences=True),\n",
    "    # Shape => [batch, time, features]\n",
    "    tf.keras.layers.Dense(units=num_features)\n",
    "])\n",
    "\n",
    "history = compile_and_fit(lstm_model, wide_window)\n",
    "\n",
    "IPython.display.clear_output()\n",
    "val_performance['LSTM'] = lstm_model.evaluate( wide_window.val)\n",
    "performance['LSTM'] = lstm_model.evaluate( wide_window.test, verbose=0)\n",
    "\n",
    "print()"
   ]
  },
  {
   "cell_type": "markdown",
   "metadata": {
    "id": "UwhY2f_Nn0_K"
   },
   "source": [
    "<a id=\"residual\"></a>\n",
    "\n",
    "#### Advanced: Residual connections\n",
    "\n",
    "The `Baseline` model from earlier took advantage of the fact that the sequence doesn't change drastically from time step to time step. Every model trained in this tutorial so far was randomly initialized, and then had to learn that the output is a a small change from the previous time step.\n",
    "\n",
    "While you can get around this issue with careful initialization, it's  simpler to build this into the model structure.\n",
    "\n",
    "It's common in time series analysis to build models that instead of predicting the next value, predict how the value will change in the next time step. Similarly, <a href=\"https://arxiv.org/abs/1512.03385\" class=\"external\">residual networks</a>—or ResNets—in deep learning refer to architectures where each layer adds to the model's accumulating result.\n",
    "\n",
    "That is how you take advantage of the knowledge that the change should be small.\n",
    "\n",
    "![A model with a residual connection](images/residual.png)\n",
    "\n",
    "Essentially, this initializes the model to match the `Baseline`. For this task it helps models converge faster, with slightly better performance."
   ]
  },
  {
   "cell_type": "markdown",
   "metadata": {
    "id": "yP58A_ORx0kM"
   },
   "source": [
    "This approach can be used in conjunction with any model discussed in this tutorial. \n",
    "\n",
    "Here, it is being applied to the LSTM model, note the use of the `tf.initializers.zeros` to ensure that the initial predicted changes are small, and don't overpower the residual connection. There are no symmetry-breaking concerns for the gradients here, since the `zeros` are only used on the last layer."
   ]
  },
  {
   "cell_type": "code",
   "execution_count": null,
   "metadata": {
    "execution": {
     "iopub.execute_input": "2022-01-26T05:57:05.794310Z",
     "iopub.status.busy": "2022-01-26T05:57:05.793752Z",
     "iopub.status.idle": "2022-01-26T05:57:05.795410Z",
     "shell.execute_reply": "2022-01-26T05:57:05.795817Z"
    },
    "id": "7YlfnDQC22TQ"
   },
   "outputs": [],
   "source": [
    "class ResidualWrapper(tf.keras.Model):\n",
    "  def __init__(self, model):\n",
    "    super().__init__()\n",
    "    self.model = model\n",
    "\n",
    "  def call(self, inputs, *args, **kwargs):\n",
    "    delta = self.model(inputs, *args, **kwargs)\n",
    "\n",
    "    # The prediction for each time step is the input\n",
    "    # from the previous time step plus the delta\n",
    "    # calculated by the model.\n",
    "    return inputs + delta"
   ]
  },
  {
   "cell_type": "code",
   "execution_count": null,
   "metadata": {
    "execution": {
     "iopub.execute_input": "2022-01-26T05:57:05.804246Z",
     "iopub.status.busy": "2022-01-26T05:57:05.803639Z",
     "iopub.status.idle": "2022-01-26T05:57:48.881938Z",
     "shell.execute_reply": "2022-01-26T05:57:48.882356Z"
    },
    "id": "NNeH02pspc9B"
   },
   "outputs": [],
   "source": [
    "%%time\n",
    "residual_lstm = ResidualWrapper(\n",
    "    tf.keras.Sequential([\n",
    "    tf.keras.layers.LSTM(32, return_sequences=True),\n",
    "    tf.keras.layers.Dense(\n",
    "        num_features,\n",
    "        # The predicted deltas should start small.\n",
    "        # Therefore, initialize the output layer with zeros.\n",
    "        kernel_initializer=tf.initializers.zeros())\n",
    "]))\n",
    "\n",
    "history = compile_and_fit(residual_lstm, wide_window)\n",
    "\n",
    "IPython.display.clear_output()\n",
    "val_performance['Residual LSTM'] = residual_lstm.evaluate(wide_window.val)\n",
    "performance['Residual LSTM'] = residual_lstm.evaluate(wide_window.test, verbose=0)\n",
    "print()"
   ]
  },
  {
   "cell_type": "markdown",
   "metadata": {
    "id": "I42Er9Du6co1"
   },
   "source": [
    "#### Performance"
   ]
  },
  {
   "cell_type": "markdown",
   "metadata": {
    "id": "LZxR38P_6pUi"
   },
   "source": [
    "Here is the overall performance for these multi-output models."
   ]
  },
  {
   "cell_type": "code",
   "execution_count": null,
   "metadata": {
    "execution": {
     "iopub.execute_input": "2022-01-26T05:57:48.890747Z",
     "iopub.status.busy": "2022-01-26T05:57:48.890122Z",
     "iopub.status.idle": "2022-01-26T05:57:49.023104Z",
     "shell.execute_reply": "2022-01-26T05:57:49.023834Z"
    },
    "id": "6XgTK9tnr7rc"
   },
   "outputs": [],
   "source": [
    "x = np.arange(len(performance))\n",
    "width = 0.3\n",
    "\n",
    "metric_name = 'mean_absolute_error'\n",
    "metric_index = lstm_model.metrics_names.index('mean_absolute_error')\n",
    "val_mae = [v[metric_index] for v in val_performance.values()]\n",
    "test_mae = [v[metric_index] for v in performance.values()]\n",
    "\n",
    "plt.bar(x - 0.17, val_mae, width, label='Validation')\n",
    "plt.bar(x + 0.17, test_mae, width, label='Test')\n",
    "plt.xticks(ticks=x, labels=performance.keys(),\n",
    "           rotation=45)\n",
    "plt.ylabel('MAE (average over all outputs)')\n",
    "_ = plt.legend()"
   ]
  },
  {
   "cell_type": "code",
   "execution_count": null,
   "metadata": {
    "execution": {
     "iopub.execute_input": "2022-01-26T05:57:49.030650Z",
     "iopub.status.busy": "2022-01-26T05:57:49.029710Z",
     "iopub.status.idle": "2022-01-26T05:57:49.032753Z",
     "shell.execute_reply": "2022-01-26T05:57:49.033405Z"
    },
    "id": "URz3ajCc6kBj"
   },
   "outputs": [],
   "source": [
    "for name, value in performance.items():\n",
    "  print(f'{name:15s}: {value[1]:0.4f}')"
   ]
  },
  {
   "cell_type": "markdown",
   "metadata": {
    "id": "_Vt2MJhNxwPU"
   },
   "source": [
    "The above performances are averaged across all model outputs."
   ]
  },
  {
   "cell_type": "markdown",
   "metadata": {
    "id": "eYokb7Om2YbK"
   },
   "source": [
    "## Multi-step models\n",
    "\n",
    "Both the single-output and multiple-output models in the previous sections made **single time step predictions**, one hour into the future.\n",
    "\n",
    "This section looks at how to expand these models to make **multiple time step predictions**.\n",
    "\n",
    "In a multi-step prediction, the model needs to learn to predict a range of future values. Thus, unlike a single step model, where only a single future point is predicted, a multi-step model predicts a sequence of the future values.\n",
    "\n",
    "There are two rough approaches to this:\n",
    "\n",
    "1. Single shot predictions where the entire time series is predicted at once.\n",
    "2. Autoregressive predictions where the model only makes single step predictions and its output is fed back as its input.\n",
    "\n",
    "In this section all the models will predict **all the features across all output time steps**.\n"
   ]
  },
  {
   "cell_type": "markdown",
   "metadata": {
    "id": "WFsDAwVt4_rq"
   },
   "source": [
    "For the multi-step model, the training data again consists of hourly samples. However, here, the models will learn to predict 24 hours into the future, given 24 hours of the past.\n",
    "\n",
    "Here is a `Window` object that generates these slices from the dataset:"
   ]
  },
  {
   "cell_type": "code",
   "execution_count": null,
   "metadata": {
    "execution": {
     "iopub.execute_input": "2022-01-26T05:57:49.040519Z",
     "iopub.status.busy": "2022-01-26T05:57:49.039484Z",
     "iopub.status.idle": "2022-01-26T05:57:49.742840Z",
     "shell.execute_reply": "2022-01-26T05:57:49.743211Z"
    },
    "id": "1cFYtsz6XiGw"
   },
   "outputs": [],
   "source": [
    "OUT_STEPS = 24\n",
    "multi_window = WindowGenerator(input_width=24,\n",
    "                               label_width=OUT_STEPS,\n",
    "                               shift=OUT_STEPS)\n",
    "\n",
    "multi_window.plot()\n",
    "multi_window"
   ]
  },
  {
   "cell_type": "markdown",
   "metadata": {
    "id": "5lg8SInh9Jzd"
   },
   "source": [
    "### Baselines"
   ]
  },
  {
   "cell_type": "markdown",
   "metadata": {
    "id": "axwpoWYOApJL"
   },
   "source": [
    "A simple baseline for this task is to repeat the last input time step for the required number of output time steps:\n",
    "\n",
    "![Repeat the last input, for each output step](images/multistep_last.png)"
   ]
  },
  {
   "cell_type": "code",
   "execution_count": null,
   "metadata": {
    "execution": {
     "iopub.execute_input": "2022-01-26T05:57:49.750409Z",
     "iopub.status.busy": "2022-01-26T05:57:49.749638Z",
     "iopub.status.idle": "2022-01-26T05:57:51.558361Z",
     "shell.execute_reply": "2022-01-26T05:57:51.558759Z"
    },
    "id": "_5iaHSaJ9Rxv"
   },
   "outputs": [],
   "source": [
    "class MultiStepLastBaseline(tf.keras.Model):\n",
    "  def call(self, inputs):\n",
    "    return tf.tile(inputs[:, -1:, :], [1, OUT_STEPS, 1])\n",
    "\n",
    "last_baseline = MultiStepLastBaseline()\n",
    "last_baseline.compile(loss=tf.losses.MeanSquaredError(),\n",
    "                      metrics=[tf.metrics.MeanAbsoluteError()])\n",
    "\n",
    "multi_val_performance = {}\n",
    "multi_performance = {}\n",
    "\n",
    "multi_val_performance['Last'] = last_baseline.evaluate(multi_window.val)\n",
    "multi_performance['Last'] = last_baseline.evaluate(multi_window.test, verbose=0)\n",
    "multi_window.plot(last_baseline)"
   ]
  },
  {
   "cell_type": "markdown",
   "metadata": {
    "id": "AvHZ93ObAfMA"
   },
   "source": [
    "Since this task is to predict 24 hours into the future, given 24 hours of the past, another simple approach is to repeat the previous day, assuming tomorrow will be similar:\n",
    "\n",
    "![Repeat the previous day](images/multistep_repeat.png)"
   ]
  },
  {
   "cell_type": "code",
   "execution_count": null,
   "metadata": {
    "execution": {
     "iopub.execute_input": "2022-01-26T05:57:51.565438Z",
     "iopub.status.busy": "2022-01-26T05:57:51.564802Z",
     "iopub.status.idle": "2022-01-26T05:57:53.367234Z",
     "shell.execute_reply": "2022-01-26T05:57:53.367651Z"
    },
    "id": "L8Y1uMhGwIRs"
   },
   "outputs": [],
   "source": [
    "class RepeatBaseline(tf.keras.Model):\n",
    "  def call(self, inputs):\n",
    "    return inputs\n",
    "\n",
    "repeat_baseline = RepeatBaseline()\n",
    "repeat_baseline.compile(loss=tf.losses.MeanSquaredError(),\n",
    "                        metrics=[tf.metrics.MeanAbsoluteError()])\n",
    "\n",
    "multi_val_performance['Repeat'] = repeat_baseline.evaluate(multi_window.val)\n",
    "multi_performance['Repeat'] = repeat_baseline.evaluate(multi_window.test, verbose=0)\n",
    "multi_window.plot(repeat_baseline)"
   ]
  },
  {
   "cell_type": "markdown",
   "metadata": {
    "id": "tbndS-ct9C2Q"
   },
   "source": [
    "### Single-shot models\n",
    "\n",
    "One high-level approach to this problem is to use a \"single-shot\" model, where the model makes the entire sequence prediction in a single step.\n",
    "\n",
    "This can be implemented efficiently as a `tf.keras.layers.Dense` with `OUT_STEPS*features` output units. The model just needs to reshape that output to the required `(OUTPUT_STEPS, features)`."
   ]
  },
  {
   "cell_type": "markdown",
   "metadata": {
    "id": "NCKS4m1VKrDQ"
   },
   "source": [
    "#### Linear\n",
    "\n",
    "A simple linear model based on the last input time step does better than either baseline, but is underpowered. The model needs to predict `OUTPUT_STEPS` time steps, from a single input time step with a linear projection. It can only capture a low-dimensional slice of the behavior, likely based mainly on the time of day and time of year.\n",
    "\n",
    "![Predict all timesteps from the last time-step](images/multistep_dense.png)"
   ]
  },
  {
   "cell_type": "code",
   "execution_count": null,
   "metadata": {
    "execution": {
     "iopub.execute_input": "2022-01-26T05:57:53.376419Z",
     "iopub.status.busy": "2022-01-26T05:57:53.375787Z",
     "iopub.status.idle": "2022-01-26T05:59:14.173047Z",
     "shell.execute_reply": "2022-01-26T05:59:14.173451Z"
    },
    "id": "kfRz_WVhIQcd"
   },
   "outputs": [],
   "source": [
    "multi_linear_model = tf.keras.Sequential([\n",
    "    # Take the last time-step.\n",
    "    # Shape [batch, time, features] => [batch, 1, features]\n",
    "    tf.keras.layers.Lambda(lambda x: x[:, -1:, :]),\n",
    "    # Shape => [batch, 1, out_steps*features]\n",
    "    tf.keras.layers.Dense(OUT_STEPS*num_features,\n",
    "                          kernel_initializer=tf.initializers.zeros()),\n",
    "    # Shape => [batch, out_steps, features]\n",
    "    tf.keras.layers.Reshape([OUT_STEPS, num_features])\n",
    "])\n",
    "\n",
    "history = compile_and_fit(multi_linear_model, multi_window)\n",
    "\n",
    "IPython.display.clear_output()\n",
    "multi_val_performance['Linear'] = multi_linear_model.evaluate(multi_window.val)\n",
    "multi_performance['Linear'] = multi_linear_model.evaluate(multi_window.test, verbose=0)\n",
    "multi_window.plot(multi_linear_model)"
   ]
  },
  {
   "cell_type": "markdown",
   "metadata": {
    "id": "zi2TMHk2IRrh"
   },
   "source": [
    "#### Dense\n",
    "\n",
    "Adding a `tf.keras.layers.Dense` between the input and output gives the linear model more power, but is still only based on a single input time step."
   ]
  },
  {
   "cell_type": "code",
   "execution_count": null,
   "metadata": {
    "execution": {
     "iopub.execute_input": "2022-01-26T05:59:14.183051Z",
     "iopub.status.busy": "2022-01-26T05:59:14.182462Z",
     "iopub.status.idle": "2022-01-26T05:59:52.576436Z",
     "shell.execute_reply": "2022-01-26T05:59:52.576834Z"
    },
    "id": "jezm-BKaGj91"
   },
   "outputs": [],
   "source": [
    "multi_dense_model = tf.keras.Sequential([\n",
    "    # Take the last time step.\n",
    "    # Shape [batch, time, features] => [batch, 1, features]\n",
    "    tf.keras.layers.Lambda(lambda x: x[:, -1:, :]),\n",
    "    # Shape => [batch, 1, dense_units]\n",
    "    tf.keras.layers.Dense(512, activation='relu'),\n",
    "    # Shape => [batch, out_steps*features]\n",
    "    tf.keras.layers.Dense(OUT_STEPS*num_features,\n",
    "                          kernel_initializer=tf.initializers.zeros()),\n",
    "    # Shape => [batch, out_steps, features]\n",
    "    tf.keras.layers.Reshape([OUT_STEPS, num_features])\n",
    "])\n",
    "\n",
    "history = compile_and_fit(multi_dense_model, multi_window)\n",
    "\n",
    "IPython.display.clear_output()\n",
    "multi_val_performance['Dense'] = multi_dense_model.evaluate(multi_window.val)\n",
    "multi_performance['Dense'] = multi_dense_model.evaluate(multi_window.test, verbose=0)\n",
    "multi_window.plot(multi_dense_model)"
   ]
  },
  {
   "cell_type": "markdown",
   "metadata": {
    "id": "icsBAjCzMaMl"
   },
   "source": [
    "#### CNN"
   ]
  },
  {
   "cell_type": "markdown",
   "metadata": {
    "id": "34lCZrWYNBwd"
   },
   "source": [
    "A convolutional model makes predictions based on a fixed-width history, which may lead to better performance than the dense model since it can see how things are changing over time:\n",
    "\n",
    "![A convolutional model sees how things change over time](images/multistep_conv.png)"
   ]
  },
  {
   "cell_type": "code",
   "execution_count": null,
   "metadata": {
    "execution": {
     "iopub.execute_input": "2022-01-26T05:59:52.585730Z",
     "iopub.status.busy": "2022-01-26T05:59:52.585163Z",
     "iopub.status.idle": "2022-01-26T06:00:47.026067Z",
     "shell.execute_reply": "2022-01-26T06:00:47.026453Z"
    },
    "id": "0xJoIP6PMWMI"
   },
   "outputs": [],
   "source": [
    "CONV_WIDTH = 3\n",
    "multi_conv_model = tf.keras.Sequential([\n",
    "    # Shape [batch, time, features] => [batch, CONV_WIDTH, features]\n",
    "    tf.keras.layers.Lambda(lambda x: x[:, -CONV_WIDTH:, :]),\n",
    "    # Shape => [batch, 1, conv_units]\n",
    "    tf.keras.layers.Conv1D(256, activation='relu', kernel_size=(CONV_WIDTH)),\n",
    "    # Shape => [batch, 1,  out_steps*features]\n",
    "    tf.keras.layers.Dense(OUT_STEPS*num_features,\n",
    "                          kernel_initializer=tf.initializers.zeros()),\n",
    "    # Shape => [batch, out_steps, features]\n",
    "    tf.keras.layers.Reshape([OUT_STEPS, num_features])\n",
    "])\n",
    "\n",
    "history = compile_and_fit(multi_conv_model, multi_window)\n",
    "\n",
    "IPython.display.clear_output()\n",
    "\n",
    "multi_val_performance['Conv'] = multi_conv_model.evaluate(multi_window.val)\n",
    "multi_performance['Conv'] = multi_conv_model.evaluate(multi_window.test, verbose=0)\n",
    "multi_window.plot(multi_conv_model)"
   ]
  },
  {
   "cell_type": "markdown",
   "metadata": {
    "id": "weBjeZAFJOP4"
   },
   "source": [
    "#### RNN"
   ]
  },
  {
   "cell_type": "markdown",
   "metadata": {
    "id": "8022xOKxOO92"
   },
   "source": [
    "A recurrent model can learn to use a long history of inputs, if it's relevant to the predictions the model is making. Here the model will accumulate internal state for 24 hours, before making a single prediction for the next 24 hours.\n",
    "\n",
    "In this single-shot format, the LSTM only needs to produce an output at the last time step, so set `return_sequences=False` in `tf.keras.layers.LSTM`.\n",
    "\n",
    "![The LSTM accumulates state over the input window, and makes a single prediction for the next 24 hours](images/multistep_lstm.png)\n"
   ]
  },
  {
   "cell_type": "code",
   "execution_count": null,
   "metadata": {
    "execution": {
     "iopub.execute_input": "2022-01-26T06:00:47.036781Z",
     "iopub.status.busy": "2022-01-26T06:00:47.036188Z",
     "iopub.status.idle": "2022-01-26T06:01:55.039296Z",
     "shell.execute_reply": "2022-01-26T06:01:55.039712Z"
    },
    "id": "Bf1ks6RTzF64"
   },
   "outputs": [],
   "source": [
    "multi_lstm_model = tf.keras.Sequential([\n",
    "    # Shape [batch, time, features] => [batch, lstm_units].\n",
    "    # Adding more `lstm_units` just overfits more quickly.\n",
    "    tf.keras.layers.LSTM(32, return_sequences=False),\n",
    "    # Shape => [batch, out_steps*features].\n",
    "    tf.keras.layers.Dense(OUT_STEPS*num_features,\n",
    "                          kernel_initializer=tf.initializers.zeros()),\n",
    "    # Shape => [batch, out_steps, features].\n",
    "    tf.keras.layers.Reshape([OUT_STEPS, num_features])\n",
    "])\n",
    "\n",
    "history = compile_and_fit(multi_lstm_model, multi_window)\n",
    "\n",
    "IPython.display.clear_output()\n",
    "\n",
    "multi_val_performance['LSTM'] = multi_lstm_model.evaluate(multi_window.val)\n",
    "multi_performance['LSTM'] = multi_lstm_model.evaluate(multi_window.test, verbose=0)\n",
    "multi_window.plot(multi_lstm_model)"
   ]
  },
  {
   "cell_type": "markdown",
   "metadata": {
    "id": "d5n-1cDW12Vo"
   },
   "source": [
    "### Advanced: Autoregressive model\n",
    "\n",
    "The above models all predict the entire output sequence in a single step.\n",
    "\n",
    "In some cases it may be helpful for the model to decompose this prediction into individual time steps. Then, each model's output can be fed back into itself at each step and predictions can be made conditioned on the previous one, like in the classic <a href=\"https://arxiv.org/abs/1308.0850\" class=\"external\">Generating Sequences With Recurrent Neural Networks</a>.\n",
    "\n",
    "One clear advantage to this style of model is that it can be set up to produce output with a varying length.\n",
    "\n",
    "You could take any of the single-step multi-output models trained in the first half of this tutorial and run in an autoregressive feedback loop, but here you'll focus on building a model that's been explicitly trained to do that.\n",
    "\n",
    "![Feedback a model's output to its input](images/multistep_autoregressive.png)"
   ]
  },
  {
   "cell_type": "markdown",
   "metadata": {
    "id": "PKRreBbULRXY"
   },
   "source": [
    "#### RNN\n",
    "\n",
    "This tutorial only builds an autoregressive RNN model, but this pattern could be applied to any model that was designed to output a single time step.\n",
    "\n",
    "The model will have the same basic form as the single-step LSTM models from earlier: a `tf.keras.layers.LSTM` layer followed by a `tf.keras.layers.Dense` layer that converts the `LSTM` layer's outputs to model predictions.\n",
    "\n",
    "A `tf.keras.layers.LSTM` is a `tf.keras.layers.LSTMCell` wrapped in the higher level `tf.keras.layers.RNN` that manages the state and sequence results for you (Check out the [Recurrent Neural Networks (RNN) with Keras](https://www.tensorflow.org/guide/keras/rnn) guide for details).\n",
    "\n",
    "In this case, the model has to manually manage the inputs for each step, so it uses `tf.keras.layers.LSTMCell` directly for the lower level, single time step interface."
   ]
  },
  {
   "cell_type": "code",
   "execution_count": null,
   "metadata": {
    "execution": {
     "iopub.execute_input": "2022-01-26T06:01:55.045246Z",
     "iopub.status.busy": "2022-01-26T06:01:55.044674Z",
     "iopub.status.idle": "2022-01-26T06:01:55.046760Z",
     "shell.execute_reply": "2022-01-26T06:01:55.046357Z"
    },
    "id": "s5tz3Nu0R5JG"
   },
   "outputs": [],
   "source": [
    "class FeedBack(tf.keras.Model):\n",
    "  def __init__(self, units, out_steps):\n",
    "    super().__init__()\n",
    "    self.out_steps = out_steps\n",
    "    self.units = units\n",
    "    self.lstm_cell = tf.keras.layers.LSTMCell(units)\n",
    "    # Also wrap the LSTMCell in an RNN to simplify the `warmup` method.\n",
    "    self.lstm_rnn = tf.keras.layers.RNN(self.lstm_cell, return_state=True)\n",
    "    self.dense = tf.keras.layers.Dense(num_features)"
   ]
  },
  {
   "cell_type": "code",
   "execution_count": null,
   "metadata": {
    "execution": {
     "iopub.execute_input": "2022-01-26T06:01:55.051348Z",
     "iopub.status.busy": "2022-01-26T06:01:55.050750Z",
     "iopub.status.idle": "2022-01-26T06:01:55.058457Z",
     "shell.execute_reply": "2022-01-26T06:01:55.058786Z"
    },
    "id": "2OXVM9G1U7xR"
   },
   "outputs": [],
   "source": [
    "feedback_model = FeedBack(units=32, out_steps=OUT_STEPS)"
   ]
  },
  {
   "cell_type": "markdown",
   "metadata": {
    "id": "ph5uFSfTUNho"
   },
   "source": [
    "The first method this model needs is a `warmup` method to initialize its internal state based on the inputs. Once trained, this state will capture the relevant parts of the input history. This is equivalent to the single-step `LSTM` model from earlier:"
   ]
  },
  {
   "cell_type": "code",
   "execution_count": null,
   "metadata": {
    "execution": {
     "iopub.execute_input": "2022-01-26T06:01:55.063123Z",
     "iopub.status.busy": "2022-01-26T06:01:55.062568Z",
     "iopub.status.idle": "2022-01-26T06:01:55.064190Z",
     "shell.execute_reply": "2022-01-26T06:01:55.064518Z"
    },
    "id": "vM2K_LLdRjDZ"
   },
   "outputs": [],
   "source": [
    "def warmup(self, inputs):\n",
    "  # inputs.shape => (batch, time, features)\n",
    "  # x.shape => (batch, lstm_units)\n",
    "  x, *state = self.lstm_rnn(inputs)\n",
    "\n",
    "  # predictions.shape => (batch, features)\n",
    "  prediction = self.dense(x)\n",
    "  return prediction, state\n",
    "\n",
    "FeedBack.warmup = warmup"
   ]
  },
  {
   "cell_type": "markdown",
   "metadata": {
    "id": "6JkaSYaZ9eB7"
   },
   "source": [
    "This method returns a single time-step prediction and the internal state of the `LSTM`:"
   ]
  },
  {
   "cell_type": "code",
   "execution_count": null,
   "metadata": {
    "execution": {
     "iopub.execute_input": "2022-01-26T06:01:55.069241Z",
     "iopub.status.busy": "2022-01-26T06:01:55.068679Z",
     "iopub.status.idle": "2022-01-26T06:01:55.108292Z",
     "shell.execute_reply": "2022-01-26T06:01:55.108649Z"
    },
    "id": "w9Fz6NTKXXwU"
   },
   "outputs": [],
   "source": [
    "prediction, state = feedback_model.warmup(multi_window.example[0])\n",
    "prediction.shape"
   ]
  },
  {
   "cell_type": "markdown",
   "metadata": {
    "id": "S_ZdvPjdX3y3"
   },
   "source": [
    "With the `RNN`'s state, and an initial prediction you can now continue iterating the model feeding the predictions at each step back as the input.\n",
    "\n",
    "The simplest approach for collecting the output predictions is to use a Python list and a `tf.stack` after the loop."
   ]
  },
  {
   "cell_type": "markdown",
   "metadata": {
    "id": "yotTad3nZXQU"
   },
   "source": [
    "Note: Stacking a Python list like this only works with eager-execution, using `Model.compile(..., run_eagerly=True)` for training, or with a fixed length output. For a dynamic output length, you would need to use a `tf.TensorArray` instead of a Python list, and `tf.range` instead of the Python `range`."
   ]
  },
  {
   "cell_type": "code",
   "execution_count": null,
   "metadata": {
    "execution": {
     "iopub.execute_input": "2022-01-26T06:01:55.114214Z",
     "iopub.status.busy": "2022-01-26T06:01:55.113661Z",
     "iopub.status.idle": "2022-01-26T06:01:55.115444Z",
     "shell.execute_reply": "2022-01-26T06:01:55.115038Z"
    },
    "id": "g1GRDu3mZtr9"
   },
   "outputs": [],
   "source": [
    "def call(self, inputs, training=None):\n",
    "  # Use a TensorArray to capture dynamically unrolled outputs.\n",
    "  predictions = []\n",
    "  # Initialize the LSTM state.\n",
    "  prediction, state = self.warmup(inputs)\n",
    "\n",
    "  # Insert the first prediction.\n",
    "  predictions.append(prediction)\n",
    "\n",
    "  # Run the rest of the prediction steps.\n",
    "  for n in range(1, self.out_steps):\n",
    "    # Use the last prediction as input.\n",
    "    x = prediction\n",
    "    # Execute one lstm step.\n",
    "    x, state = self.lstm_cell(x, states=state,\n",
    "                              training=training)\n",
    "    # Convert the lstm output to a prediction.\n",
    "    prediction = self.dense(x)\n",
    "    # Add the prediction to the output.\n",
    "    predictions.append(prediction)\n",
    "\n",
    "  # predictions.shape => (time, batch, features)\n",
    "  predictions = tf.stack(predictions)\n",
    "  # predictions.shape => (batch, time, features)\n",
    "  predictions = tf.transpose(predictions, [1, 0, 2])\n",
    "  return predictions\n",
    "\n",
    "FeedBack.call = call"
   ]
  },
  {
   "cell_type": "markdown",
   "metadata": {
    "id": "Ubop-YWp15XW"
   },
   "source": [
    "Test run this model on the example inputs:"
   ]
  },
  {
   "cell_type": "code",
   "execution_count": null,
   "metadata": {
    "execution": {
     "iopub.execute_input": "2022-01-26T06:01:55.119764Z",
     "iopub.status.busy": "2022-01-26T06:01:55.119191Z",
     "iopub.status.idle": "2022-01-26T06:01:55.175197Z",
     "shell.execute_reply": "2022-01-26T06:01:55.175554Z"
    },
    "id": "Xja83zEYaM2D"
   },
   "outputs": [],
   "source": [
    "print('Output shape (batch, time, features): ', feedback_model(multi_window.example[0]).shape)"
   ]
  },
  {
   "cell_type": "markdown",
   "metadata": {
    "id": "qMs0rYB8be9M"
   },
   "source": [
    "Now, train the model:"
   ]
  },
  {
   "cell_type": "code",
   "execution_count": null,
   "metadata": {
    "execution": {
     "iopub.execute_input": "2022-01-26T06:01:55.180672Z",
     "iopub.status.busy": "2022-01-26T06:01:55.179931Z",
     "iopub.status.idle": "2022-01-26T06:13:10.111975Z",
     "shell.execute_reply": "2022-01-26T06:13:10.112381Z"
    },
    "id": "VBRVG2hnNyrO"
   },
   "outputs": [],
   "source": [
    "history = compile_and_fit(feedback_model, multi_window)\n",
    "\n",
    "IPython.display.clear_output()\n",
    "\n",
    "multi_val_performance['AR LSTM'] = feedback_model.evaluate(multi_window.val)\n",
    "multi_performance['AR LSTM'] = feedback_model.evaluate(multi_window.test, verbose=0)\n",
    "multi_window.plot(feedback_model)"
   ]
  },
  {
   "cell_type": "markdown",
   "metadata": {
    "id": "hGjcJsAQJUkI"
   },
   "source": [
    "### Performance"
   ]
  },
  {
   "cell_type": "markdown",
   "metadata": {
    "id": "sODAwr2ndtDB"
   },
   "source": [
    "There are clearly diminishing returns as a function of model complexity on this problem:"
   ]
  },
  {
   "cell_type": "code",
   "execution_count": null,
   "metadata": {
    "execution": {
     "iopub.execute_input": "2022-01-26T06:13:10.154371Z",
     "iopub.status.busy": "2022-01-26T06:13:10.140301Z",
     "iopub.status.idle": "2022-01-26T06:13:10.247962Z",
     "shell.execute_reply": "2022-01-26T06:13:10.248306Z"
    },
    "id": "WZwWBA8S6B3L"
   },
   "outputs": [],
   "source": [
    "x = np.arange(len(multi_performance))\n",
    "width = 0.3\n",
    "\n",
    "metric_name = 'mean_absolute_error'\n",
    "metric_index = lstm_model.metrics_names.index('mean_absolute_error')\n",
    "val_mae = [v[metric_index] for v in multi_val_performance.values()]\n",
    "test_mae = [v[metric_index] for v in multi_performance.values()]\n",
    "\n",
    "plt.bar(x - 0.17, val_mae, width, label='Validation')\n",
    "plt.bar(x + 0.17, test_mae, width, label='Test')\n",
    "plt.xticks(ticks=x, labels=multi_performance.keys(),\n",
    "           rotation=45)\n",
    "plt.ylabel(f'MAE (average over all times and outputs)')\n",
    "_ = plt.legend()"
   ]
  },
  {
   "cell_type": "markdown",
   "metadata": {
    "id": "Zq3hUsedCEmJ"
   },
   "source": [
    "The metrics for the multi-output models in the first half of this tutorial show the performance averaged across all output features. These performances are similar but also averaged across output time steps. "
   ]
  },
  {
   "cell_type": "code",
   "execution_count": null,
   "metadata": {
    "execution": {
     "iopub.execute_input": "2022-01-26T06:13:10.253155Z",
     "iopub.status.busy": "2022-01-26T06:13:10.252390Z",
     "iopub.status.idle": "2022-01-26T06:13:10.255639Z",
     "shell.execute_reply": "2022-01-26T06:13:10.256007Z"
    },
    "id": "jKq3eAIvH4Db"
   },
   "outputs": [],
   "source": [
    "for name, value in multi_performance.items():\n",
    "  print(f'{name:8s}: {value[1]:0.4f}')"
   ]
  },
  {
   "cell_type": "markdown",
   "metadata": {
    "id": "MpBFwfnaHP23"
   },
   "source": [
    "The gains achieved going from a dense model to convolutional and recurrent models are only a few percent (if any), and the autoregressive model performed clearly worse. So these more complex approaches may not be worth while on **this** problem, but there was no way to know without trying, and these models could be helpful for **your** problem."
   ]
  },
  {
   "cell_type": "markdown",
   "metadata": {
    "id": "pOzaIRYBhqwg"
   },
   "source": [
    "## Next steps\n",
    "\n",
    "This tutorial was a quick introduction to time series forecasting using TensorFlow.\n",
    "\n",
    "To learn more, refer to:\n",
    "\n",
    "- Chapter 15 of <a href=\"https://www.oreilly.com/library/view/hands-on-machine-learning/9781492032632/\" class=\"external\">Hands-on Machine Learning with Scikit-Learn, Keras, and TensorFlow</a>, 2nd Edition.\n",
    "- Chapter 6 of <a href=\"https://www.manning.com/books/deep-learning-with-python\" class=\"external\">Deep Learning with Python</a>.\n",
    "- Lesson 8 of <a href=\"https://www.udacity.com/course/intro-to-tensorflow-for-deep-learning--ud187\" class=\"external\">Udacity's intro to TensorFlow for deep learning</a>, including the <a href=\"https://github.com/tensorflow/examples/tree/master/courses/udacity_intro_to_tensorflow_for_deep_learning\" class=\"external\">exercise notebooks</a>.\n",
    "\n",
    "Also, remember that you can implement any <a href=\"https://otexts.com/fpp2/index.html\" class=\"external\">classical time series model</a> in TensorFlow—this tutorial just focuses on TensorFlow's built-in functionality.\n"
   ]
  }
 ],
 "metadata": {
  "accelerator": "GPU",
  "colab": {
   "collapsed_sections": [],
   "name": "time_series.ipynb",
   "toc_visible": true
  },
  "kernelspec": {
   "display_name": "Python 3",
   "language": "python",
   "name": "python3"
  },
  "language_info": {
   "codemirror_mode": {
    "name": "ipython",
    "version": 3
   },
   "file_extension": ".py",
   "mimetype": "text/x-python",
   "name": "python",
   "nbconvert_exporter": "python",
   "pygments_lexer": "ipython3",
   "version": "3.8.8"
  }
 },
 "nbformat": 4,
 "nbformat_minor": 1
}
